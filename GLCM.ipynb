{
  "nbformat": 4,
  "nbformat_minor": 0,
  "metadata": {
    "colab": {
      "provenance": [],
      "authorship_tag": "ABX9TyPh00LZjdo3Tbe4Zpv2X77o",
      "include_colab_link": true
    },
    "kernelspec": {
      "name": "python3",
      "display_name": "Python 3"
    },
    "language_info": {
      "name": "python"
    }
  },
  "cells": [
    {
      "cell_type": "markdown",
      "metadata": {
        "id": "view-in-github",
        "colab_type": "text"
      },
      "source": [
        "<a href=\"https://colab.research.google.com/github/ShounakDas101/AIML_Hari/blob/main/GLCM.ipynb\" target=\"_parent\"><img src=\"https://colab.research.google.com/assets/colab-badge.svg\" alt=\"Open In Colab\"/></a>"
      ]
    },
    {
      "cell_type": "code",
      "execution_count": 2,
      "metadata": {
        "id": "zyzUsbbitHAc",
        "colab": {
          "base_uri": "https://localhost:8080/",
          "height": 245
        },
        "outputId": "943d9dee-00cb-483f-ee7b-d1f21c01dc38"
      },
      "outputs": [
        {
          "output_type": "error",
          "ename": "FileNotFoundError",
          "evalue": "ignored",
          "traceback": [
            "\u001b[0;31m---------------------------------------------------------------------------\u001b[0m",
            "\u001b[0;31mFileNotFoundError\u001b[0m                         Traceback (most recent call last)",
            "\u001b[0;32m<ipython-input-2-b58ff97fba3a>\u001b[0m in \u001b[0;36m<cell line: 35>\u001b[0;34m()\u001b[0m\n\u001b[1;32m     33\u001b[0m \u001b[0mlabels\u001b[0m \u001b[0;34m=\u001b[0m \u001b[0;34m[\u001b[0m\u001b[0;34m]\u001b[0m\u001b[0;34m\u001b[0m\u001b[0;34m\u001b[0m\u001b[0m\n\u001b[1;32m     34\u001b[0m \u001b[0mdescs\u001b[0m \u001b[0;34m=\u001b[0m \u001b[0;34m[\u001b[0m\u001b[0;34m]\u001b[0m\u001b[0;34m\u001b[0m\u001b[0;34m\u001b[0m\u001b[0m\n\u001b[0;32m---> 35\u001b[0;31m \u001b[0;32mfor\u001b[0m \u001b[0mfolder\u001b[0m \u001b[0;32min\u001b[0m \u001b[0mos\u001b[0m\u001b[0;34m.\u001b[0m\u001b[0mlistdir\u001b[0m\u001b[0;34m(\u001b[0m\u001b[0mdataset_dir\u001b[0m\u001b[0;34m)\u001b[0m\u001b[0;34m:\u001b[0m\u001b[0;34m\u001b[0m\u001b[0;34m\u001b[0m\u001b[0m\n\u001b[0m\u001b[1;32m     36\u001b[0m     \u001b[0;32mfor\u001b[0m \u001b[0msub_folder\u001b[0m \u001b[0;32min\u001b[0m \u001b[0mos\u001b[0m\u001b[0;34m.\u001b[0m\u001b[0mlistdir\u001b[0m\u001b[0;34m(\u001b[0m\u001b[0mos\u001b[0m\u001b[0;34m.\u001b[0m\u001b[0mpath\u001b[0m\u001b[0;34m.\u001b[0m\u001b[0mjoin\u001b[0m\u001b[0;34m(\u001b[0m\u001b[0mdataset_dir\u001b[0m\u001b[0;34m,\u001b[0m \u001b[0mfolder\u001b[0m\u001b[0;34m)\u001b[0m\u001b[0;34m)\u001b[0m\u001b[0;34m:\u001b[0m\u001b[0;34m\u001b[0m\u001b[0;34m\u001b[0m\u001b[0m\n\u001b[1;32m     37\u001b[0m         \u001b[0msub_folder_files\u001b[0m \u001b[0;34m=\u001b[0m \u001b[0mos\u001b[0m\u001b[0;34m.\u001b[0m\u001b[0mlistdir\u001b[0m\u001b[0;34m(\u001b[0m\u001b[0mos\u001b[0m\u001b[0;34m.\u001b[0m\u001b[0mpath\u001b[0m\u001b[0;34m.\u001b[0m\u001b[0mjoin\u001b[0m\u001b[0;34m(\u001b[0m\u001b[0mdataset_dir\u001b[0m\u001b[0;34m,\u001b[0m \u001b[0mfolder\u001b[0m\u001b[0;34m,\u001b[0m \u001b[0msub_folder\u001b[0m\u001b[0;34m)\u001b[0m\u001b[0;34m)\u001b[0m\u001b[0;34m\u001b[0m\u001b[0;34m\u001b[0m\u001b[0m\n",
            "\u001b[0;31mFileNotFoundError\u001b[0m: [Errno 2] No such file or directory: '/content/drive/MyDrive/DATASET'"
          ]
        }
      ],
      "source": [
        "import numpy as np\n",
        "import cv2\n",
        "import os\n",
        "import re\n",
        "\n",
        "# -------------------- Utility function ------------------------\n",
        "def normalize_label(str_):\n",
        "    str_ = str_.replace(\" \", \"\")\n",
        "    str_ = str_.translate(str_.maketrans(\"\",\"\", \"()\"))\n",
        "    str_ = str_.split(\"_\")\n",
        "    return ''.join(str_[:2])\n",
        "\n",
        "def normalize_desc(folder, sub_folder):\n",
        "    text = folder + \" - \" + sub_folder\n",
        "    text = re.sub(r'\\d+', '', text)\n",
        "    text = text.replace(\".\", \"\")\n",
        "    text = text.strip()\n",
        "    return text\n",
        "\n",
        "def print_progress(val, val_len, folder, sub_folder, filename, bar_size=10):\n",
        "    progr = \"#\"*round((val)*bar_size/val_len) + \" \"*round((val_len - (val))*bar_size/val_len)\n",
        "    if val == 0:\n",
        "        print(\"\", end = \"\\n\")\n",
        "    else:\n",
        "        print(\"[%s] folder : %s/%s/ ----> file : %s\" % (progr, folder, sub_folder, filename), end=\"\\r\")\n",
        "\n",
        "\n",
        "# -------------------- Load Dataset ------------------------\n",
        "\n",
        "dataset_dir = \"/content/drive/MyDrive/DATASET\"\n",
        "\n",
        "imgs = [] #list image matrix\n",
        "labels = []\n",
        "descs = []\n",
        "for folder in os.listdir(dataset_dir):\n",
        "    for sub_folder in os.listdir(os.path.join(dataset_dir, folder)):\n",
        "        sub_folder_files = os.listdir(os.path.join(dataset_dir, folder, sub_folder))\n",
        "        len_sub_folder = len(sub_folder_files) - 1\n",
        "        for i, filename in enumerate(sub_folder_files):\n",
        "            img = cv2.imread(os.path.join(dataset_dir, folder, sub_folder, filename))\n",
        "\n",
        "            gray = cv2.cvtColor(img, cv2.COLOR_BGR2GRAY)\n",
        "\n",
        "            h, w = gray.shape\n",
        "            ymin, ymax, xmin, xmax = h//3, h*2//3, w//3, w*2//3\n",
        "            crop = gray[ymin:ymax, xmin:xmax]\n",
        "\n",
        "            resize = cv2.resize(crop, (0,0), fx=0.5, fy=0.5)\n",
        "\n",
        "            imgs.append(resize)\n",
        "            labels.append(normalize_label(os.path.splitext(filename)[0]))\n",
        "            descs.append(normalize_desc(folder, sub_folder))\n",
        "\n",
        "            print_progress(i, len_sub_folder, folder, sub_folder, filename)"
      ]
    },
    {
      "cell_type": "code",
      "source": [
        "from google.colab.patches import cv2_imshow\n",
        "cv2_imshow(imgs[5])"
      ],
      "metadata": {
        "colab": {
          "base_uri": "https://localhost:8080/",
          "height": 192
        },
        "id": "W5Fgnlpo2qyD",
        "outputId": "32dd7f63-fb45-4311-84a5-791b4801cc56"
      },
      "execution_count": 3,
      "outputs": [
        {
          "output_type": "error",
          "ename": "IndexError",
          "evalue": "ignored",
          "traceback": [
            "\u001b[0;31m---------------------------------------------------------------------------\u001b[0m",
            "\u001b[0;31mIndexError\u001b[0m                                Traceback (most recent call last)",
            "\u001b[0;32m<ipython-input-3-854eb2ca57d1>\u001b[0m in \u001b[0;36m<cell line: 2>\u001b[0;34m()\u001b[0m\n\u001b[1;32m      1\u001b[0m \u001b[0;32mfrom\u001b[0m \u001b[0mgoogle\u001b[0m\u001b[0;34m.\u001b[0m\u001b[0mcolab\u001b[0m\u001b[0;34m.\u001b[0m\u001b[0mpatches\u001b[0m \u001b[0;32mimport\u001b[0m \u001b[0mcv2_imshow\u001b[0m\u001b[0;34m\u001b[0m\u001b[0;34m\u001b[0m\u001b[0m\n\u001b[0;32m----> 2\u001b[0;31m \u001b[0mcv2_imshow\u001b[0m\u001b[0;34m(\u001b[0m\u001b[0mimgs\u001b[0m\u001b[0;34m[\u001b[0m\u001b[0;36m5\u001b[0m\u001b[0;34m]\u001b[0m\u001b[0;34m)\u001b[0m\u001b[0;34m\u001b[0m\u001b[0;34m\u001b[0m\u001b[0m\n\u001b[0m",
            "\u001b[0;31mIndexError\u001b[0m: list index out of range"
          ]
        }
      ]
    },
    {
      "cell_type": "code",
      "source": [
        "from skimage.feature import greycomatrix, greycoprops\n",
        "\n",
        "# ----------------- calculate greycomatrix() & greycoprops() for angle 0, 45, 90, 135 ----------------------------------\n",
        "def calc_glcm_all_agls(img, label, props, dists=[5], agls=[0, np.pi/4, np.pi/2, 3*np.pi/4], lvl=256, sym=True, norm=True):\n",
        "\n",
        "    glcm = greycomatrix(img,\n",
        "                        distances=dists,\n",
        "                        angles=agls,\n",
        "                        levels=lvl,\n",
        "                        symmetric=sym,\n",
        "                        normed=norm)\n",
        "    feature = []\n",
        "    glcm_props = [propery for name in props for propery in greycoprops(glcm, name)[0]]\n",
        "    for item in glcm_props:\n",
        "            feature.append(item)\n",
        "    feature.append(label)\n",
        "\n",
        "    return feature\n",
        "\n",
        "\n",
        "# ----------------- call calc_glcm_all_agls() for all properties ----------------------------------\n",
        "properties = ['dissimilarity', 'correlation', 'homogeneity', 'contrast', 'ASM', 'energy']\n",
        "\n",
        "glcm_all_agls = []\n",
        "for img, label in zip(imgs, labels):\n",
        "    glcm_all_agls.append(\n",
        "            calc_glcm_all_agls(img,\n",
        "                                label,\n",
        "                                props=properties)\n",
        "                            )\n",
        "\n",
        "columns = []\n",
        "angles = ['0', '45', '90','135']\n",
        "for name in properties :\n",
        "    for ang in angles:\n",
        "        columns.append(name + \"_\" + ang)\n",
        "\n",
        "columns.append(\"label\")"
      ],
      "metadata": {
        "id": "qQfCn5gY2suK"
      },
      "execution_count": null,
      "outputs": []
    },
    {
      "cell_type": "code",
      "source": [
        "import pandas as pd\n",
        "\n",
        "# Create the pandas DataFrame for GLCM features data\n",
        "glcm_df = pd.DataFrame(glcm_all_agls,\n",
        "                      columns = columns)\n",
        "\n",
        "glcm_df.head(15)\n",
        ""
      ],
      "metadata": {
        "id": "JLhHaJTH2bPn"
      },
      "execution_count": null,
      "outputs": []
    }
  ]
}