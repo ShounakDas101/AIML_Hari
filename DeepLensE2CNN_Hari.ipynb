{
  "cells": [
    {
      "cell_type": "markdown",
      "metadata": {
        "id": "view-in-github",
        "colab_type": "text"
      },
      "source": [
        "<a href=\"https://colab.research.google.com/github/ShounakDas101/AIML_Hari/blob/main/DeepLensE2CNN_Hari.ipynb\" target=\"_parent\"><img src=\"https://colab.research.google.com/assets/colab-badge.svg\" alt=\"Open In Colab\"/></a>"
      ]
    },
    {
      "cell_type": "markdown",
      "id": "28a9bc22",
      "metadata": {
        "papermill": {
          "duration": 0.004836,
          "end_time": "2023-02-26T18:20:33.518827",
          "exception": false,
          "start_time": "2023-02-26T18:20:33.513991",
          "status": "completed"
        },
        "tags": [],
        "id": "28a9bc22"
      },
      "source": [
        "# Equivariant CNN\n"
      ]
    },
    {
      "cell_type": "code",
      "execution_count": 1,
      "id": "4913b545",
      "metadata": {
        "execution": {
          "iopub.execute_input": "2023-07-20T17:12:35.244759Z",
          "iopub.status.busy": "2023-07-20T17:12:35.244506Z",
          "iopub.status.idle": "2023-07-20T17:15:18.680963Z",
          "shell.execute_reply": "2023-07-20T17:15:18.678340Z"
        },
        "id": "4913b545"
      },
      "outputs": [],
      "source": [
        "# try:\n",
        "#     done\n",
        "# except:\n",
        "#     import os\n",
        "\n",
        "#     os.chdir(\"../../\")\n",
        "#     from utils.download import download\n",
        "#     from utils.extract import extract\n",
        "\n",
        "#     args = {\"model\": \"Model-1\"}\n",
        "#     download(args)\n",
        "#     extract(\"data/Model_I.tgz\", \"data/\")\n",
        "#     extract(\"data/Model_I_test.tgz\", \"data/\")\n",
        "#     done = True"
      ]
    },
    {
      "cell_type": "code",
      "execution_count": 2,
      "id": "7db64282",
      "metadata": {
        "_cell_guid": "b1076dfc-b9ad-4769-8c92-a6c4dae69d19",
        "_uuid": "8f2839f25d086af736a60e9eeb907d3b93b6e0e5",
        "execution": {
          "iopub.execute_input": "2023-07-20T17:15:18.685575Z",
          "iopub.status.busy": "2023-07-20T17:15:18.685319Z",
          "iopub.status.idle": "2023-07-20T17:15:21.958761Z",
          "shell.execute_reply": "2023-07-20T17:15:21.957986Z"
        },
        "papermill": {
          "duration": 4.22969,
          "end_time": "2023-02-26T18:20:37.753361",
          "exception": false,
          "start_time": "2023-02-26T18:20:33.523671",
          "status": "completed"
        },
        "tags": [],
        "id": "7db64282"
      },
      "outputs": [],
      "source": [
        "import gc\n",
        "import copy\n",
        "import warnings\n",
        "\n",
        "import matplotlib.pyplot as plt\n",
        "import numpy as np\n",
        "import torch\n",
        "import torch.optim as optim\n",
        "import torchvision.datasets as datasets\n",
        "import torchvision.transforms as transforms\n",
        "\n",
        "from itertools import cycle\n",
        "from PIL import Image\n",
        "from sklearn.metrics import (\n",
        "    auc,\n",
        "    confusion_matrix,\n",
        "    ConfusionMatrixDisplay,\n",
        "    roc_auc_score,\n",
        "    roc_curve,\n",
        ")\n",
        "from torch import optim\n",
        "from torch.utils.data import DataLoader\n",
        "from torchvision import datasets, transforms\n",
        "from torchvision.transforms import RandomRotation, Pad, Resize, ToTensor, Compose\n",
        "\n",
        "from tqdm import tqdm\n",
        "\n",
        "warnings.filterwarnings(\"ignore\")"
      ]
    },
    {
      "cell_type": "code",
      "execution_count": 3,
      "id": "492005b2",
      "metadata": {
        "id": "492005b2"
      },
      "outputs": [],
      "source": [
        "# images are padded to have shape 129x129.\n",
        "# this allows to use odd-size filters with stride 2 when downsampling a feature map in the model\n",
        "pad = Pad((0, 0, 1, 1), fill=0)\n",
        "# to reduce interpolation artifacts (e.g. when testing the model on rotated images),\n",
        "# we upsample an image by a factor of 3, rotate it and finally downsample it again\n",
        "resize1 = Resize(387)\n",
        "resize2 = Resize(129)\n",
        "totensor = ToTensor()\n",
        "togray = transforms.Grayscale(num_output_channels=1)"
      ]
    },
    {
      "cell_type": "code",
      "source": [
        "from google.colab import drive\n",
        "drive.mount('/content/drive')"
      ],
      "metadata": {
        "colab": {
          "base_uri": "https://localhost:8080/"
        },
        "id": "5dda_ATJaaC8",
        "outputId": "03228962-e324-4c9f-d0de-445821e09523"
      },
      "id": "5dda_ATJaaC8",
      "execution_count": 4,
      "outputs": [
        {
          "output_type": "stream",
          "name": "stdout",
          "text": [
            "Mounted at /content/drive\n"
          ]
        }
      ]
    },
    {
      "cell_type": "markdown",
      "id": "8b7df613",
      "metadata": {
        "papermill": {
          "duration": 0.00477,
          "end_time": "2023-02-26T18:20:37.763344",
          "exception": false,
          "start_time": "2023-02-26T18:20:37.758574",
          "status": "completed"
        },
        "tags": [],
        "id": "8b7df613"
      },
      "source": [
        "# Data Preparation\n"
      ]
    },
    {
      "cell_type": "code",
      "execution_count": 5,
      "id": "98c728a5",
      "metadata": {
        "execution": {
          "iopub.execute_input": "2023-07-20T17:15:21.962249Z",
          "iopub.status.busy": "2023-07-20T17:15:21.961897Z",
          "iopub.status.idle": "2023-07-20T17:15:21.966857Z",
          "shell.execute_reply": "2023-07-20T17:15:21.966214Z"
        },
        "id": "98c728a5"
      },
      "outputs": [],
      "source": [
        "# train_transforms = transforms.Compose([\n",
        "#     transforms.Resize(128),\n",
        "#     transforms.Grayscale(num_output_channels=1),\n",
        "#     transforms.ToTensor()\n",
        "# ])\n",
        "\n",
        "# test_transforms = transforms.Compose([\n",
        "#     transforms.Resize(128),\n",
        "#     transforms.Grayscale(num_output_channels=1),\n",
        "#     transforms.ToTensor()\n",
        "# ])\n",
        "\n",
        "train_transforms = transforms.Compose([\n",
        "    transforms.RandomCrop(128),\n",
        "    pad,\n",
        "    resize1,\n",
        "    # RandomRotation(180, resample=Image.BILINEAR, expand=False), # this line is original\n",
        "    RandomRotation(180, interpolation=Image.BILINEAR, expand=False),\n",
        "    resize2,\n",
        "    totensor,\n",
        "    togray,\n",
        "])\n",
        "test_transforms = transforms.Compose([\n",
        "    transforms.RandomCrop(128),\n",
        "    pad,\n",
        "    totensor,\n",
        "    togray,\n",
        "])"
      ]
    },
    {
      "cell_type": "code",
      "execution_count": 6,
      "id": "d9d9d269",
      "metadata": {
        "execution": {
          "iopub.execute_input": "2023-07-20T17:15:21.969689Z",
          "iopub.status.busy": "2023-07-20T17:15:21.969436Z",
          "iopub.status.idle": "2023-07-20T17:15:22.254192Z",
          "shell.execute_reply": "2023-07-20T17:15:22.253495Z"
        },
        "papermill": {
          "duration": 0.018594,
          "end_time": "2023-02-26T18:20:37.786759",
          "exception": false,
          "start_time": "2023-02-26T18:20:37.768165",
          "status": "completed"
        },
        "tags": [],
        "id": "d9d9d269"
      },
      "outputs": [],
      "source": [
        "def npy_loader(path):\n",
        "    if 'axion' in path:\n",
        "        sample = np.load(path, allow_pickle=True)[0]\n",
        "    else:\n",
        "        sample = np.load(path, allow_pickle=True)\n",
        "    sample = 255 * (sample / sample.max())\n",
        "    sample = Image.fromarray(sample.astype('uint8')).convert(\"RGB\")\n",
        "    return sample\n",
        "\n",
        "\n",
        "trainset = datasets.DatasetFolder(\n",
        "    root='/content/drive/MyDrive/Model_I',\n",
        "    loader=npy_loader,\n",
        "    extensions=['.npy'],\n",
        "    transform = train_transforms\n",
        ")\n",
        "\n",
        "testset = datasets.DatasetFolder(\n",
        "    root='/content/drive/MyDrive/Model_I',\n",
        "    loader=npy_loader,\n",
        "    extensions=['.npy'],\n",
        "    transform = test_transforms\n",
        ")\n",
        "train_loader = torch.utils.data.DataLoader(trainset, batch_size=64,shuffle=True)\n",
        "test_loader = torch.utils.data.DataLoader(testset, batch_size=64,shuffle=True)"
      ]
    },
    {
      "cell_type": "code",
      "execution_count": 7,
      "id": "dec155fb",
      "metadata": {
        "id": "dec155fb"
      },
      "outputs": [],
      "source": [
        "del(trainset)\n",
        "del(testset)"
      ]
    },
    {
      "cell_type": "code",
      "execution_count": 8,
      "id": "c541bb71",
      "metadata": {
        "execution": {
          "iopub.execute_input": "2023-07-20T17:15:22.257456Z",
          "iopub.status.busy": "2023-07-20T17:15:22.257196Z",
          "iopub.status.idle": "2023-07-20T17:15:22.316889Z",
          "shell.execute_reply": "2023-07-20T17:15:22.316212Z"
        },
        "papermill": {
          "duration": 0.288414,
          "end_time": "2023-02-26T18:20:38.079912",
          "exception": false,
          "start_time": "2023-02-26T18:20:37.791498",
          "status": "completed"
        },
        "tags": [],
        "id": "c541bb71"
      },
      "outputs": [],
      "source": [
        "lr = 0.0001\n",
        "epochs = 30\n",
        "gamma = 0.5\n",
        "batch_size = 64\n",
        "device = \"cuda\" if torch.cuda.is_available() else \"cpu\""
      ]
    },
    {
      "cell_type": "markdown",
      "id": "337703e9",
      "metadata": {
        "papermill": {
          "duration": 0.005167,
          "end_time": "2023-02-26T18:20:38.096424",
          "exception": false,
          "start_time": "2023-02-26T18:20:38.091257",
          "status": "completed"
        },
        "tags": [],
        "id": "337703e9"
      },
      "source": [
        "# Model\n"
      ]
    },
    {
      "cell_type": "code",
      "source": [
        "!pip install e2cnn"
      ],
      "metadata": {
        "colab": {
          "base_uri": "https://localhost:8080/"
        },
        "id": "G-xOse2Ka76R",
        "outputId": "e6781cf7-c06d-4953-a4b4-3ea98b3a3dd4"
      },
      "id": "G-xOse2Ka76R",
      "execution_count": 9,
      "outputs": [
        {
          "output_type": "stream",
          "name": "stdout",
          "text": [
            "Collecting e2cnn\n",
            "  Downloading e2cnn-0.2.3-py3-none-any.whl (225 kB)\n",
            "\u001b[?25l     \u001b[90m━━━━━━━━━━━━━━━━━━━━━━━━━━━━━━━━━━━━━━━━\u001b[0m \u001b[32m0.0/225.3 kB\u001b[0m \u001b[31m?\u001b[0m eta \u001b[36m-:--:--\u001b[0m\r\u001b[2K     \u001b[91m━━━━━━━━━━━━━━━━━━━━━━━━━━━━━━\u001b[0m\u001b[91m╸\u001b[0m\u001b[90m━━━━━━━━━\u001b[0m \u001b[32m174.1/225.3 kB\u001b[0m \u001b[31m5.0 MB/s\u001b[0m eta \u001b[36m0:00:01\u001b[0m\r\u001b[2K     \u001b[90m━━━━━━━━━━━━━━━━━━━━━━━━━━━━━━━━━━━━━━━━\u001b[0m \u001b[32m225.3/225.3 kB\u001b[0m \u001b[31m5.0 MB/s\u001b[0m eta \u001b[36m0:00:00\u001b[0m\n",
            "\u001b[?25hRequirement already satisfied: torch in /usr/local/lib/python3.10/dist-packages (from e2cnn) (2.1.0+cu121)\n",
            "Requirement already satisfied: numpy in /usr/local/lib/python3.10/dist-packages (from e2cnn) (1.23.5)\n",
            "Requirement already satisfied: scipy in /usr/local/lib/python3.10/dist-packages (from e2cnn) (1.11.4)\n",
            "Requirement already satisfied: sympy in /usr/local/lib/python3.10/dist-packages (from e2cnn) (1.12)\n",
            "Requirement already satisfied: mpmath>=0.19 in /usr/local/lib/python3.10/dist-packages (from sympy->e2cnn) (1.3.0)\n",
            "Requirement already satisfied: filelock in /usr/local/lib/python3.10/dist-packages (from torch->e2cnn) (3.13.1)\n",
            "Requirement already satisfied: typing-extensions in /usr/local/lib/python3.10/dist-packages (from torch->e2cnn) (4.9.0)\n",
            "Requirement already satisfied: networkx in /usr/local/lib/python3.10/dist-packages (from torch->e2cnn) (3.2.1)\n",
            "Requirement already satisfied: jinja2 in /usr/local/lib/python3.10/dist-packages (from torch->e2cnn) (3.1.3)\n",
            "Requirement already satisfied: fsspec in /usr/local/lib/python3.10/dist-packages (from torch->e2cnn) (2023.6.0)\n",
            "Requirement already satisfied: triton==2.1.0 in /usr/local/lib/python3.10/dist-packages (from torch->e2cnn) (2.1.0)\n",
            "Requirement already satisfied: MarkupSafe>=2.0 in /usr/local/lib/python3.10/dist-packages (from jinja2->torch->e2cnn) (2.1.5)\n",
            "Installing collected packages: e2cnn\n",
            "Successfully installed e2cnn-0.2.3\n"
          ]
        }
      ]
    },
    {
      "cell_type": "code",
      "execution_count": 10,
      "id": "21c3ca05",
      "metadata": {
        "colab": {
          "base_uri": "https://localhost:8080/"
        },
        "id": "21c3ca05",
        "outputId": "bb17a6ce-f9f5-4e2e-98c0-e59b001d258d"
      },
      "outputs": [
        {
          "output_type": "stream",
          "name": "stdout",
          "text": [
            "184\n"
          ]
        }
      ],
      "source": [
        "print(len(train_loader))"
      ]
    },
    {
      "cell_type": "code",
      "execution_count": 11,
      "id": "b316fcd9",
      "metadata": {
        "id": "b316fcd9"
      },
      "outputs": [],
      "source": [
        "import torch\n",
        "from e2cnn import gspaces\n",
        "from e2cnn import nn"
      ]
    },
    {
      "cell_type": "code",
      "execution_count": 12,
      "id": "8c55bfcf",
      "metadata": {
        "id": "8c55bfcf"
      },
      "outputs": [],
      "source": [
        "#Defining the equivariant neural network model\n",
        "class Equivariant_Network(torch.nn.Module):\n",
        "\n",
        "    def __init__(self, n_classes=3, sym_group = \"Dihyderal\", N = 4):\n",
        "\n",
        "        super(Equivariant_Network, self).__init__()\n",
        "\n",
        "        # Dihyderal Equivariance\n",
        "        if sym_group == 'Dihyderal':\n",
        "            self.r2_act = gspaces.FlipRot2dOnR2(N=N)\n",
        "\n",
        "        # Circular Equivariance\n",
        "        elif sym_group == 'Circular':\n",
        "            self.r2_act = gspaces.Rot2dOnR2(N=N)\n",
        "\n",
        "\n",
        "        # the input image is a scalar field, corresponding to the trivial representation\n",
        "        in_type = nn.FieldType(self.r2_act, [self.r2_act.trivial_repr])\n",
        "\n",
        "        # we store the input type for wrapping the images into a geometric tensor during the forward pass\n",
        "        self.input_type = in_type\n",
        "\n",
        "        # convolution 1\n",
        "        # first specify the output type of the convolutional layer\n",
        "        # we choose 24 feature fields, each transforming under the regular representation of C8\n",
        "        out_type = nn.FieldType(self.r2_act, 24*[self.r2_act.regular_repr])\n",
        "        self.block1 = nn.SequentialModule(\n",
        "            nn.MaskModule(in_type, 129, margin=1),\n",
        "            nn.R2Conv(in_type, out_type, kernel_size=7, padding=1, bias=False),\n",
        "            nn.InnerBatchNorm(out_type),\n",
        "            nn.ReLU(out_type, inplace=True)\n",
        "        )\n",
        "\n",
        "        # convolution 2\n",
        "        # the old output type is the input type to the next layer\n",
        "        in_type = self.block1.out_type\n",
        "        # the output type of the second convolution layer are 48 regular feature fields of C8\n",
        "        out_type = nn.FieldType(self.r2_act, 48*[self.r2_act.regular_repr])\n",
        "        self.block2 = nn.SequentialModule(\n",
        "            nn.R2Conv(in_type, out_type, kernel_size=5, padding=2, bias=False),\n",
        "            nn.InnerBatchNorm(out_type),\n",
        "            nn.ReLU(out_type, inplace=True)\n",
        "        )\n",
        "        self.pool1 = nn.SequentialModule(\n",
        "            nn.PointwiseAvgPoolAntialiased(out_type, sigma=0.66, stride=2)\n",
        "        )\n",
        "\n",
        "        # convolution 3\n",
        "        # the old output type is the input type to the next layer\n",
        "        in_type = self.block2.out_type\n",
        "        # the output type of the third convolution layer are 48 regular feature fields of C8\n",
        "        out_type = nn.FieldType(self.r2_act, 48*[self.r2_act.regular_repr])\n",
        "        self.block3 = nn.SequentialModule(\n",
        "            nn.R2Conv(in_type, out_type, kernel_size=5, padding=2, bias=False),\n",
        "            nn.InnerBatchNorm(out_type),\n",
        "            nn.ReLU(out_type, inplace=True)\n",
        "        )\n",
        "\n",
        "        # convolution 4\n",
        "        # the old output type is the input type to the next layer\n",
        "        in_type = self.block3.out_type\n",
        "        # the output type of the fourth convolution layer are 96 regular feature fields of C8\n",
        "        out_type = nn.FieldType(self.r2_act, 96*[self.r2_act.regular_repr])\n",
        "        self.block4 = nn.SequentialModule(\n",
        "            nn.R2Conv(in_type, out_type, kernel_size=5, padding=2, bias=False),\n",
        "            nn.InnerBatchNorm(out_type),\n",
        "            nn.ReLU(out_type, inplace=True)\n",
        "        )\n",
        "        self.pool2 = nn.SequentialModule(\n",
        "            nn.PointwiseAvgPoolAntialiased(out_type, sigma=0.66, stride=2)\n",
        "        )\n",
        "\n",
        "        # convolution 5\n",
        "        # the old output type is the input type to the next layer\n",
        "        in_type = self.block4.out_type\n",
        "        # the output type of the fifth convolution layer are 96 regular feature fields of C8\n",
        "        out_type = nn.FieldType(self.r2_act, 96*[self.r2_act.regular_repr])\n",
        "        self.block5 = nn.SequentialModule(\n",
        "            nn.R2Conv(in_type, out_type, kernel_size=5, padding=2, bias=False),\n",
        "            nn.InnerBatchNorm(out_type),\n",
        "            nn.ReLU(out_type, inplace=True)\n",
        "        )\n",
        "\n",
        "        # convolution 6\n",
        "        # the old output type is the input type to the next layer\n",
        "        in_type = self.block5.out_type\n",
        "        # the output type of the sixth convolution layer are 64 regular feature fields of C8\n",
        "        out_type = nn.FieldType(self.r2_act, 64*[self.r2_act.regular_repr])\n",
        "        self.block6 = nn.SequentialModule(\n",
        "            nn.R2Conv(in_type, out_type, kernel_size=5, padding=1, bias=False),\n",
        "            nn.InnerBatchNorm(out_type),\n",
        "            nn.ReLU(out_type, inplace=True)\n",
        "        )\n",
        "        self.pool3 = nn.PointwiseAvgPoolAntialiased(out_type, sigma=0.66, stride=1, padding=0)\n",
        "\n",
        "        self.gpool = nn.GroupPooling(out_type)\n",
        "\n",
        "        # number of output channels\n",
        "        c = self.gpool.out_type.size\n",
        "\n",
        "        # Fully Connected\n",
        "        self.fully_net = torch.nn.Sequential(\n",
        "            torch.nn.Linear(43264, 64),\n",
        "            torch.nn.BatchNorm1d(64),\n",
        "            torch.nn.ELU(inplace=True),\n",
        "            torch.nn.Linear(64, n_classes),\n",
        "            # torch.nn.Linear(64, 1),\n",
        "            # torch.nn.Sigmoid(),\n",
        "        )\n",
        "\n",
        "    def forward(self, input: torch.Tensor):\n",
        "        # wrap the input tensor in a GeometricTensor\n",
        "        # (associate it with the input type)\n",
        "        x = nn.GeometricTensor(input, self.input_type)\n",
        "\n",
        "        # apply each equivariant block\n",
        "\n",
        "        # Each layer has an input and an output type\n",
        "        # A layer takes a GeometricTensor in input.\n",
        "        # This tensor needs to be associated with the same representation of the layer's input type\n",
        "        #\n",
        "        # The Layer outputs a new GeometricTensor, associated with the layer's output type.\n",
        "        # As a result, consecutive layers need to have matching input/output types\n",
        "        x = self.block1(x)\n",
        "        x = self.block2(x)\n",
        "        x = self.pool1(x)\n",
        "\n",
        "        x = self.block3(x)\n",
        "        x = self.block4(x)\n",
        "        x = self.pool2(x)\n",
        "\n",
        "        x = self.block5(x)\n",
        "        x = self.block6(x)\n",
        "\n",
        "        # pool over the spatial dimensions\n",
        "        x = self.pool3(x)\n",
        "\n",
        "        # pool over the group\n",
        "        x = self.gpool(x)\n",
        "\n",
        "        # unwrap the output GeometricTensor\n",
        "        # (take the Pytorch tensor and discard the associated representation)\n",
        "        x = x.tensor\n",
        "\n",
        "        # classify with the final fully connected layers)\n",
        "        # print(x.reshape(x.shape[0], -1).size())\n",
        "        x = self.fully_net(x.reshape(x.shape[0], -1))\n",
        "\n",
        "        return x"
      ]
    },
    {
      "cell_type": "code",
      "execution_count": 13,
      "id": "46cfda21",
      "metadata": {
        "id": "46cfda21"
      },
      "outputs": [],
      "source": [
        "use_cuda = True # True, if use cuda\n",
        "cuda_idx = 0 # Set idx of cuda device to be used, default is 0\n",
        "data_dir = 'images_f' # Path of the data directory\n",
        "sym_group = 'Circular' # Symmetry group to be used:{'Circular', 'Dihyderal'}\n",
        "N = 4 # Order of the symmetry group\n",
        "epochs = 40 # Number of Epochs\n",
        "batch_size = 64 # Batch Size\n",
        "lr = 5e-5 # learning rate\n",
        "n_classes = 3 # Number of classes to be classified"
      ]
    },
    {
      "cell_type": "code",
      "execution_count": 14,
      "id": "6609e45a",
      "metadata": {
        "id": "6609e45a"
      },
      "outputs": [],
      "source": [
        "model = Equivariant_Network(n_classes=n_classes, sym_group = sym_group, N =N).to(device)"
      ]
    },
    {
      "cell_type": "code",
      "execution_count": 15,
      "id": "3736fee9",
      "metadata": {
        "colab": {
          "base_uri": "https://localhost:8080/"
        },
        "id": "3736fee9",
        "outputId": "3e2bb5ac-1925-4754-f516-7f1d88fb319e"
      },
      "outputs": [
        {
          "output_type": "stream",
          "name": "stdout",
          "text": [
            "Equivariant_Network(\n",
            "  (block1): SequentialModule(\n",
            "    (0): MaskModule()\n",
            "    (1): R2Conv([4-Rotations: {irrep_0}], [4-Rotations: {regular, regular, regular, regular, regular, regular, regular, regular, regular, regular, regular, regular, regular, regular, regular, regular, regular, regular, regular, regular, regular, regular, regular, regular}], kernel_size=7, stride=1, padding=1, bias=False)\n",
            "    (2): InnerBatchNorm([4-Rotations: {regular, regular, regular, regular, regular, regular, regular, regular, regular, regular, regular, regular, regular, regular, regular, regular, regular, regular, regular, regular, regular, regular, regular, regular}], eps=1e-05, momentum=0.1, affine=True, track_running_stats=True)\n",
            "    (3): ReLU(inplace=True, type=[4-Rotations: {regular, regular, regular, regular, regular, regular, regular, regular, regular, regular, regular, regular, regular, regular, regular, regular, regular, regular, regular, regular, regular, regular, regular, regular}])\n",
            "  )\n",
            "  (block2): SequentialModule(\n",
            "    (0): R2Conv([4-Rotations: {regular, regular, regular, regular, regular, regular, regular, regular, regular, regular, regular, regular, regular, regular, regular, regular, regular, regular, regular, regular, regular, regular, regular, regular}], [4-Rotations: {regular, regular, regular, regular, regular, regular, regular, regular, regular, regular, regular, regular, regular, regular, regular, regular, regular, regular, regular, regular, regular, regular, regular, regular, regular, regular, regular, regular, regular, regular, regular, regular, regular, regular, regular, regular, regular, regular, regular, regular, regular, regular, regular, regular, regular, regular, regular, regular}], kernel_size=5, stride=1, padding=2, bias=False)\n",
            "    (1): InnerBatchNorm([4-Rotations: {regular, regular, regular, regular, regular, regular, regular, regular, regular, regular, regular, regular, regular, regular, regular, regular, regular, regular, regular, regular, regular, regular, regular, regular, regular, regular, regular, regular, regular, regular, regular, regular, regular, regular, regular, regular, regular, regular, regular, regular, regular, regular, regular, regular, regular, regular, regular, regular}], eps=1e-05, momentum=0.1, affine=True, track_running_stats=True)\n",
            "    (2): ReLU(inplace=True, type=[4-Rotations: {regular, regular, regular, regular, regular, regular, regular, regular, regular, regular, regular, regular, regular, regular, regular, regular, regular, regular, regular, regular, regular, regular, regular, regular, regular, regular, regular, regular, regular, regular, regular, regular, regular, regular, regular, regular, regular, regular, regular, regular, regular, regular, regular, regular, regular, regular, regular, regular}])\n",
            "  )\n",
            "  (pool1): SequentialModule(\n",
            "    (0): PointwiseAvgPoolAntialiased()\n",
            "  )\n",
            "  (block3): SequentialModule(\n",
            "    (0): R2Conv([4-Rotations: {regular, regular, regular, regular, regular, regular, regular, regular, regular, regular, regular, regular, regular, regular, regular, regular, regular, regular, regular, regular, regular, regular, regular, regular, regular, regular, regular, regular, regular, regular, regular, regular, regular, regular, regular, regular, regular, regular, regular, regular, regular, regular, regular, regular, regular, regular, regular, regular}], [4-Rotations: {regular, regular, regular, regular, regular, regular, regular, regular, regular, regular, regular, regular, regular, regular, regular, regular, regular, regular, regular, regular, regular, regular, regular, regular, regular, regular, regular, regular, regular, regular, regular, regular, regular, regular, regular, regular, regular, regular, regular, regular, regular, regular, regular, regular, regular, regular, regular, regular}], kernel_size=5, stride=1, padding=2, bias=False)\n",
            "    (1): InnerBatchNorm([4-Rotations: {regular, regular, regular, regular, regular, regular, regular, regular, regular, regular, regular, regular, regular, regular, regular, regular, regular, regular, regular, regular, regular, regular, regular, regular, regular, regular, regular, regular, regular, regular, regular, regular, regular, regular, regular, regular, regular, regular, regular, regular, regular, regular, regular, regular, regular, regular, regular, regular}], eps=1e-05, momentum=0.1, affine=True, track_running_stats=True)\n",
            "    (2): ReLU(inplace=True, type=[4-Rotations: {regular, regular, regular, regular, regular, regular, regular, regular, regular, regular, regular, regular, regular, regular, regular, regular, regular, regular, regular, regular, regular, regular, regular, regular, regular, regular, regular, regular, regular, regular, regular, regular, regular, regular, regular, regular, regular, regular, regular, regular, regular, regular, regular, regular, regular, regular, regular, regular}])\n",
            "  )\n",
            "  (block4): SequentialModule(\n",
            "    (0): R2Conv([4-Rotations: {regular, regular, regular, regular, regular, regular, regular, regular, regular, regular, regular, regular, regular, regular, regular, regular, regular, regular, regular, regular, regular, regular, regular, regular, regular, regular, regular, regular, regular, regular, regular, regular, regular, regular, regular, regular, regular, regular, regular, regular, regular, regular, regular, regular, regular, regular, regular, regular}], [4-Rotations: {regular, regular, regular, regular, regular, regular, regular, regular, regular, regular, regular, regular, regular, regular, regular, regular, regular, regular, regular, regular, regular, regular, regular, regular, regular, regular, regular, regular, regular, regular, regular, regular, regular, regular, regular, regular, regular, regular, regular, regular, regular, regular, regular, regular, regular, regular, regular, regular, regular, regular, regular, regular, regular, regular, regular, regular, regular, regular, regular, regular, regular, regular, regular, regular, regular, regular, regular, regular, regular, regular, regular, regular, regular, regular, regular, regular, regular, regular, regular, regular, regular, regular, regular, regular, regular, regular, regular, regular, regular, regular, regular, regular, regular, regular, regular, regular}], kernel_size=5, stride=1, padding=2, bias=False)\n",
            "    (1): InnerBatchNorm([4-Rotations: {regular, regular, regular, regular, regular, regular, regular, regular, regular, regular, regular, regular, regular, regular, regular, regular, regular, regular, regular, regular, regular, regular, regular, regular, regular, regular, regular, regular, regular, regular, regular, regular, regular, regular, regular, regular, regular, regular, regular, regular, regular, regular, regular, regular, regular, regular, regular, regular, regular, regular, regular, regular, regular, regular, regular, regular, regular, regular, regular, regular, regular, regular, regular, regular, regular, regular, regular, regular, regular, regular, regular, regular, regular, regular, regular, regular, regular, regular, regular, regular, regular, regular, regular, regular, regular, regular, regular, regular, regular, regular, regular, regular, regular, regular, regular, regular}], eps=1e-05, momentum=0.1, affine=True, track_running_stats=True)\n",
            "    (2): ReLU(inplace=True, type=[4-Rotations: {regular, regular, regular, regular, regular, regular, regular, regular, regular, regular, regular, regular, regular, regular, regular, regular, regular, regular, regular, regular, regular, regular, regular, regular, regular, regular, regular, regular, regular, regular, regular, regular, regular, regular, regular, regular, regular, regular, regular, regular, regular, regular, regular, regular, regular, regular, regular, regular, regular, regular, regular, regular, regular, regular, regular, regular, regular, regular, regular, regular, regular, regular, regular, regular, regular, regular, regular, regular, regular, regular, regular, regular, regular, regular, regular, regular, regular, regular, regular, regular, regular, regular, regular, regular, regular, regular, regular, regular, regular, regular, regular, regular, regular, regular, regular, regular}])\n",
            "  )\n",
            "  (pool2): SequentialModule(\n",
            "    (0): PointwiseAvgPoolAntialiased()\n",
            "  )\n",
            "  (block5): SequentialModule(\n",
            "    (0): R2Conv([4-Rotations: {regular, regular, regular, regular, regular, regular, regular, regular, regular, regular, regular, regular, regular, regular, regular, regular, regular, regular, regular, regular, regular, regular, regular, regular, regular, regular, regular, regular, regular, regular, regular, regular, regular, regular, regular, regular, regular, regular, regular, regular, regular, regular, regular, regular, regular, regular, regular, regular, regular, regular, regular, regular, regular, regular, regular, regular, regular, regular, regular, regular, regular, regular, regular, regular, regular, regular, regular, regular, regular, regular, regular, regular, regular, regular, regular, regular, regular, regular, regular, regular, regular, regular, regular, regular, regular, regular, regular, regular, regular, regular, regular, regular, regular, regular, regular, regular}], [4-Rotations: {regular, regular, regular, regular, regular, regular, regular, regular, regular, regular, regular, regular, regular, regular, regular, regular, regular, regular, regular, regular, regular, regular, regular, regular, regular, regular, regular, regular, regular, regular, regular, regular, regular, regular, regular, regular, regular, regular, regular, regular, regular, regular, regular, regular, regular, regular, regular, regular, regular, regular, regular, regular, regular, regular, regular, regular, regular, regular, regular, regular, regular, regular, regular, regular, regular, regular, regular, regular, regular, regular, regular, regular, regular, regular, regular, regular, regular, regular, regular, regular, regular, regular, regular, regular, regular, regular, regular, regular, regular, regular, regular, regular, regular, regular, regular, regular}], kernel_size=5, stride=1, padding=2, bias=False)\n",
            "    (1): InnerBatchNorm([4-Rotations: {regular, regular, regular, regular, regular, regular, regular, regular, regular, regular, regular, regular, regular, regular, regular, regular, regular, regular, regular, regular, regular, regular, regular, regular, regular, regular, regular, regular, regular, regular, regular, regular, regular, regular, regular, regular, regular, regular, regular, regular, regular, regular, regular, regular, regular, regular, regular, regular, regular, regular, regular, regular, regular, regular, regular, regular, regular, regular, regular, regular, regular, regular, regular, regular, regular, regular, regular, regular, regular, regular, regular, regular, regular, regular, regular, regular, regular, regular, regular, regular, regular, regular, regular, regular, regular, regular, regular, regular, regular, regular, regular, regular, regular, regular, regular, regular}], eps=1e-05, momentum=0.1, affine=True, track_running_stats=True)\n",
            "    (2): ReLU(inplace=True, type=[4-Rotations: {regular, regular, regular, regular, regular, regular, regular, regular, regular, regular, regular, regular, regular, regular, regular, regular, regular, regular, regular, regular, regular, regular, regular, regular, regular, regular, regular, regular, regular, regular, regular, regular, regular, regular, regular, regular, regular, regular, regular, regular, regular, regular, regular, regular, regular, regular, regular, regular, regular, regular, regular, regular, regular, regular, regular, regular, regular, regular, regular, regular, regular, regular, regular, regular, regular, regular, regular, regular, regular, regular, regular, regular, regular, regular, regular, regular, regular, regular, regular, regular, regular, regular, regular, regular, regular, regular, regular, regular, regular, regular, regular, regular, regular, regular, regular, regular}])\n",
            "  )\n",
            "  (block6): SequentialModule(\n",
            "    (0): R2Conv([4-Rotations: {regular, regular, regular, regular, regular, regular, regular, regular, regular, regular, regular, regular, regular, regular, regular, regular, regular, regular, regular, regular, regular, regular, regular, regular, regular, regular, regular, regular, regular, regular, regular, regular, regular, regular, regular, regular, regular, regular, regular, regular, regular, regular, regular, regular, regular, regular, regular, regular, regular, regular, regular, regular, regular, regular, regular, regular, regular, regular, regular, regular, regular, regular, regular, regular, regular, regular, regular, regular, regular, regular, regular, regular, regular, regular, regular, regular, regular, regular, regular, regular, regular, regular, regular, regular, regular, regular, regular, regular, regular, regular, regular, regular, regular, regular, regular, regular}], [4-Rotations: {regular, regular, regular, regular, regular, regular, regular, regular, regular, regular, regular, regular, regular, regular, regular, regular, regular, regular, regular, regular, regular, regular, regular, regular, regular, regular, regular, regular, regular, regular, regular, regular, regular, regular, regular, regular, regular, regular, regular, regular, regular, regular, regular, regular, regular, regular, regular, regular, regular, regular, regular, regular, regular, regular, regular, regular, regular, regular, regular, regular, regular, regular, regular, regular}], kernel_size=5, stride=1, padding=1, bias=False)\n",
            "    (1): InnerBatchNorm([4-Rotations: {regular, regular, regular, regular, regular, regular, regular, regular, regular, regular, regular, regular, regular, regular, regular, regular, regular, regular, regular, regular, regular, regular, regular, regular, regular, regular, regular, regular, regular, regular, regular, regular, regular, regular, regular, regular, regular, regular, regular, regular, regular, regular, regular, regular, regular, regular, regular, regular, regular, regular, regular, regular, regular, regular, regular, regular, regular, regular, regular, regular, regular, regular, regular, regular}], eps=1e-05, momentum=0.1, affine=True, track_running_stats=True)\n",
            "    (2): ReLU(inplace=True, type=[4-Rotations: {regular, regular, regular, regular, regular, regular, regular, regular, regular, regular, regular, regular, regular, regular, regular, regular, regular, regular, regular, regular, regular, regular, regular, regular, regular, regular, regular, regular, regular, regular, regular, regular, regular, regular, regular, regular, regular, regular, regular, regular, regular, regular, regular, regular, regular, regular, regular, regular, regular, regular, regular, regular, regular, regular, regular, regular, regular, regular, regular, regular, regular, regular, regular, regular}])\n",
            "  )\n",
            "  (pool3): PointwiseAvgPoolAntialiased()\n",
            "  (gpool): GroupPooling([4-Rotations: {regular, regular, regular, regular, regular, regular, regular, regular, regular, regular, regular, regular, regular, regular, regular, regular, regular, regular, regular, regular, regular, regular, regular, regular, regular, regular, regular, regular, regular, regular, regular, regular, regular, regular, regular, regular, regular, regular, regular, regular, regular, regular, regular, regular, regular, regular, regular, regular, regular, regular, regular, regular, regular, regular, regular, regular, regular, regular, regular, regular, regular, regular, regular, regular}])\n",
            "  (fully_net): Sequential(\n",
            "    (0): Linear(in_features=43264, out_features=64, bias=True)\n",
            "    (1): BatchNorm1d(64, eps=1e-05, momentum=0.1, affine=True, track_running_stats=True)\n",
            "    (2): ELU(alpha=1.0, inplace=True)\n",
            "    (3): Linear(in_features=64, out_features=3, bias=True)\n",
            "  )\n",
            ")\n"
          ]
        }
      ],
      "source": [
        "print(model)"
      ]
    },
    {
      "cell_type": "code",
      "execution_count": 16,
      "id": "f380f477",
      "metadata": {
        "id": "f380f477"
      },
      "outputs": [],
      "source": [
        "loss_function = torch.nn.CrossEntropyLoss()\n",
        "optimizer = torch.optim.Adam(model.parameters(), lr=lr, weight_decay=1e-5)\n",
        "total_epochs = epochs\n",
        "log_interval = 100  #Intervals after which results are displayed"
      ]
    },
    {
      "cell_type": "code",
      "execution_count": 17,
      "id": "a0601e7f",
      "metadata": {
        "colab": {
          "base_uri": "https://localhost:8080/"
        },
        "id": "a0601e7f",
        "outputId": "bf1800c0-056e-4c9d-828a-8467efd1a6c5"
      },
      "outputs": [
        {
          "output_type": "execute_result",
          "data": {
            "text/plain": [
              "12"
            ]
          },
          "metadata": {},
          "execution_count": 17
        }
      ],
      "source": [
        "# clearing cuda cache memory\n",
        "import gc\n",
        "torch.cuda.empty_cache()\n",
        "gc.collect()"
      ]
    },
    {
      "cell_type": "code",
      "execution_count": null,
      "id": "bae53493",
      "metadata": {
        "colab": {
          "base_uri": "https://localhost:8080/"
        },
        "id": "bae53493",
        "outputId": "2b17d8b4-3311-4ae0-f499-12abe70a4368"
      },
      "outputs": [
        {
          "output_type": "stream",
          "name": "stdout",
          "text": [
            "Loss:  0.5359084010124207\n"
          ]
        }
      ],
      "source": [
        "all_train_loss = []\n",
        "all_test_loss = []\n",
        "all_train_accuracy = []\n",
        "all_test_accuracy = []\n",
        "\n",
        "best_accuracy = 0\n",
        "\n",
        "for epoch in range(total_epochs):\n",
        "    model.train()\n",
        "    tr_loss_epoch = []\n",
        "    test_loss_epoch = []\n",
        "    total = 0\n",
        "    correct = 0\n",
        "    for i, (x, t) in enumerate(train_loader):\n",
        "        optimizer.zero_grad()\n",
        "\n",
        "        x = x.to(device)\n",
        "        t = t.to(device)\n",
        "        y = model(x)\n",
        "        y_pred = y.flatten().to(torch.float64)\n",
        "\n",
        "        _, prediction = torch.max(y.data, 1)\n",
        "        total += t.shape[0]\n",
        "        correct += (prediction == t).sum().item()\n",
        "        loss = loss_function(y, t)\n",
        "        tr_loss_epoch.append(loss.item())\n",
        "        if i % log_interval == 0:\n",
        "            print('Loss: ',loss.item())\n",
        "        loss.backward()\n",
        "\n",
        "        optimizer.step()\n",
        "\n",
        "    all_train_loss.append(np.asarray(tr_loss_epoch))\n",
        "    all_train_accuracy.append(correct/total*100)\n",
        "\n",
        "\n",
        "    if epoch % 1 == 0:\n",
        "        total = 0\n",
        "        correct = 0\n",
        "        with torch.no_grad():\n",
        "            model.eval()\n",
        "            for i, (x, t) in enumerate(test_loader):\n",
        "                x = x.to(device)\n",
        "                t = t.to(device)\n",
        "                y = model(x)\n",
        "\n",
        "                loss = loss_function(y, t)\n",
        "                test_loss_epoch.append(loss.item())\n",
        "\n",
        "                _, prediction = torch.max(y.data, 1)\n",
        "                total += t.shape[0]\n",
        "                correct += (prediction == t).sum().item()\n",
        "\n",
        "        all_test_loss.append(np.asarray(test_loss_epoch))\n",
        "        all_test_accuracy.append(correct/total*100)\n",
        "        print(\"epoch {} | test accuracy: {}\".format(epoch,correct/total*100))\n",
        "\n",
        "        test_accuracy = correct/total*100\n",
        "\n",
        "        if test_accuracy > best_accuracy:\n",
        "            best_accuracy = test_accuracy\n",
        "            best_model = copy.deepcopy(model)\n",
        "\n",
        "all_epochs = [i for i in range (total_epochs)]\n",
        "\n",
        "all_train_loss_mean = [j.mean() for j in all_train_loss]\n",
        "all_test_loss_mean = [j.mean() for j in all_test_loss]"
      ]
    }
  ],
  "metadata": {
    "kernelspec": {
      "display_name": "Python 3",
      "name": "python3"
    },
    "language_info": {
      "codemirror_mode": {
        "name": "ipython",
        "version": 3
      },
      "file_extension": ".py",
      "mimetype": "text/x-python",
      "name": "python",
      "nbconvert_exporter": "python",
      "pygments_lexer": "ipython3",
      "version": "3.10.12"
    },
    "papermill": {
      "default_parameters": {},
      "duration": 1183.333041,
      "end_time": "2023-02-26T18:39:54.458046",
      "environment_variables": {},
      "exception": null,
      "input_path": "__notebook__.ipynb",
      "output_path": "__notebook__.ipynb",
      "parameters": {},
      "start_time": "2023-02-26T18:20:11.125005",
      "version": "2.4.0"
    },
    "vscode": {
      "interpreter": {
        "hash": "916dbcbb3f70747c44a77c7bcd40155683ae19c65e1c03b4aa3499c5328201f1"
      }
    },
    "colab": {
      "provenance": [],
      "gpuType": "T4",
      "include_colab_link": true
    },
    "accelerator": "GPU"
  },
  "nbformat": 4,
  "nbformat_minor": 5
}