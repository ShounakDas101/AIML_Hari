{
  "nbformat": 4,
  "nbformat_minor": 0,
  "metadata": {
    "colab": {
      "provenance": [],
      "authorship_tag": "ABX9TyNS/HD7IT0M/8imGhJCW/C2",
      "include_colab_link": true
    },
    "kernelspec": {
      "name": "python3",
      "display_name": "Python 3"
    },
    "language_info": {
      "name": "python"
    }
  },
  "cells": [
    {
      "cell_type": "markdown",
      "metadata": {
        "id": "view-in-github",
        "colab_type": "text"
      },
      "source": [
        "<a href=\"https://colab.research.google.com/github/ShounakDas101/AIML_Hari/blob/main/AIML_Hari.ipynb\" target=\"_parent\"><img src=\"https://colab.research.google.com/assets/colab-badge.svg\" alt=\"Open In Colab\"/></a>"
      ]
    },
    {
      "cell_type": "code",
      "execution_count": 1,
      "metadata": {
        "id": "KM8-_56do_uW"
      },
      "outputs": [],
      "source": [
        "# Import python libraries required in this example:\n",
        "import numpy as np\n",
        "from scipy.special import expit as activation_function\n",
        "from scipy.stats import truncnorm"
      ]
    },
    {
      "cell_type": "code",
      "source": [
        "# Generate random numbers within a truncated (bounded)\n",
        "# normal distribution:\n",
        "def truncated_normal(mean=0, sd=1, low=0, upp=10):\n",
        "    return truncnorm(\n",
        "        (low - mean) / sd, (upp - mean) / sd, loc=mean, scale=sd)\n"
      ],
      "metadata": {
        "id": "6xhGlBXGpKK5"
      },
      "execution_count": 2,
      "outputs": []
    },
    {
      "cell_type": "code",
      "source": [
        "\n",
        "# Create the ‘Nnetwork’ class and define its arguments:\n",
        "# Set the number of neurons/nodes for each layer\n",
        "# and initialize the weight matrices:\n",
        "class Nnetwork:\n",
        "\n",
        "    def __init__(self,\n",
        "                 no_of_in_nodes,\n",
        "                 no_of_out_nodes,\n",
        "                 no_of_hidden_nodes,\n",
        "                 learning_rate):\n",
        "        self.no_of_in_nodes = no_of_in_nodes\n",
        "        self.no_of_out_nodes = no_of_out_nodes\n",
        "        self.no_of_hidden_nodes = no_of_hidden_nodes\n",
        "        self.learning_rate = learning_rate\n",
        "        self.create_weight_matrices()\n",
        "\n",
        "    def create_weight_matrices(self):\n",
        "        \"\"\" A method to initialize the weight matrices of the neural network\"\"\"\n",
        "        rad = 1 / np.sqrt(self.no_of_in_nodes)\n",
        "        X = truncated_normal(mean=0, sd=1, low=-rad, upp=rad)\n",
        "        self.weights_in_hidden = X.rvs((self.no_of_hidden_nodes,\n",
        "                                       self.no_of_in_nodes))\n",
        "        rad = 1 / np.sqrt(self.no_of_hidden_nodes)\n",
        "        X = truncated_normal(mean=0, sd=1, low=-rad, upp=rad)\n",
        "        self.weights_hidden_out = X.rvs((self.no_of_out_nodes,\n",
        "                                        self.no_of_hidden_nodes))\n",
        "\n",
        "    def run(self, input_vector):\n",
        "        \"\"\"\n",
        "        running the network with an input vector 'input_vector'.\n",
        "        'input_vector' can be tuple, list or ndarray\n",
        "        \"\"\"\n",
        "        # Turn the input vector into a column vector:\n",
        "        input_vector = np.array(input_vector, ndmin=2).T\n",
        "        # activation_function() implements the expit function,\n",
        "        # which is an implementation of the sigmoid function:\n",
        "        input_hidden = activation_function(self.weights_in_hidden @   input_vector)\n",
        "        output_vector = activation_function(self.weights_hidden_out @ input_hidden)\n",
        "        return output_vector\n",
        "\n",
        "    def train(self, input_vector, target_vector):\n",
        "        pass # More work is needed to train the network"
      ],
      "metadata": {
        "id": "_I6c_kfRpV13"
      },
      "execution_count": 29,
      "outputs": []
    },
    {
      "cell_type": "code",
      "source": [
        "simple_network = Nnetwork(no_of_in_nodes=2, no_of_out_nodes=2, no_of_hidden_nodes=4, learning_rate=0.6)\n",
        "\n",
        "# Run simple_network for arrays, lists and tuples with shape (2):\n",
        "# and get a result:\n",
        "simple_network.run([(3, 4)])"
      ],
      "metadata": {
        "colab": {
          "base_uri": "https://localhost:8080/"
        },
        "id": "8koYMSMtp1MP",
        "outputId": "dadc3d24-7893-44f8-a12c-19ecead38e9a"
      },
      "execution_count": 30,
      "outputs": [
        {
          "output_type": "execute_result",
          "data": {
            "text/plain": [
              "array([[0.65303905],\n",
              "       [0.39621079]])"
            ]
          },
          "metadata": {},
          "execution_count": 30
        }
      ]
    }
  ]
}