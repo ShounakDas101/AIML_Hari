{
  "nbformat": 4,
  "nbformat_minor": 0,
  "metadata": {
    "colab": {
      "provenance": [],
      "gpuType": "T4",
      "authorship_tag": "ABX9TyNGD056MWOjpyQe/15LrSGP",
      "include_colab_link": true
    },
    "kernelspec": {
      "name": "python3",
      "display_name": "Python 3"
    },
    "language_info": {
      "name": "python"
    },
    "accelerator": "GPU"
  },
  "cells": [
    {
      "cell_type": "markdown",
      "metadata": {
        "id": "view-in-github",
        "colab_type": "text"
      },
      "source": [
        "<a href=\"https://colab.research.google.com/github/ShounakDas101/AIML_Hari/blob/main/Softmax_CERN.ipynb\" target=\"_parent\"><img src=\"https://colab.research.google.com/assets/colab-badge.svg\" alt=\"Open In Colab\"/></a>"
      ]
    },
    {
      "cell_type": "code",
      "execution_count": null,
      "metadata": {
        "colab": {
          "base_uri": "https://localhost:8080/"
        },
        "id": "VKN2SuEZe-Oc",
        "outputId": "2a0f2880-c861-433b-9864-d3110b8e8516"
      },
      "outputs": [
        {
          "output_type": "stream",
          "name": "stdout",
          "text": [
            "Device cuda\n"
          ]
        }
      ],
      "source": [
        "import torch\n",
        "import numpy as np\n",
        "import pandas as pd\n",
        "from tqdm import tqdm\n",
        "import os\n",
        "import h5py\n",
        "import math\n",
        "import torch.nn as nn\n",
        "import torch.nn.functional as F\n",
        "from torch.nn import init\n",
        "from torch.utils.data import Dataset, random_split, DataLoader\n",
        "from torchvision import transforms\n",
        "import torch.optim as optim\n",
        "\n",
        "device = torch.device(\"cuda\") if torch.cuda.is_available() else torch.device(\"cpu\")\n",
        "print(\"Device\", device)"
      ]
    },
    {
      "cell_type": "code",
      "source": [
        "from google.colab import drive\n",
        "drive.mount('/content/drive')"
      ],
      "metadata": {
        "colab": {
          "base_uri": "https://localhost:8080/"
        },
        "id": "1v5VnyjVfgp8",
        "outputId": "87acc154-ec41-4dc7-cced-b8ecc269d58e"
      },
      "execution_count": null,
      "outputs": [
        {
          "output_type": "stream",
          "name": "stdout",
          "text": [
            "Mounted at /content/drive\n"
          ]
        }
      ]
    },
    {
      "cell_type": "code",
      "source": [
        "import os\n",
        "\n",
        "# Specify the path to the file in your Google Drive\n",
        "file_path = '/content/drive/MyDrive/SinglePhotonPt50_IMGCROPS_n249k_RHv1.hdf5'\n",
        "CHECKPOINT_PATH = '/content/drive/MyDrive/CHECKPOINTS'\n",
        "\n",
        "# Check if the file exists\n",
        "if os.path.exists(file_path):\n",
        "    print(f\"The file '{file_path}' exists.\")\n",
        "else:\n",
        "    print(f\"The file '{file_path}' does not exist.\")"
      ],
      "metadata": {
        "colab": {
          "base_uri": "https://localhost:8080/"
        },
        "id": "Oi1cDEkAfXcl",
        "outputId": "0be3eb9e-8885-4e8a-db55-56e47ef42283"
      },
      "execution_count": null,
      "outputs": [
        {
          "output_type": "stream",
          "name": "stdout",
          "text": [
            "The file '/content/drive/MyDrive/SinglePhotonPt50_IMGCROPS_n249k_RHv1.hdf5' exists.\n"
          ]
        }
      ]
    },
    {
      "cell_type": "code",
      "source": [
        "# clearing cuda cache memory\n",
        "import gc\n",
        "torch.cuda.empty_cache()\n",
        "gc.collect()"
      ],
      "metadata": {
        "colab": {
          "base_uri": "https://localhost:8080/"
        },
        "id": "57FuWRdLf3ox",
        "outputId": "dec8b3d3-7e6a-44eb-cb64-9ca774adf6aa"
      },
      "execution_count": null,
      "outputs": [
        {
          "output_type": "execute_result",
          "data": {
            "text/plain": [
              "6"
            ]
          },
          "metadata": {},
          "execution_count": 5
        }
      ]
    },
    {
      "cell_type": "code",
      "source": [
        "import h5py\n",
        "\n",
        "def find_keys(hdf5_obj, path='/'):\n",
        "    \"\"\"Recursively find keys in an HDF5 file.\"\"\"\n",
        "    keys = []\n",
        "    for key in hdf5_obj[path].keys():\n",
        "        full_path = f\"{path}/{key}\"\n",
        "        keys.append(full_path)\n",
        "        if isinstance(hdf5_obj[full_path], h5py.Group):\n",
        "            keys.extend(find_keys(hdf5_obj, full_path))\n",
        "    return keys\n",
        "\n",
        "# Open the HDF5 file\n",
        "file_path = '/content/drive/MyDrive/SinglePhotonPt50_IMGCROPS_n249k_RHv1.hdf5'  # Replace with your actual file path\n",
        "with h5py.File(file_path, 'r') as hdf5_file:\n",
        "    # Find keys starting from the root\n",
        "    all_keys = find_keys(hdf5_file)\n",
        "\n",
        "# Print the found keys\n",
        "for key in all_keys:\n",
        "    print(key)\n"
      ],
      "metadata": {
        "colab": {
          "base_uri": "https://localhost:8080/"
        },
        "id": "9L33AlN0f7-7",
        "outputId": "1e81f904-f9bf-4d95-e462-ad907e8acdaf"
      },
      "execution_count": null,
      "outputs": [
        {
          "output_type": "stream",
          "name": "stdout",
          "text": [
            "//X\n",
            "//y\n"
          ]
        }
      ]
    },
    {
      "cell_type": "code",
      "source": [
        "# import dataset\n",
        "\n",
        "# importing electron dataset and seperating images and labels\n",
        "electron_dataset = h5py.File(\"/content/drive/MyDrive/SingleElectronPt50_IMGCROPS_n249k_RHv1.hdf5\",\"r\")\n",
        "electron_imgs=np.array(electron_dataset[\"X\"])\n",
        "electron_labels=np.array(electron_dataset[\"y\"],dtype=np.int64)\n",
        "\n",
        "# importing photon dataset and seperating images and labels\n",
        "photon_dataset = h5py.File(\"/content/drive/MyDrive/SinglePhotonPt50_IMGCROPS_n249k_RHv1.hdf5\",\"r\")\n",
        "photon_imgs=np.array(photon_dataset[\"X\"])\n",
        "photon_labels=np.array(photon_dataset[\"y\"],dtype=np.int64)"
      ],
      "metadata": {
        "id": "Ip77ZBVwgErb"
      },
      "execution_count": null,
      "outputs": []
    },
    {
      "cell_type": "code",
      "source": [
        "print(electron_imgs.shape)\n",
        "print(electron_labels)"
      ],
      "metadata": {
        "id": "Mpu7qIcggKdf",
        "colab": {
          "base_uri": "https://localhost:8080/"
        },
        "outputId": "443339e1-9a43-4079-b498-8e64be3d1de3"
      },
      "execution_count": null,
      "outputs": [
        {
          "output_type": "stream",
          "name": "stdout",
          "text": [
            "(249000, 32, 32, 2)\n",
            "[1 1 1 ... 1 1 1]\n"
          ]
        }
      ]
    },
    {
      "cell_type": "code",
      "source": [
        "import matplotlib.pyplot as plt\n",
        "print(electron_imgs.shape)\n",
        "for electron_imgs1 in electron_imgs[:1]:\n",
        "  # Display the first image from electron_imgs\n",
        "  plt.imshow(electron_imgs1[:, :, 0])  # Assuming it's a 2-channel image; adjust if needed\n",
        "  plt.title('Electron Image ch1')\n",
        "  plt.show()\n",
        "\n",
        "  # Display the first image from photon_imgs\n",
        "  plt.imshow(electron_imgs1[:, :, 1])  # Assuming it's a 2-channel image; adjust if needed\n",
        "  plt.title('Electron Image ch2')\n",
        "  plt.show()\n",
        "\n"
      ],
      "metadata": {
        "id": "QLSPO-Dtgdqd",
        "colab": {
          "base_uri": "https://localhost:8080/",
          "height": 905
        },
        "outputId": "2290167e-ffd0-410b-d42f-06100a6c7a1e"
      },
      "execution_count": null,
      "outputs": [
        {
          "output_type": "stream",
          "name": "stdout",
          "text": [
            "(249000, 32, 32, 2)\n"
          ]
        },
        {
          "output_type": "display_data",
          "data": {
            "text/plain": [
              "<Figure size 640x480 with 1 Axes>"
            ],
            "image/png": "[encoded data removed]"
          },
          "metadata": {}
        },
        {
          "output_type": "display_data",
          "data": {
            "text/plain": [
              "<Figure size 640x480 with 1 Axes>"
            ],
            "image/png": "[encoded data removed]"
          },
          "metadata": {}
        }
      ]
    },
    {
      "cell_type": "code",
      "source": [
        "import matplotlib.pyplot as plt\n",
        "print(electron_imgs.shape)\n",
        "for photon_imgs1 in photon_imgs[:1]:\n",
        "  # Display the first image from electron_imgs\n",
        "  plt.imshow(photon_imgs1[:, :, 0])  # Assuming it's a 2-channel image; adjust if needed\n",
        "  plt.title('Electron Image ch1')\n",
        "  plt.show()\n",
        "\n",
        "  # Display the first image from photon_imgs\n",
        "  plt.imshow(photon_imgs1[:, :, 1])  # Assuming it's a 2-channel image; adjust if needed\n",
        "  plt.title('Electron Image ch2')\n",
        "  plt.show()\n",
        "\n"
      ],
      "metadata": {
        "id": "6QCMTwpCad_d",
        "colab": {
          "base_uri": "https://localhost:8080/",
          "height": 905
        },
        "outputId": "68b2f67d-d11d-41ea-f59d-d1a4ca34fb39"
      },
      "execution_count": null,
      "outputs": [
        {
          "output_type": "stream",
          "name": "stdout",
          "text": [
            "(249000, 32, 32, 2)\n"
          ]
        },
        {
          "output_type": "display_data",
          "data": {
            "text/plain": [
              "<Figure size 640x480 with 1 Axes>"
            ],
            "image/png": "[encoded data removed]"
          },
          "metadata": {}
        },
        {
          "output_type": "display_data",
          "data": {
            "text/plain": [
              "<Figure size 640x480 with 1 Axes>"
            ],
            "image/png": "[encoded data removed]"
          },
          "metadata": {}
        }
      ]
    },
    {
      "cell_type": "code",
      "source": [
        "# concatenate electron and photon images/labels\n",
        "img_arrs = torch.Tensor(np.vstack((photon_imgs,electron_imgs)))\n",
        "labels = torch.Tensor(np.hstack((photon_labels,electron_labels))).to(torch.int64)\n",
        "img_arrs = img_arrs.permute(0,3,1,2)\n",
        "print(img_arrs.shape)"
      ],
      "metadata": {
        "id": "dcwmnQ0Cgnbb",
        "colab": {
          "base_uri": "https://localhost:8080/"
        },
        "outputId": "bbfffd21-247e-4343-94ab-427cfc1a6dc1"
      },
      "execution_count": null,
      "outputs": [
        {
          "output_type": "stream",
          "name": "stdout",
          "text": [
            "torch.Size([498000, 2, 32, 32])\n"
          ]
        }
      ]
    },
    {
      "cell_type": "code",
      "source": [
        "del electron_imgs,photon_imgs,electron_labels,photon_labels"
      ],
      "metadata": {
        "id": "fQSecL0TkC1f"
      },
      "execution_count": null,
      "outputs": []
    },
    {
      "cell_type": "code",
      "source": [
        "from torch.utils.data import Dataset, DataLoader, random_split\n",
        "\n",
        "class CustomDataset(Dataset):\n",
        "    def __init__(self, data, labels):\n",
        "        self.data = data\n",
        "        self.labels = labels\n",
        "\n",
        "    def __len__(self):\n",
        "        return len(self.data)\n",
        "\n",
        "    def __getitem__(self, idx):\n",
        "        sample = {'image': self.data[idx], 'label': self.labels[idx]}\n",
        "        return sample"
      ],
      "metadata": {
        "id": "fUl2ZnnZkkYX"
      },
      "execution_count": null,
      "outputs": []
    },
    {
      "cell_type": "code",
      "source": [
        "# Assuming img_arrs and labels are already defined\n",
        "custom_dataset = CustomDataset(img_arrs, labels)\n",
        "\n",
        "# Split the dataset into training, validation, and test sets\n",
        "train_size = int(0.7 * len(custom_dataset))\n",
        "valid_size = int(0.2 * len(custom_dataset))\n",
        "test_size = len(custom_dataset) - train_size - valid_size\n",
        "train_dataset, valid_dataset, test_dataset = random_split(custom_dataset, [train_size, valid_size, test_size])\n",
        "print(len(valid_dataset)+len(test_dataset)+len(train_dataset))"
      ],
      "metadata": {
        "id": "KWyyCrCtlfy-",
        "colab": {
          "base_uri": "https://localhost:8080/"
        },
        "outputId": "c0033ed3-734c-4d63-f01d-b063cafb0df0"
      },
      "execution_count": null,
      "outputs": [
        {
          "output_type": "stream",
          "name": "stdout",
          "text": [
            "498000\n"
          ]
        }
      ]
    },
    {
      "cell_type": "code",
      "source": [
        "# Create DataLoaders for training, validation, and test sets\n",
        "batch_size = 64\n",
        "train_loader = DataLoader(train_dataset, batch_size=batch_size, shuffle=True)\n",
        "val_loader = DataLoader(valid_dataset, batch_size=batch_size, shuffle=False)\n",
        "test_loader = DataLoader(test_dataset, batch_size=batch_size, shuffle=False)"
      ],
      "metadata": {
        "id": "ch-hCbwdmULp"
      },
      "execution_count": null,
      "outputs": []
    },
    {
      "cell_type": "code",
      "source": [
        "# next(iter(...)) catches the first batch of the data loader\n",
        "# If shuffle is True, this will return a different batch every time we run this cell\n",
        "# For iterating over the whole dataset, we can simple use \"for batch in data_loader: ...\"\n",
        "data_inputs = next(iter(train_loader))\n",
        "\n",
        "# The shape of the outputs are [batch_size, d_1,...,d_N] where d_1,...,d_N are the\n",
        "# dimensions of the data point returned from the dataset class\n",
        "print(\"Data inputs\", data_inputs['image'].shape, \"\\n\")\n",
        "print(\"Full\",data_inputs)"
      ],
      "metadata": {
        "id": "XwhYEd1JmbxU",
        "colab": {
          "base_uri": "https://localhost:8080/"
        },
        "outputId": "005bba04-be39-4463-c9f4-9bfec4cabeb6"
      },
      "execution_count": null,
      "outputs": [
        {
          "output_type": "stream",
          "name": "stdout",
          "text": [
            "Data inputs torch.Size([64, 2, 32, 32]) \n",
            "\n",
            "Full {'image': tensor([[[[0., 0., 0.,  ..., 0., 0., 0.],\n",
            "          [0., 0., 0.,  ..., 0., 0., 0.],\n",
            "          [0., 0., 0.,  ..., 0., 0., 0.],\n",
            "          ...,\n",
            "          [0., 0., 0.,  ..., 0., 0., 0.],\n",
            "          [0., 0., 0.,  ..., 0., 0., 0.],\n",
            "          [0., 0., 0.,  ..., 0., 0., 0.]],\n",
            "\n",
            "         [[0., 0., 0.,  ..., 0., 0., 0.],\n",
            "          [0., 0., 0.,  ..., 0., 0., 0.],\n",
            "          [0., 0., 0.,  ..., 0., 0., 0.],\n",
            "          ...,\n",
            "          [0., 0., 0.,  ..., 0., 0., 0.],\n",
            "          [0., 0., 0.,  ..., 0., 0., 0.],\n",
            "          [0., 0., 0.,  ..., 0., 0., 0.]]],\n",
            "\n",
            "\n",
            "        [[[0., 0., 0.,  ..., 0., 0., 0.],\n",
            "          [0., 0., 0.,  ..., 0., 0., 0.],\n",
            "          [0., 0., 0.,  ..., 0., 0., 0.],\n",
            "          ...,\n",
            "          [0., 0., 0.,  ..., 0., 0., 0.],\n",
            "          [0., 0., 0.,  ..., 0., 0., 0.],\n",
            "          [0., 0., 0.,  ..., 0., 0., 0.]],\n",
            "\n",
            "         [[0., 0., 0.,  ..., 0., 0., 0.],\n",
            "          [0., 0., 0.,  ..., 0., 0., 0.],\n",
            "          [0., 0., 0.,  ..., 0., 0., 0.],\n",
            "          ...,\n",
            "          [0., 0., 0.,  ..., 0., 0., 0.],\n",
            "          [0., 0., 0.,  ..., 0., 0., 0.],\n",
            "          [0., 0., 0.,  ..., 0., 0., 0.]]],\n",
            "\n",
            "\n",
            "        [[[0., 0., 0.,  ..., 0., 0., 0.],\n",
            "          [0., 0., 0.,  ..., 0., 0., 0.],\n",
            "          [0., 0., 0.,  ..., 0., 0., 0.],\n",
            "          ...,\n",
            "          [0., 0., 0.,  ..., 0., 0., 0.],\n",
            "          [0., 0., 0.,  ..., 0., 0., 0.],\n",
            "          [0., 0., 0.,  ..., 0., 0., 0.]],\n",
            "\n",
            "         [[0., 0., 0.,  ..., 0., 0., 0.],\n",
            "          [0., 0., 0.,  ..., 0., 0., 0.],\n",
            "          [0., 0., 0.,  ..., 0., 0., 0.],\n",
            "          ...,\n",
            "          [0., 0., 0.,  ..., 0., 0., 0.],\n",
            "          [0., 0., 0.,  ..., 0., 0., 0.],\n",
            "          [0., 0., 0.,  ..., 0., 0., 0.]]],\n",
            "\n",
            "\n",
            "        ...,\n",
            "\n",
            "\n",
            "        [[[0., 0., 0.,  ..., 0., 0., 0.],\n",
            "          [0., 0., 0.,  ..., 0., 0., 0.],\n",
            "          [0., 0., 0.,  ..., 0., 0., 0.],\n",
            "          ...,\n",
            "          [0., 0., 0.,  ..., 0., 0., 0.],\n",
            "          [0., 0., 0.,  ..., 0., 0., 0.],\n",
            "          [0., 0., 0.,  ..., 0., 0., 0.]],\n",
            "\n",
            "         [[0., 0., 0.,  ..., 0., 0., 0.],\n",
            "          [0., 0., 0.,  ..., 0., 0., 0.],\n",
            "          [0., 0., 0.,  ..., 0., 0., 0.],\n",
            "          ...,\n",
            "          [0., 0., 0.,  ..., 0., 0., 0.],\n",
            "          [0., 0., 0.,  ..., 0., 0., 0.],\n",
            "          [0., 0., 0.,  ..., 0., 0., 0.]]],\n",
            "\n",
            "\n",
            "        [[[0., 0., 0.,  ..., 0., 0., 0.],\n",
            "          [0., 0., 0.,  ..., 0., 0., 0.],\n",
            "          [0., 0., 0.,  ..., 0., 0., 0.],\n",
            "          ...,\n",
            "          [0., 0., 0.,  ..., 0., 0., 0.],\n",
            "          [0., 0., 0.,  ..., 0., 0., 0.],\n",
            "          [0., 0., 0.,  ..., 0., 0., 0.]],\n",
            "\n",
            "         [[0., 0., 0.,  ..., 0., 0., 0.],\n",
            "          [0., 0., 0.,  ..., 0., 0., 0.],\n",
            "          [0., 0., 0.,  ..., 0., 0., 0.],\n",
            "          ...,\n",
            "          [0., 0., 0.,  ..., 0., 0., 0.],\n",
            "          [0., 0., 0.,  ..., 0., 0., 0.],\n",
            "          [0., 0., 0.,  ..., 0., 0., 0.]]],\n",
            "\n",
            "\n",
            "        [[[0., 0., 0.,  ..., 0., 0., 0.],\n",
            "          [0., 0., 0.,  ..., 0., 0., 0.],\n",
            "          [0., 0., 0.,  ..., 0., 0., 0.],\n",
            "          ...,\n",
            "          [0., 0., 0.,  ..., 0., 0., 0.],\n",
            "          [0., 0., 0.,  ..., 0., 0., 0.],\n",
            "          [0., 0., 0.,  ..., 0., 0., 0.]],\n",
            "\n",
            "         [[0., 0., 0.,  ..., 0., 0., 0.],\n",
            "          [0., 0., 0.,  ..., 0., 0., 0.],\n",
            "          [0., 0., 0.,  ..., 0., 0., 0.],\n",
            "          ...,\n",
            "          [0., 0., 0.,  ..., 0., 0., 0.],\n",
            "          [0., 0., 0.,  ..., 0., 0., 0.],\n",
            "          [0., 0., 0.,  ..., 0., 0., 0.]]]]), 'label': tensor([0, 1, 1, 0, 0, 1, 1, 1, 1, 0, 0, 0, 0, 1, 0, 0, 0, 0, 0, 0, 0, 0, 0, 0,\n",
            "        1, 1, 1, 0, 1, 1, 1, 0, 1, 1, 0, 1, 1, 0, 0, 1, 0, 0, 0, 1, 1, 1, 1, 0,\n",
            "        0, 0, 1, 0, 0, 1, 0, 1, 1, 0, 0, 0, 1, 0, 0, 0])}\n"
          ]
        }
      ]
    },
    {
      "cell_type": "code",
      "source": [
        "my_conv1 = nn.Conv2d(in_channels=2, out_channels=32, kernel_size=3, padding=1)\n",
        "output=my_conv1((data_inputs['image']))\n",
        "print(output.shape)\n",
        "relu = nn.ReLU()\n",
        "output=output.view(batch_size,-1)\n",
        "print(output.shape[0],output.shape[1])\n",
        "fc = nn.Linear(output.shape[1],2)\n",
        "fc(output)"
      ],
      "metadata": {
        "id": "mMKDiN9bo2ar",
        "colab": {
          "base_uri": "https://localhost:8080/",
          "height": 399
        },
        "outputId": "8dc51192-e1bf-4703-80d1-57dcc5550c23"
      },
      "execution_count": null,
      "outputs": [
        {
          "output_type": "error",
          "ename": "RuntimeError",
          "evalue": "ignored",
          "traceback": [
            "\u001b[0;31m---------------------------------------------------------------------------\u001b[0m",
            "\u001b[0;31mRuntimeError\u001b[0m                              Traceback (most recent call last)",
            "\u001b[0;32m<ipython-input-18-ac083f90c335>\u001b[0m in \u001b[0;36m<cell line: 2>\u001b[0;34m()\u001b[0m\n\u001b[1;32m      1\u001b[0m \u001b[0mmy_conv1\u001b[0m \u001b[0;34m=\u001b[0m \u001b[0mnn\u001b[0m\u001b[0;34m.\u001b[0m\u001b[0mConv2d\u001b[0m\u001b[0;34m(\u001b[0m\u001b[0min_channels\u001b[0m\u001b[0;34m=\u001b[0m\u001b[0;36m2\u001b[0m\u001b[0;34m,\u001b[0m \u001b[0mout_channels\u001b[0m\u001b[0;34m=\u001b[0m\u001b[0;36m32\u001b[0m\u001b[0;34m,\u001b[0m \u001b[0mkernel_size\u001b[0m\u001b[0;34m=\u001b[0m\u001b[0;36m3\u001b[0m\u001b[0;34m,\u001b[0m \u001b[0mpadding\u001b[0m\u001b[0;34m=\u001b[0m\u001b[0;36m1\u001b[0m\u001b[0;34m)\u001b[0m\u001b[0;34m\u001b[0m\u001b[0;34m\u001b[0m\u001b[0m\n\u001b[0;32m----> 2\u001b[0;31m \u001b[0moutput\u001b[0m\u001b[0;34m=\u001b[0m\u001b[0mmy_conv1\u001b[0m\u001b[0;34m(\u001b[0m\u001b[0;34m(\u001b[0m\u001b[0mdata_inputs\u001b[0m\u001b[0;34m[\u001b[0m\u001b[0;34m'image'\u001b[0m\u001b[0;34m]\u001b[0m\u001b[0;34m)\u001b[0m\u001b[0;34m)\u001b[0m\u001b[0;34m\u001b[0m\u001b[0;34m\u001b[0m\u001b[0m\n\u001b[0m\u001b[1;32m      3\u001b[0m \u001b[0mprint\u001b[0m\u001b[0;34m(\u001b[0m\u001b[0moutput\u001b[0m\u001b[0;34m.\u001b[0m\u001b[0mshape\u001b[0m\u001b[0;34m)\u001b[0m\u001b[0;34m\u001b[0m\u001b[0;34m\u001b[0m\u001b[0m\n\u001b[1;32m      4\u001b[0m \u001b[0mrelu\u001b[0m \u001b[0;34m=\u001b[0m \u001b[0mnn\u001b[0m\u001b[0;34m.\u001b[0m\u001b[0mReLU\u001b[0m\u001b[0;34m(\u001b[0m\u001b[0;34m)\u001b[0m\u001b[0;34m\u001b[0m\u001b[0;34m\u001b[0m\u001b[0m\n\u001b[1;32m      5\u001b[0m \u001b[0moutput\u001b[0m\u001b[0;34m=\u001b[0m\u001b[0moutput\u001b[0m\u001b[0;34m.\u001b[0m\u001b[0mview\u001b[0m\u001b[0;34m(\u001b[0m\u001b[0mbatch_size\u001b[0m\u001b[0;34m,\u001b[0m\u001b[0;34m-\u001b[0m\u001b[0;36m1\u001b[0m\u001b[0;34m)\u001b[0m\u001b[0;34m\u001b[0m\u001b[0;34m\u001b[0m\u001b[0m\n",
            "\u001b[0;32m/usr/local/lib/python3.10/dist-packages/torch/nn/modules/module.py\u001b[0m in \u001b[0;36m_wrapped_call_impl\u001b[0;34m(self, *args, **kwargs)\u001b[0m\n\u001b[1;32m   1516\u001b[0m             \u001b[0;32mreturn\u001b[0m \u001b[0mself\u001b[0m\u001b[0;34m.\u001b[0m\u001b[0m_compiled_call_impl\u001b[0m\u001b[0;34m(\u001b[0m\u001b[0;34m*\u001b[0m\u001b[0margs\u001b[0m\u001b[0;34m,\u001b[0m \u001b[0;34m**\u001b[0m\u001b[0mkwargs\u001b[0m\u001b[0;34m)\u001b[0m  \u001b[0;31m# type: ignore[misc]\u001b[0m\u001b[0;34m\u001b[0m\u001b[0;34m\u001b[0m\u001b[0m\n\u001b[1;32m   1517\u001b[0m         \u001b[0;32melse\u001b[0m\u001b[0;34m:\u001b[0m\u001b[0;34m\u001b[0m\u001b[0;34m\u001b[0m\u001b[0m\n\u001b[0;32m-> 1518\u001b[0;31m             \u001b[0;32mreturn\u001b[0m \u001b[0mself\u001b[0m\u001b[0;34m.\u001b[0m\u001b[0m_call_impl\u001b[0m\u001b[0;34m(\u001b[0m\u001b[0;34m*\u001b[0m\u001b[0margs\u001b[0m\u001b[0;34m,\u001b[0m \u001b[0;34m**\u001b[0m\u001b[0mkwargs\u001b[0m\u001b[0;34m)\u001b[0m\u001b[0;34m\u001b[0m\u001b[0;34m\u001b[0m\u001b[0m\n\u001b[0m\u001b[1;32m   1519\u001b[0m \u001b[0;34m\u001b[0m\u001b[0m\n\u001b[1;32m   1520\u001b[0m     \u001b[0;32mdef\u001b[0m \u001b[0m_call_impl\u001b[0m\u001b[0;34m(\u001b[0m\u001b[0mself\u001b[0m\u001b[0;34m,\u001b[0m \u001b[0;34m*\u001b[0m\u001b[0margs\u001b[0m\u001b[0;34m,\u001b[0m \u001b[0;34m**\u001b[0m\u001b[0mkwargs\u001b[0m\u001b[0;34m)\u001b[0m\u001b[0;34m:\u001b[0m\u001b[0;34m\u001b[0m\u001b[0;34m\u001b[0m\u001b[0m\n",
            "\u001b[0;32m/usr/local/lib/python3.10/dist-packages/torch/nn/modules/module.py\u001b[0m in \u001b[0;36m_call_impl\u001b[0;34m(self, *args, **kwargs)\u001b[0m\n\u001b[1;32m   1525\u001b[0m                 \u001b[0;32mor\u001b[0m \u001b[0m_global_backward_pre_hooks\u001b[0m \u001b[0;32mor\u001b[0m \u001b[0m_global_backward_hooks\u001b[0m\u001b[0;34m\u001b[0m\u001b[0;34m\u001b[0m\u001b[0m\n\u001b[1;32m   1526\u001b[0m                 or _global_forward_hooks or _global_forward_pre_hooks):\n\u001b[0;32m-> 1527\u001b[0;31m             \u001b[0;32mreturn\u001b[0m \u001b[0mforward_call\u001b[0m\u001b[0;34m(\u001b[0m\u001b[0;34m*\u001b[0m\u001b[0margs\u001b[0m\u001b[0;34m,\u001b[0m \u001b[0;34m**\u001b[0m\u001b[0mkwargs\u001b[0m\u001b[0;34m)\u001b[0m\u001b[0;34m\u001b[0m\u001b[0;34m\u001b[0m\u001b[0m\n\u001b[0m\u001b[1;32m   1528\u001b[0m \u001b[0;34m\u001b[0m\u001b[0m\n\u001b[1;32m   1529\u001b[0m         \u001b[0;32mtry\u001b[0m\u001b[0;34m:\u001b[0m\u001b[0;34m\u001b[0m\u001b[0;34m\u001b[0m\u001b[0m\n",
            "\u001b[0;32m/usr/local/lib/python3.10/dist-packages/torch/nn/modules/conv.py\u001b[0m in \u001b[0;36mforward\u001b[0;34m(self, input)\u001b[0m\n\u001b[1;32m    458\u001b[0m \u001b[0;34m\u001b[0m\u001b[0m\n\u001b[1;32m    459\u001b[0m     \u001b[0;32mdef\u001b[0m \u001b[0mforward\u001b[0m\u001b[0;34m(\u001b[0m\u001b[0mself\u001b[0m\u001b[0;34m,\u001b[0m \u001b[0minput\u001b[0m\u001b[0;34m:\u001b[0m \u001b[0mTensor\u001b[0m\u001b[0;34m)\u001b[0m \u001b[0;34m->\u001b[0m \u001b[0mTensor\u001b[0m\u001b[0;34m:\u001b[0m\u001b[0;34m\u001b[0m\u001b[0;34m\u001b[0m\u001b[0m\n\u001b[0;32m--> 460\u001b[0;31m         \u001b[0;32mreturn\u001b[0m \u001b[0mself\u001b[0m\u001b[0;34m.\u001b[0m\u001b[0m_conv_forward\u001b[0m\u001b[0;34m(\u001b[0m\u001b[0minput\u001b[0m\u001b[0;34m,\u001b[0m \u001b[0mself\u001b[0m\u001b[0;34m.\u001b[0m\u001b[0mweight\u001b[0m\u001b[0;34m,\u001b[0m \u001b[0mself\u001b[0m\u001b[0;34m.\u001b[0m\u001b[0mbias\u001b[0m\u001b[0;34m)\u001b[0m\u001b[0;34m\u001b[0m\u001b[0;34m\u001b[0m\u001b[0m\n\u001b[0m\u001b[1;32m    461\u001b[0m \u001b[0;34m\u001b[0m\u001b[0m\n\u001b[1;32m    462\u001b[0m \u001b[0;32mclass\u001b[0m \u001b[0mConv3d\u001b[0m\u001b[0;34m(\u001b[0m\u001b[0m_ConvNd\u001b[0m\u001b[0;34m)\u001b[0m\u001b[0;34m:\u001b[0m\u001b[0;34m\u001b[0m\u001b[0;34m\u001b[0m\u001b[0m\n",
            "\u001b[0;32m/usr/local/lib/python3.10/dist-packages/torch/nn/modules/conv.py\u001b[0m in \u001b[0;36m_conv_forward\u001b[0;34m(self, input, weight, bias)\u001b[0m\n\u001b[1;32m    454\u001b[0m                             \u001b[0mweight\u001b[0m\u001b[0;34m,\u001b[0m \u001b[0mbias\u001b[0m\u001b[0;34m,\u001b[0m \u001b[0mself\u001b[0m\u001b[0;34m.\u001b[0m\u001b[0mstride\u001b[0m\u001b[0;34m,\u001b[0m\u001b[0;34m\u001b[0m\u001b[0;34m\u001b[0m\u001b[0m\n\u001b[1;32m    455\u001b[0m                             _pair(0), self.dilation, self.groups)\n\u001b[0;32m--> 456\u001b[0;31m         return F.conv2d(input, weight, bias, self.stride,\n\u001b[0m\u001b[1;32m    457\u001b[0m                         self.padding, self.dilation, self.groups)\n\u001b[1;32m    458\u001b[0m \u001b[0;34m\u001b[0m\u001b[0m\n",
            "\u001b[0;31mRuntimeError\u001b[0m: Given groups=1, weight of size [32, 2, 3, 3], expected input[64, 32, 32, 2] to have 2 channels, but got 32 channels instead"
          ]
        }
      ]
    },
    {
      "cell_type": "code",
      "source": [
        "# Define the CNN model\n",
        "class CNNModel(nn.Module):\n",
        "    def __init__(self):\n",
        "        super(CNNModel, self).__init__()\n",
        "        self.conv1 = nn.Conv2d(2, 32, kernel_size=3, stride=1, padding=1)\n",
        "        self.relu1 = nn.ReLU()\n",
        "        self.maxpool1 = nn.MaxPool2d(kernel_size=2, stride=2)\n",
        "        self.conv2 = nn.Conv2d(32, 64, kernel_size=3, stride=1, padding=1)\n",
        "        self.relu2 = nn.ReLU()\n",
        "        self.maxpool2 = nn.MaxPool2d(kernel_size=2, stride=2)\n",
        "        self.fc1 = nn.Linear(64 * 8 * 8, 128)\n",
        "        self.relu3 = nn.ReLU()\n",
        "        self.dropout = nn.Dropout(0.5)\n",
        "        self.fc2 = nn.Linear(128, 2)  # Output layer with 2 classes (electrons and photons)\n",
        "\n",
        "    def forward(self, x):\n",
        "        x = self.conv1(x)\n",
        "        x = self.relu1(x)\n",
        "        x = self.maxpool1(x)\n",
        "        x = self.conv2(x)\n",
        "        x = self.relu2(x)\n",
        "        x = self.maxpool2(x)\n",
        "        x = x.view(-1, 64 * 8 * 8)\n",
        "        x = self.fc1(x)\n",
        "        x = self.relu3(x)\n",
        "        x = self.dropout(x)\n",
        "        x = self.fc2(x)\n",
        "        return x\n",
        "\n",
        "# Initialize the model, loss function, and optimizer\n",
        "model = CNNModel()\n",
        "model.to(device)\n",
        "criterion = nn.CrossEntropyLoss()\n",
        "optimizer = optim.Adam(model.parameters(), lr=0.001)\n",
        "\n",
        "\n",
        "# Training the model\n",
        "num_epochs = 10\n",
        "for epoch in range(num_epochs):\n",
        "    model.train()\n",
        "    print(epoch, end=\"\\n\")\n",
        "    for inputs in train_loader:\n",
        "        if inputs['image'].shape[0] < 64:\n",
        "            print(\"false\")\n",
        "            break\n",
        "        inputs['image'] = inputs['image'].to(device)\n",
        "        inputs['label'] = inputs['label'].to(device)\n",
        "        optimizer.zero_grad()\n",
        "        outputs = model(inputs['image'])\n",
        "        loss = criterion(outputs, inputs['label'].long())\n",
        "        loss.backward()\n",
        "        optimizer.step()\n",
        "\n",
        "    # Evaluation on the test set\n",
        "    model.eval()\n",
        "    correct = 0\n",
        "    total = 0\n",
        "    with torch.no_grad():\n",
        "        for inputs in test_loader:\n",
        "            inputs['image'] = inputs['image'].to(device)\n",
        "            inputs['label'] = inputs['label'].to(device)\n",
        "            outputs = model(inputs['image'])\n",
        "            _, predicted = torch.max(outputs, 1)\n",
        "            total += inputs['label'].size(0)\n",
        "            correct += (predicted == inputs['label']).sum().item()\n",
        "\n",
        "    accuracy = correct / total\n",
        "    print(f\"Epoch {epoch + 1}/{num_epochs} - Test Accuracy: {accuracy * 100:.2f}%\")\n",
        "from sklearn.metrics import roc_auc_score"
      ],
      "metadata": {
        "colab": {
          "base_uri": "https://localhost:8080/",
          "height": 810
        },
        "id": "uGERq3CQpdWH",
        "outputId": "dd41f2da-9e10-4172-c23a-e5b4b1614abc"
      },
      "execution_count": null,
      "outputs": [
        {
          "output_type": "stream",
          "name": "stdout",
          "text": [
            "0\n",
            "false\n",
            "Epoch 1/10 - Test Accuracy: 68.46%\n",
            "1\n",
            "false\n",
            "Epoch 2/10 - Test Accuracy: 70.67%\n",
            "2\n",
            "false\n",
            "Epoch 3/10 - Test Accuracy: 70.12%\n",
            "3\n",
            "false\n",
            "Epoch 4/10 - Test Accuracy: 71.64%\n",
            "4\n",
            "false\n",
            "Epoch 5/10 - Test Accuracy: 71.94%\n",
            "5\n"
          ]
        },
        {
          "output_type": "error",
          "ename": "KeyboardInterrupt",
          "evalue": "ignored",
          "traceback": [
            "\u001b[0;31m---------------------------------------------------------------------------\u001b[0m",
            "\u001b[0;31mKeyboardInterrupt\u001b[0m                         Traceback (most recent call last)",
            "\u001b[0;32m<ipython-input-16-8d1ff3b0ef52>\u001b[0m in \u001b[0;36m<cell line: 39>\u001b[0;34m()\u001b[0m\n\u001b[1;32m     49\u001b[0m         \u001b[0moutputs\u001b[0m \u001b[0;34m=\u001b[0m \u001b[0mmodel\u001b[0m\u001b[0;34m(\u001b[0m\u001b[0minputs\u001b[0m\u001b[0;34m[\u001b[0m\u001b[0;34m'image'\u001b[0m\u001b[0;34m]\u001b[0m\u001b[0;34m)\u001b[0m\u001b[0;34m\u001b[0m\u001b[0;34m\u001b[0m\u001b[0m\n\u001b[1;32m     50\u001b[0m         \u001b[0mloss\u001b[0m \u001b[0;34m=\u001b[0m \u001b[0mcriterion\u001b[0m\u001b[0;34m(\u001b[0m\u001b[0moutputs\u001b[0m\u001b[0;34m,\u001b[0m \u001b[0minputs\u001b[0m\u001b[0;34m[\u001b[0m\u001b[0;34m'label'\u001b[0m\u001b[0;34m]\u001b[0m\u001b[0;34m.\u001b[0m\u001b[0mlong\u001b[0m\u001b[0;34m(\u001b[0m\u001b[0;34m)\u001b[0m\u001b[0;34m)\u001b[0m\u001b[0;34m\u001b[0m\u001b[0;34m\u001b[0m\u001b[0m\n\u001b[0;32m---> 51\u001b[0;31m         \u001b[0mloss\u001b[0m\u001b[0;34m.\u001b[0m\u001b[0mbackward\u001b[0m\u001b[0;34m(\u001b[0m\u001b[0;34m)\u001b[0m\u001b[0;34m\u001b[0m\u001b[0;34m\u001b[0m\u001b[0m\n\u001b[0m\u001b[1;32m     52\u001b[0m         \u001b[0moptimizer\u001b[0m\u001b[0;34m.\u001b[0m\u001b[0mstep\u001b[0m\u001b[0;34m(\u001b[0m\u001b[0;34m)\u001b[0m\u001b[0;34m\u001b[0m\u001b[0;34m\u001b[0m\u001b[0m\n\u001b[1;32m     53\u001b[0m \u001b[0;34m\u001b[0m\u001b[0m\n",
            "\u001b[0;32m/usr/local/lib/python3.10/dist-packages/torch/_tensor.py\u001b[0m in \u001b[0;36mbackward\u001b[0;34m(self, gradient, retain_graph, create_graph, inputs)\u001b[0m\n\u001b[1;32m    490\u001b[0m                 \u001b[0minputs\u001b[0m\u001b[0;34m=\u001b[0m\u001b[0minputs\u001b[0m\u001b[0;34m,\u001b[0m\u001b[0;34m\u001b[0m\u001b[0;34m\u001b[0m\u001b[0m\n\u001b[1;32m    491\u001b[0m             )\n\u001b[0;32m--> 492\u001b[0;31m         torch.autograd.backward(\n\u001b[0m\u001b[1;32m    493\u001b[0m             \u001b[0mself\u001b[0m\u001b[0;34m,\u001b[0m \u001b[0mgradient\u001b[0m\u001b[0;34m,\u001b[0m \u001b[0mretain_graph\u001b[0m\u001b[0;34m,\u001b[0m \u001b[0mcreate_graph\u001b[0m\u001b[0;34m,\u001b[0m \u001b[0minputs\u001b[0m\u001b[0;34m=\u001b[0m\u001b[0minputs\u001b[0m\u001b[0;34m\u001b[0m\u001b[0;34m\u001b[0m\u001b[0m\n\u001b[1;32m    494\u001b[0m         )\n",
            "\u001b[0;32m/usr/local/lib/python3.10/dist-packages/torch/autograd/__init__.py\u001b[0m in \u001b[0;36mbackward\u001b[0;34m(tensors, grad_tensors, retain_graph, create_graph, grad_variables, inputs)\u001b[0m\n\u001b[1;32m    249\u001b[0m     \u001b[0;31m# some Python versions print out the first line of a multi-line function\u001b[0m\u001b[0;34m\u001b[0m\u001b[0;34m\u001b[0m\u001b[0m\n\u001b[1;32m    250\u001b[0m     \u001b[0;31m# calls in the traceback and some print out the last line\u001b[0m\u001b[0;34m\u001b[0m\u001b[0;34m\u001b[0m\u001b[0m\n\u001b[0;32m--> 251\u001b[0;31m     Variable._execution_engine.run_backward(  # Calls into the C++ engine to run the backward pass\n\u001b[0m\u001b[1;32m    252\u001b[0m         \u001b[0mtensors\u001b[0m\u001b[0;34m,\u001b[0m\u001b[0;34m\u001b[0m\u001b[0;34m\u001b[0m\u001b[0m\n\u001b[1;32m    253\u001b[0m         \u001b[0mgrad_tensors_\u001b[0m\u001b[0;34m,\u001b[0m\u001b[0;34m\u001b[0m\u001b[0;34m\u001b[0m\u001b[0m\n",
            "\u001b[0;31mKeyboardInterrupt\u001b[0m: "
          ]
        }
      ]
    },
    {
      "cell_type": "code",
      "source": [
        "from sklearn.metrics import roc_auc_score\n",
        "\n",
        "# Define the CNN model\n",
        "class CNNModel(nn.Module):\n",
        "    def __init__(self):\n",
        "        super(CNNModel, self).__init__()\n",
        "        self.conv1 = nn.Conv2d(2, 32, kernel_size=3, stride=1, padding=1)\n",
        "        self.relu1 = nn.ReLU()\n",
        "        self.maxpool1 = nn.MaxPool2d(kernel_size=2, stride=2)\n",
        "        self.conv2 = nn.Conv2d(32, 64, kernel_size=3, stride=1, padding=1)\n",
        "        self.relu2 = nn.ReLU()\n",
        "        self.maxpool2 = nn.MaxPool2d(kernel_size=2, stride=2)\n",
        "        self.fc1 = nn.Linear(64 * 8 * 8, 64 * 8 * 8)\n",
        "        self.relu3 = nn.ReLU()\n",
        "        self.dropout = nn.Dropout(0.5)\n",
        "        self.fcshoun = nn.Linear(64 * 8 * 8, 128)\n",
        "        self.relushoun = nn.ReLU()\n",
        "        self.dropoutshoun = nn.Dropout(0.5)\n",
        "        self.fc2 = nn.Linear(128, 2)  # Output layer with 2 classes (electrons and photons)\n",
        "\n",
        "    def forward(self, x):\n",
        "        x = self.conv1(x)\n",
        "        x = self.relu1(x)\n",
        "        x = self.maxpool1(x)\n",
        "        x = self.conv2(x)\n",
        "        x = self.relu2(x)\n",
        "        x = self.maxpool2(x)\n",
        "        x = x.view(-1, 64 * 8 * 8)\n",
        "        x = self.fc1(x)\n",
        "        x = self.relu3(x)\n",
        "        x = self.dropout(x)\n",
        "        x = self.fcshoun(x)\n",
        "        x = self.relushoun(x)\n",
        "        x = self.dropoutshoun(x)\n",
        "        x = self.fc2(x)\n",
        "        return x\n",
        "\n",
        "# Initialize the model, loss function, and optimizer\n",
        "model = CNNModel()\n",
        "model.to(device)\n",
        "criterion = nn.CrossEntropyLoss()\n",
        "optimizer = optim.Adam(model.parameters(), lr=0.001)\n",
        "\n",
        "\n",
        "# Training the model\n",
        "num_epochs = 20\n",
        "for epoch in range(num_epochs):\n",
        "    model.train()\n",
        "    # print(epoch, end=\"\\n\")\n",
        "    for inputs in train_loader:\n",
        "        if inputs['image'].shape[0] < 64:\n",
        "            # print(\"false\")\n",
        "            break\n",
        "        inputs['image'] = inputs['image'].to(device)\n",
        "        inputs['label'] = inputs['label'].to(device)\n",
        "        optimizer.zero_grad()\n",
        "        outputs = model(inputs['image'])\n",
        "        loss = criterion(outputs, inputs['label'].long())\n",
        "        loss.backward()\n",
        "        optimizer.step()\n",
        "\n",
        "    # Evaluation on the test set\n",
        "    model.eval()\n",
        "    correct = 0\n",
        "    total = 0\n",
        "    all_labels = []\n",
        "    all_probs = []\n",
        "    with torch.no_grad():\n",
        "        for inputs in test_loader:\n",
        "            inputs['image'] = inputs['image'].to(device)\n",
        "            inputs['label'] = inputs['label'].to(device)\n",
        "            outputs = model(inputs['image'])\n",
        "            _, predicted = torch.max(outputs, 1)\n",
        "            total += inputs['label'].size(0)\n",
        "            correct += (predicted == inputs['label']).sum().item()\n",
        "\n",
        "            # Calculate ROC-AUC\n",
        "            probs = torch.softmax(outputs, dim=1)\n",
        "            all_labels.extend(inputs['label'].cpu().numpy())\n",
        "            all_probs.extend(probs[:, 1].cpu().numpy())  # Assuming class 1 is the positive class\n",
        "\n",
        "    accuracy = correct / total\n",
        "    print(f\"Epoch {epoch + 1}/{num_epochs} - Test Accuracy: {accuracy * 100:.2f}%\")\n",
        "\n",
        "    # Calculate ROC-AUC\n",
        "    roc_auc = roc_auc_score(all_labels, all_probs)\n",
        "    print(f\"Epoch {epoch + 1}/{num_epochs} - ROC AUC: {roc_auc:.4f}\")\n"
      ],
      "metadata": {
        "colab": {
          "base_uri": "https://localhost:8080/"
        },
        "id": "6Ew-8L93YzJ7",
        "outputId": "8b9b22ff-40f6-44ee-e967-dd56cb5f370e"
      },
      "execution_count": null,
      "outputs": [
        {
          "output_type": "stream",
          "name": "stdout",
          "text": [
            "Epoch 1/20 - Test Accuracy: 68.58%\n",
            "Epoch 1/20 - ROC AUC: 0.7409\n",
            "Epoch 2/20 - Test Accuracy: 70.18%\n",
            "Epoch 2/20 - ROC AUC: 0.7631\n",
            "Epoch 3/20 - Test Accuracy: 71.09%\n",
            "Epoch 3/20 - ROC AUC: 0.7721\n",
            "Epoch 4/20 - Test Accuracy: 71.13%\n",
            "Epoch 4/20 - ROC AUC: 0.7744\n",
            "Epoch 5/20 - Test Accuracy: 71.80%\n",
            "Epoch 5/20 - ROC AUC: 0.7806\n",
            "Epoch 6/20 - Test Accuracy: 71.74%\n",
            "Epoch 6/20 - ROC AUC: 0.7822\n",
            "Epoch 7/20 - Test Accuracy: 70.92%\n",
            "Epoch 7/20 - ROC AUC: 0.7781\n",
            "Epoch 8/20 - Test Accuracy: 71.36%\n",
            "Epoch 8/20 - ROC AUC: 0.7828\n",
            "Epoch 9/20 - Test Accuracy: 71.91%\n",
            "Epoch 9/20 - ROC AUC: 0.7850\n",
            "Epoch 10/20 - Test Accuracy: 72.29%\n",
            "Epoch 10/20 - ROC AUC: 0.7865\n",
            "Epoch 11/20 - Test Accuracy: 72.07%\n",
            "Epoch 11/20 - ROC AUC: 0.7875\n",
            "Epoch 12/20 - Test Accuracy: 72.18%\n",
            "Epoch 12/20 - ROC AUC: 0.7898\n",
            "Epoch 13/20 - Test Accuracy: 72.59%\n",
            "Epoch 13/20 - ROC AUC: 0.7918\n",
            "Epoch 14/20 - Test Accuracy: 72.30%\n",
            "Epoch 14/20 - ROC AUC: 0.7923\n",
            "Epoch 15/20 - Test Accuracy: 72.55%\n",
            "Epoch 15/20 - ROC AUC: 0.7909\n",
            "Epoch 16/20 - Test Accuracy: 72.58%\n",
            "Epoch 16/20 - ROC AUC: 0.7914\n",
            "Epoch 17/20 - Test Accuracy: 72.12%\n",
            "Epoch 17/20 - ROC AUC: 0.7877\n",
            "Epoch 18/20 - Test Accuracy: 72.82%\n",
            "Epoch 18/20 - ROC AUC: 0.7936\n",
            "Epoch 19/20 - Test Accuracy: 72.88%\n",
            "Epoch 19/20 - ROC AUC: 0.7935\n",
            "Epoch 20/20 - Test Accuracy: 72.84%\n",
            "Epoch 20/20 - ROC AUC: 0.7942\n"
          ]
        }
      ]
    },
    {
      "cell_type": "code",
      "source": [
        "from tqdm import tqdm\n",
        "\n",
        "# Define the CNN model\n",
        "class CNNModel(nn.Module):\n",
        "    def __init__(self):\n",
        "        super(CNNModel, self).__init__()\n",
        "        self.conv1 = nn.Conv2d(2, 32, kernel_size=3, stride=1, padding=1)\n",
        "        self.relu1 = nn.ReLU()\n",
        "        self.maxpool1 = nn.MaxPool2d(kernel_size=2, stride=2)\n",
        "        self.conv2 = nn.Conv2d(32, 64, kernel_size=3, stride=1, padding=1)\n",
        "        self.relu2 = nn.ReLU()\n",
        "        self.maxpool2 = nn.MaxPool2d(kernel_size=2, stride=2)\n",
        "        self.fc1 = nn.Linear(64 * 8 * 8, 64 * 8 * 8)\n",
        "        self.relu3 = nn.ReLU()\n",
        "        self.dropout = nn.Dropout(0.2)\n",
        "        self.fcshoun = nn.Linear(64 * 8 * 8, 128)\n",
        "        self.relushoun = nn.ReLU()\n",
        "        self.dropoutshoun = nn.Dropout(0.5)\n",
        "        self.fc2 = nn.Linear(128, 2)  # Output layer with 2 classes (electrons and photons)\n",
        "\n",
        "    def forward(self, x):\n",
        "        x = self.conv1(x)\n",
        "        x = self.relu1(x)\n",
        "        x = self.maxpool1(x)\n",
        "        x = self.conv2(x)\n",
        "        x = self.relu2(x)\n",
        "        x = self.maxpool2(x)\n",
        "        x = x.view(-1, 64 * 8 * 8)\n",
        "        x = self.fc1(x)\n",
        "        x = self.relu3(x)\n",
        "        x = self.dropout(x)\n",
        "        x = self.fcshoun(x)\n",
        "        x = self.relushoun(x)\n",
        "        x = self.dropoutshoun(x)\n",
        "        x = self.fc2(x)\n",
        "        return x\n",
        "\n",
        "# Initialize the model, loss function, and optimizer\n",
        "model = CNNModel()\n",
        "model.to(device)\n",
        "criterion = nn.CrossEntropyLoss()\n",
        "optimizer = optim.Adam(model.parameters(), lr=0.001)\n",
        "\n",
        "\n",
        "# Training the model\n",
        "num_epochs = 30\n",
        "for epoch in range(num_epochs):\n",
        "    model.train()\n",
        "    # print(epoch, end=\"\\n\")\n",
        "    for inputs in tqdm(train_loader, desc=f\"Epoch {epoch + 1}/{num_epochs} - Training\"):\n",
        "        if inputs['image'].shape[0] < 64:\n",
        "            # print(\"false\")\n",
        "            break\n",
        "        inputs['image'] = inputs['image'].to(device)\n",
        "        inputs['label'] = inputs['label'].to(device)\n",
        "        optimizer.zero_grad()\n",
        "        outputs = model(inputs['image'])\n",
        "        loss = criterion(outputs, inputs['label'].long())\n",
        "        loss.backward()\n",
        "        optimizer.step()\n",
        "\n",
        "    # Evaluation on the test set\n",
        "    model.eval()\n",
        "    correct = 0\n",
        "    total = 0\n",
        "    all_labels = []\n",
        "    all_probs = []\n",
        "    with torch.no_grad():\n",
        "        for inputs in tqdm(test_loader, desc=f\"Epoch {epoch + 1}/{num_epochs} - Testing\"):\n",
        "            inputs['image'] = inputs['image'].to(device)\n",
        "            inputs['label'] = inputs['label'].to(device)\n",
        "            outputs = model(inputs['image'])\n",
        "            _, predicted = torch.max(outputs, 1)\n",
        "            total += inputs['label'].size(0)\n",
        "            correct += (predicted == inputs['label']).sum().item()\n",
        "\n",
        "            # Calculate ROC-AUC\n",
        "            probs = torch.softmax(outputs, dim=1)\n",
        "            all_labels.extend(inputs['label'].cpu().numpy())\n",
        "            all_probs.extend(probs[:, 1].cpu().numpy())  # Assuming class 1 is the positive class\n",
        "\n",
        "    accuracy = correct / total\n",
        "    print(f\"Epoch {epoch + 1}/{num_epochs} - Test Accuracy: {accuracy * 100:.2f}%\")\n",
        "\n",
        "    # Calculate ROC-AUC\n",
        "    roc_auc = roc_auc_score(all_labels, all_probs)\n",
        "    print(f\"Epoch {epoch + 1}/{num_epochs} - ROC AUC: {roc_auc:.4f}\")\n"
      ],
      "metadata": {
        "colab": {
          "base_uri": "https://localhost:8080/"
        },
        "id": "zQ-XzYhNkTH-",
        "outputId": "7023c1c5-ed1c-4cf3-e558-5b5614f26b03"
      },
      "execution_count": null,
      "outputs": [
        {
          "output_type": "stream",
          "name": "stderr",
          "text": [
            "Epoch 1/30 - Training: 100%|█████████▉| 5446/5447 [00:49<00:00, 110.75it/s]\n",
            "Epoch 1/30 - Testing: 100%|██████████| 779/779 [00:01<00:00, 410.27it/s]\n"
          ]
        },
        {
          "output_type": "stream",
          "name": "stdout",
          "text": [
            "Epoch 1/30 - Test Accuracy: 67.39%\n",
            "Epoch 1/30 - ROC AUC: 0.7413\n"
          ]
        },
        {
          "output_type": "stream",
          "name": "stderr",
          "text": [
            "Epoch 2/30 - Training: 100%|█████████▉| 5446/5447 [00:50<00:00, 107.01it/s]\n",
            "Epoch 2/30 - Testing: 100%|██████████| 779/779 [00:01<00:00, 426.80it/s]\n"
          ]
        },
        {
          "output_type": "stream",
          "name": "stdout",
          "text": [
            "Epoch 2/30 - Test Accuracy: 70.09%\n",
            "Epoch 2/30 - ROC AUC: 0.7628\n"
          ]
        },
        {
          "output_type": "stream",
          "name": "stderr",
          "text": [
            "Epoch 3/30 - Training: 100%|█████████▉| 5446/5447 [00:48<00:00, 111.78it/s]\n",
            "Epoch 3/30 - Testing: 100%|██████████| 779/779 [00:02<00:00, 354.00it/s]\n"
          ]
        },
        {
          "output_type": "stream",
          "name": "stdout",
          "text": [
            "Epoch 3/30 - Test Accuracy: 71.09%\n",
            "Epoch 3/30 - ROC AUC: 0.7723\n"
          ]
        },
        {
          "output_type": "stream",
          "name": "stderr",
          "text": [
            "Epoch 4/30 - Training: 100%|█████████▉| 5446/5447 [00:48<00:00, 111.82it/s]\n",
            "Epoch 4/30 - Testing: 100%|██████████| 779/779 [00:02<00:00, 349.32it/s]\n"
          ]
        },
        {
          "output_type": "stream",
          "name": "stdout",
          "text": [
            "Epoch 4/30 - Test Accuracy: 71.56%\n",
            "Epoch 4/30 - ROC AUC: 0.7791\n"
          ]
        },
        {
          "output_type": "stream",
          "name": "stderr",
          "text": [
            "Epoch 5/30 - Training: 100%|█████████▉| 5446/5447 [00:48<00:00, 112.46it/s]\n",
            "Epoch 5/30 - Testing: 100%|██████████| 779/779 [00:01<00:00, 424.87it/s]\n"
          ]
        },
        {
          "output_type": "stream",
          "name": "stdout",
          "text": [
            "Epoch 5/30 - Test Accuracy: 71.54%\n",
            "Epoch 5/30 - ROC AUC: 0.7818\n"
          ]
        },
        {
          "output_type": "stream",
          "name": "stderr",
          "text": [
            "Epoch 6/30 - Training: 100%|█████████▉| 5446/5447 [00:48<00:00, 112.55it/s]\n",
            "Epoch 6/30 - Testing: 100%|██████████| 779/779 [00:01<00:00, 426.32it/s]\n"
          ]
        },
        {
          "output_type": "stream",
          "name": "stdout",
          "text": [
            "Epoch 6/30 - Test Accuracy: 71.86%\n",
            "Epoch 6/30 - ROC AUC: 0.7845\n"
          ]
        },
        {
          "output_type": "stream",
          "name": "stderr",
          "text": [
            "Epoch 7/30 - Training: 100%|█████████▉| 5446/5447 [00:48<00:00, 112.58it/s]\n",
            "Epoch 7/30 - Testing: 100%|██████████| 779/779 [00:01<00:00, 423.27it/s]\n"
          ]
        },
        {
          "output_type": "stream",
          "name": "stdout",
          "text": [
            "Epoch 7/30 - Test Accuracy: 71.93%\n",
            "Epoch 7/30 - ROC AUC: 0.7859\n"
          ]
        },
        {
          "output_type": "stream",
          "name": "stderr",
          "text": [
            "Epoch 8/30 - Training: 100%|█████████▉| 5446/5447 [00:48<00:00, 111.63it/s]\n",
            "Epoch 8/30 - Testing: 100%|██████████| 779/779 [00:01<00:00, 419.17it/s]\n"
          ]
        },
        {
          "output_type": "stream",
          "name": "stdout",
          "text": [
            "Epoch 8/30 - Test Accuracy: 72.01%\n",
            "Epoch 8/30 - ROC AUC: 0.7857\n"
          ]
        },
        {
          "output_type": "stream",
          "name": "stderr",
          "text": [
            "Epoch 9/30 - Training: 100%|█████████▉| 5446/5447 [00:48<00:00, 112.66it/s]\n",
            "Epoch 9/30 - Testing: 100%|██████████| 779/779 [00:02<00:00, 372.75it/s]\n"
          ]
        },
        {
          "output_type": "stream",
          "name": "stdout",
          "text": [
            "Epoch 9/30 - Test Accuracy: 72.41%\n",
            "Epoch 9/30 - ROC AUC: 0.7906\n"
          ]
        },
        {
          "output_type": "stream",
          "name": "stderr",
          "text": [
            "Epoch 10/30 - Training: 100%|█████████▉| 5446/5447 [00:48<00:00, 111.89it/s]\n",
            "Epoch 10/30 - Testing: 100%|██████████| 779/779 [00:02<00:00, 306.66it/s]\n"
          ]
        },
        {
          "output_type": "stream",
          "name": "stdout",
          "text": [
            "Epoch 10/30 - Test Accuracy: 72.76%\n",
            "Epoch 10/30 - ROC AUC: 0.7922\n"
          ]
        },
        {
          "output_type": "stream",
          "name": "stderr",
          "text": [
            "Epoch 11/30 - Training: 100%|█████████▉| 5446/5447 [00:48<00:00, 112.37it/s]\n",
            "Epoch 11/30 - Testing: 100%|██████████| 779/779 [00:02<00:00, 344.47it/s]\n"
          ]
        },
        {
          "output_type": "stream",
          "name": "stdout",
          "text": [
            "Epoch 11/30 - Test Accuracy: 72.73%\n",
            "Epoch 11/30 - ROC AUC: 0.7924\n"
          ]
        },
        {
          "output_type": "stream",
          "name": "stderr",
          "text": [
            "Epoch 12/30 - Training: 100%|█████████▉| 5446/5447 [00:48<00:00, 112.70it/s]\n",
            "Epoch 12/30 - Testing: 100%|██████████| 779/779 [00:01<00:00, 423.81it/s]\n"
          ]
        },
        {
          "output_type": "stream",
          "name": "stdout",
          "text": [
            "Epoch 12/30 - Test Accuracy: 72.73%\n",
            "Epoch 12/30 - ROC AUC: 0.7932\n"
          ]
        },
        {
          "output_type": "stream",
          "name": "stderr",
          "text": [
            "Epoch 13/30 - Training: 100%|█████████▉| 5446/5447 [00:48<00:00, 112.87it/s]\n",
            "Epoch 13/30 - Testing: 100%|██████████| 779/779 [00:01<00:00, 427.02it/s]\n"
          ]
        },
        {
          "output_type": "stream",
          "name": "stdout",
          "text": [
            "Epoch 13/30 - Test Accuracy: 72.63%\n",
            "Epoch 13/30 - ROC AUC: 0.7940\n"
          ]
        },
        {
          "output_type": "stream",
          "name": "stderr",
          "text": [
            "Epoch 14/30 - Training: 100%|█████████▉| 5446/5447 [00:48<00:00, 113.22it/s]\n",
            "Epoch 14/30 - Testing: 100%|██████████| 779/779 [00:01<00:00, 427.12it/s]\n"
          ]
        },
        {
          "output_type": "stream",
          "name": "stdout",
          "text": [
            "Epoch 14/30 - Test Accuracy: 72.30%\n",
            "Epoch 14/30 - ROC AUC: 0.7940\n"
          ]
        },
        {
          "output_type": "stream",
          "name": "stderr",
          "text": [
            "Epoch 15/30 - Training: 100%|█████████▉| 5446/5447 [00:49<00:00, 110.25it/s]\n",
            "Epoch 15/30 - Testing: 100%|██████████| 779/779 [00:02<00:00, 356.88it/s]\n"
          ]
        },
        {
          "output_type": "stream",
          "name": "stdout",
          "text": [
            "Epoch 15/30 - Test Accuracy: 72.94%\n",
            "Epoch 15/30 - ROC AUC: 0.7951\n"
          ]
        },
        {
          "output_type": "stream",
          "name": "stderr",
          "text": [
            "Epoch 16/30 - Training: 100%|█████████▉| 5446/5447 [00:48<00:00, 112.98it/s]\n",
            "Epoch 16/30 - Testing: 100%|██████████| 779/779 [00:02<00:00, 351.92it/s]\n"
          ]
        },
        {
          "output_type": "stream",
          "name": "stdout",
          "text": [
            "Epoch 16/30 - Test Accuracy: 72.88%\n",
            "Epoch 16/30 - ROC AUC: 0.7954\n"
          ]
        },
        {
          "output_type": "stream",
          "name": "stderr",
          "text": [
            "Epoch 17/30 - Training: 100%|█████████▉| 5446/5447 [00:48<00:00, 112.80it/s]\n",
            "Epoch 17/30 - Testing: 100%|██████████| 779/779 [00:01<00:00, 425.63it/s]\n"
          ]
        },
        {
          "output_type": "stream",
          "name": "stdout",
          "text": [
            "Epoch 17/30 - Test Accuracy: 72.70%\n",
            "Epoch 17/30 - ROC AUC: 0.7944\n"
          ]
        },
        {
          "output_type": "stream",
          "name": "stderr",
          "text": [
            "Epoch 18/30 - Training: 100%|█████████▉| 5446/5447 [00:48<00:00, 113.10it/s]\n",
            "Epoch 18/30 - Testing: 100%|██████████| 779/779 [00:01<00:00, 425.00it/s]\n"
          ]
        },
        {
          "output_type": "stream",
          "name": "stdout",
          "text": [
            "Epoch 18/30 - Test Accuracy: 72.99%\n",
            "Epoch 18/30 - ROC AUC: 0.7957\n"
          ]
        },
        {
          "output_type": "stream",
          "name": "stderr",
          "text": [
            "Epoch 19/30 - Training: 100%|█████████▉| 5446/5447 [00:48<00:00, 112.36it/s]\n",
            "Epoch 19/30 - Testing: 100%|██████████| 779/779 [00:01<00:00, 424.08it/s]\n"
          ]
        },
        {
          "output_type": "stream",
          "name": "stdout",
          "text": [
            "Epoch 19/30 - Test Accuracy: 72.88%\n",
            "Epoch 19/30 - ROC AUC: 0.7958\n"
          ]
        },
        {
          "output_type": "stream",
          "name": "stderr",
          "text": [
            "Epoch 20/30 - Training: 100%|█████████▉| 5446/5447 [00:48<00:00, 112.82it/s]\n",
            "Epoch 20/30 - Testing: 100%|██████████| 779/779 [00:02<00:00, 378.78it/s]\n"
          ]
        },
        {
          "output_type": "stream",
          "name": "stdout",
          "text": [
            "Epoch 20/30 - Test Accuracy: 72.88%\n",
            "Epoch 20/30 - ROC AUC: 0.7954\n"
          ]
        },
        {
          "output_type": "stream",
          "name": "stderr",
          "text": [
            "Epoch 21/30 - Training: 100%|█████████▉| 5446/5447 [00:48<00:00, 113.05it/s]\n",
            "Epoch 21/30 - Testing: 100%|██████████| 779/779 [00:02<00:00, 350.41it/s]\n"
          ]
        },
        {
          "output_type": "stream",
          "name": "stdout",
          "text": [
            "Epoch 21/30 - Test Accuracy: 73.02%\n",
            "Epoch 21/30 - ROC AUC: 0.7963\n"
          ]
        },
        {
          "output_type": "stream",
          "name": "stderr",
          "text": [
            "Epoch 22/30 - Training: 100%|█████████▉| 5446/5447 [00:48<00:00, 112.71it/s]\n",
            "Epoch 22/30 - Testing: 100%|██████████| 779/779 [00:01<00:00, 396.53it/s]\n"
          ]
        },
        {
          "output_type": "stream",
          "name": "stdout",
          "text": [
            "Epoch 22/30 - Test Accuracy: 73.03%\n",
            "Epoch 22/30 - ROC AUC: 0.7963\n"
          ]
        },
        {
          "output_type": "stream",
          "name": "stderr",
          "text": [
            "Epoch 23/30 - Training: 100%|█████████▉| 5446/5447 [00:48<00:00, 112.92it/s]\n",
            "Epoch 23/30 - Testing: 100%|██████████| 779/779 [00:01<00:00, 422.21it/s]\n"
          ]
        },
        {
          "output_type": "stream",
          "name": "stdout",
          "text": [
            "Epoch 23/30 - Test Accuracy: 72.95%\n",
            "Epoch 23/30 - ROC AUC: 0.7962\n"
          ]
        },
        {
          "output_type": "stream",
          "name": "stderr",
          "text": [
            "Epoch 24/30 - Training: 100%|█████████▉| 5446/5447 [00:48<00:00, 112.83it/s]\n",
            "Epoch 24/30 - Testing: 100%|██████████| 779/779 [00:01<00:00, 426.21it/s]\n"
          ]
        },
        {
          "output_type": "stream",
          "name": "stdout",
          "text": [
            "Epoch 24/30 - Test Accuracy: 72.23%\n",
            "Epoch 24/30 - ROC AUC: 0.7862\n"
          ]
        },
        {
          "output_type": "stream",
          "name": "stderr",
          "text": [
            "Epoch 25/30 - Training: 100%|█████████▉| 5446/5447 [00:48<00:00, 113.20it/s]\n",
            "Epoch 25/30 - Testing: 100%|██████████| 779/779 [00:01<00:00, 427.69it/s]\n"
          ]
        },
        {
          "output_type": "stream",
          "name": "stdout",
          "text": [
            "Epoch 25/30 - Test Accuracy: 72.99%\n",
            "Epoch 25/30 - ROC AUC: 0.7965\n"
          ]
        },
        {
          "output_type": "stream",
          "name": "stderr",
          "text": [
            "Epoch 26/30 - Training: 100%|█████████▉| 5446/5447 [00:48<00:00, 113.01it/s]\n",
            "Epoch 26/30 - Testing: 100%|██████████| 779/779 [00:02<00:00, 357.92it/s]\n"
          ]
        },
        {
          "output_type": "stream",
          "name": "stdout",
          "text": [
            "Epoch 26/30 - Test Accuracy: 72.41%\n",
            "Epoch 26/30 - ROC AUC: 0.7952\n"
          ]
        },
        {
          "output_type": "stream",
          "name": "stderr",
          "text": [
            "Epoch 27/30 - Training: 100%|█████████▉| 5446/5447 [00:48<00:00, 113.03it/s]\n",
            "Epoch 27/30 - Testing: 100%|██████████| 779/779 [00:02<00:00, 350.66it/s]\n"
          ]
        },
        {
          "output_type": "stream",
          "name": "stdout",
          "text": [
            "Epoch 27/30 - Test Accuracy: 73.02%\n",
            "Epoch 27/30 - ROC AUC: 0.7964\n"
          ]
        },
        {
          "output_type": "stream",
          "name": "stderr",
          "text": [
            "Epoch 28/30 - Training: 100%|█████████▉| 5446/5447 [00:48<00:00, 112.98it/s]\n",
            "Epoch 28/30 - Testing: 100%|██████████| 779/779 [00:01<00:00, 417.20it/s]\n"
          ]
        },
        {
          "output_type": "stream",
          "name": "stdout",
          "text": [
            "Epoch 28/30 - Test Accuracy: 72.76%\n",
            "Epoch 28/30 - ROC AUC: 0.7953\n"
          ]
        },
        {
          "output_type": "stream",
          "name": "stderr",
          "text": [
            "Epoch 29/30 - Training: 100%|█████████▉| 5446/5447 [00:48<00:00, 112.65it/s]\n",
            "Epoch 29/30 - Testing: 100%|██████████| 779/779 [00:01<00:00, 416.95it/s]\n"
          ]
        },
        {
          "output_type": "stream",
          "name": "stdout",
          "text": [
            "Epoch 29/30 - Test Accuracy: 72.81%\n",
            "Epoch 29/30 - ROC AUC: 0.7945\n"
          ]
        },
        {
          "output_type": "stream",
          "name": "stderr",
          "text": [
            "Epoch 30/30 - Training: 100%|█████████▉| 5446/5447 [00:48<00:00, 112.95it/s]\n",
            "Epoch 30/30 - Testing: 100%|██████████| 779/779 [00:01<00:00, 420.75it/s]"
          ]
        },
        {
          "output_type": "stream",
          "name": "stdout",
          "text": [
            "Epoch 30/30 - Test Accuracy: 72.97%\n",
            "Epoch 30/30 - ROC AUC: 0.7960\n"
          ]
        },
        {
          "output_type": "stream",
          "name": "stderr",
          "text": [
            "\n"
          ]
        }
      ]
    },
    {
      "cell_type": "code",
      "source": [
        "from tqdm import tqdm\n",
        "from torch.optim import lr_scheduler\n",
        "\n",
        "# Define the CNN model\n",
        "class CNNModel(nn.Module):\n",
        "    def __init__(self):\n",
        "        super(CNNModel, self).__init__()\n",
        "        self.conv1 = nn.Conv2d(2, 32, kernel_size=3, stride=1, padding=1)\n",
        "        self.relu1 = nn.ReLU()\n",
        "        self.maxpool1 = nn.MaxPool2d(kernel_size=2, stride=2)\n",
        "        self.conv2 = nn.Conv2d(32, 64, kernel_size=3, stride=1, padding=1)\n",
        "        self.relu2 = nn.ReLU()\n",
        "        self.maxpool2 = nn.MaxPool2d(kernel_size=2, stride=2)\n",
        "        self.fc1 = nn.Linear(64 * 8 * 8, 64 * 8 * 8)\n",
        "        self.relu3 = nn.ReLU()\n",
        "        self.dropout = nn.Dropout(0.2)\n",
        "        self.fcshoun = nn.Linear(64 * 8 * 8, 128)\n",
        "        self.relushoun = nn.ReLU()\n",
        "        self.dropoutshoun = nn.Dropout(0.5)\n",
        "        self.fc2 = nn.Linear(128, 2)  # Output layer with 2 classes (electrons and photons)\n",
        "\n",
        "    def forward(self, x):\n",
        "        x = self.conv1(x)\n",
        "        x = self.relu1(x)\n",
        "        x = self.maxpool1(x)\n",
        "        x = self.conv2(x)\n",
        "        x = self.relu2(x)\n",
        "        x = self.maxpool2(x)\n",
        "        x = x.view(-1, 64 * 8 * 8)\n",
        "        x = self.fc1(x)\n",
        "        x = self.relu3(x)\n",
        "        x = self.dropout(x)\n",
        "        x = self.fcshoun(x)\n",
        "        x = self.relushoun(x)\n",
        "        x = self.dropoutshoun(x)\n",
        "        x = self.fc2(x)\n",
        "        return x\n",
        "\n",
        "# Initialize the model, loss function, and optimizer\n",
        "model = CNNModel()\n",
        "model.to(device)\n",
        "criterion = nn.CrossEntropyLoss()\n",
        "optimizer = optim.Adam(model.parameters(), lr=0.01)\n",
        "\n",
        "scheduler = lr_scheduler.StepLR(optimizer, step_size=5, gamma=0.005)\n",
        "# Training the model\n",
        "num_epochs = 30\n",
        "for epoch in range(num_epochs):\n",
        "    model.train()\n",
        "    total_loss = 0.0\n",
        "    num_batches = 0\n",
        "    for inputs in tqdm(train_loader, desc=f\"Epoch {epoch + 1}/{num_epochs} - Training\"):\n",
        "        if inputs['image'].shape[0] < 64:\n",
        "            break\n",
        "        inputs['image'] = inputs['image'].to(device)\n",
        "        inputs['label'] = inputs['label'].to(device)\n",
        "        optimizer.zero_grad()\n",
        "        outputs = model(inputs['image'])\n",
        "        loss = criterion(outputs, inputs['label'].long())\n",
        "        loss.backward()\n",
        "        optimizer.step()\n",
        "\n",
        "        total_loss += loss.item()\n",
        "        num_batches += 1\n",
        "\n",
        "    scheduler.step()\n",
        "    # Print average training loss for the epoch\n",
        "    average_loss = total_loss / num_batches\n",
        "    print(f\"Epoch {epoch + 1}/{num_epochs} - Average Training Loss: {average_loss:.4f}\")\n",
        "\n",
        "    # Evaluation on the test set\n",
        "    model.eval()\n",
        "    correct = 0\n",
        "    total = 0\n",
        "    all_labels = []\n",
        "    all_probs = []\n",
        "    with torch.no_grad():\n",
        "        for inputs in tqdm(test_loader, desc=f\"Epoch {epoch + 1}/{num_epochs} - Testing\"):\n",
        "            inputs['image'] = inputs['image'].to(device)\n",
        "            inputs['label'] = inputs['label'].to(device)\n",
        "            outputs = model(inputs['image'])\n",
        "            _, predicted = torch.max(outputs, 1)\n",
        "            total += inputs['label'].size(0)\n",
        "            correct += (predicted == inputs['label']).sum().item()\n",
        "\n",
        "            # Calculate ROC-AUC\n",
        "            probs = torch.softmax(outputs, dim=1)\n",
        "            all_labels.extend(inputs['label'].cpu().numpy())\n",
        "            all_probs.extend(probs[:, 1].cpu().numpy())  # Assuming class 1 is the positive class\n",
        "\n",
        "    accuracy = correct / total\n",
        "    print(f\"Epoch {epoch + 1}/{num_epochs} - Test Accuracy: {accuracy * 100:.2f}%\")\n",
        "\n",
        "    # Calculate ROC-AUC\n",
        "    roc_auc = roc_auc_score(all_labels, all_probs)\n",
        "    print(f\"Epoch {epoch + 1}/{num_epochs} - ROC AUC: {roc_auc:.4f}\")\n"
      ],
      "metadata": {
        "colab": {
          "base_uri": "https://localhost:8080/",
          "height": 1000
        },
        "id": "f3qJbLwoqolG",
        "outputId": "f6ca3a9e-3b87-4115-9ef1-672d79a9dd62"
      },
      "execution_count": null,
      "outputs": [
        {
          "output_type": "stream",
          "name": "stderr",
          "text": [
            "Epoch 1/30 - Training: 100%|█████████▉| 5446/5447 [00:54<00:00, 99.72it/s] \n"
          ]
        },
        {
          "output_type": "stream",
          "name": "stdout",
          "text": [
            "Epoch 1/30 - Average Training Loss: 0.6388\n"
          ]
        },
        {
          "output_type": "stream",
          "name": "stderr",
          "text": [
            "Epoch 1/30 - Testing: 100%|██████████| 779/779 [00:01<00:00, 427.35it/s]\n"
          ]
        },
        {
          "output_type": "stream",
          "name": "stdout",
          "text": [
            "Epoch 1/30 - Test Accuracy: 69.15%\n",
            "Epoch 1/30 - ROC AUC: 0.7459\n"
          ]
        },
        {
          "output_type": "stream",
          "name": "stderr",
          "text": [
            "Epoch 2/30 - Training: 100%|█████████▉| 5446/5447 [00:56<00:00, 96.81it/s] \n"
          ]
        },
        {
          "output_type": "stream",
          "name": "stdout",
          "text": [
            "Epoch 2/30 - Average Training Loss: 0.5949\n"
          ]
        },
        {
          "output_type": "stream",
          "name": "stderr",
          "text": [
            "Epoch 2/30 - Testing: 100%|██████████| 779/779 [00:01<00:00, 420.54it/s]\n"
          ]
        },
        {
          "output_type": "stream",
          "name": "stdout",
          "text": [
            "Epoch 2/30 - Test Accuracy: 70.67%\n",
            "Epoch 2/30 - ROC AUC: 0.7683\n"
          ]
        },
        {
          "output_type": "stream",
          "name": "stderr",
          "text": [
            "Epoch 3/30 - Training: 100%|█████████▉| 5446/5447 [00:54<00:00, 99.82it/s] \n"
          ]
        },
        {
          "output_type": "stream",
          "name": "stdout",
          "text": [
            "Epoch 3/30 - Average Training Loss: 0.5824\n"
          ]
        },
        {
          "output_type": "stream",
          "name": "stderr",
          "text": [
            "Epoch 3/30 - Testing: 100%|██████████| 779/779 [00:02<00:00, 359.64it/s]\n"
          ]
        },
        {
          "output_type": "stream",
          "name": "stdout",
          "text": [
            "Epoch 3/30 - Test Accuracy: 71.31%\n",
            "Epoch 3/30 - ROC AUC: 0.7739\n"
          ]
        },
        {
          "output_type": "stream",
          "name": "stderr",
          "text": [
            "Epoch 4/30 - Training: 100%|█████████▉| 5446/5447 [00:54<00:00, 99.32it/s] \n"
          ]
        },
        {
          "output_type": "stream",
          "name": "stdout",
          "text": [
            "Epoch 4/30 - Average Training Loss: 0.5762\n"
          ]
        },
        {
          "output_type": "stream",
          "name": "stderr",
          "text": [
            "Epoch 4/30 - Testing: 100%|██████████| 779/779 [00:01<00:00, 419.66it/s]\n"
          ]
        },
        {
          "output_type": "stream",
          "name": "stdout",
          "text": [
            "Epoch 4/30 - Test Accuracy: 71.52%\n",
            "Epoch 4/30 - ROC AUC: 0.7781\n"
          ]
        },
        {
          "output_type": "stream",
          "name": "stderr",
          "text": [
            "Epoch 5/30 - Training: 100%|█████████▉| 5446/5447 [00:54<00:00, 99.11it/s]\n"
          ]
        },
        {
          "output_type": "stream",
          "name": "stdout",
          "text": [
            "Epoch 5/30 - Average Training Loss: 0.5721\n"
          ]
        },
        {
          "output_type": "stream",
          "name": "stderr",
          "text": [
            "Epoch 5/30 - Testing: 100%|██████████| 779/779 [00:02<00:00, 350.63it/s]\n"
          ]
        },
        {
          "output_type": "stream",
          "name": "stdout",
          "text": [
            "Epoch 5/30 - Test Accuracy: 71.66%\n",
            "Epoch 5/30 - ROC AUC: 0.7823\n"
          ]
        },
        {
          "output_type": "stream",
          "name": "stderr",
          "text": [
            "Epoch 6/30 - Training: 100%|█████████▉| 5446/5447 [00:54<00:00, 99.17it/s] \n"
          ]
        },
        {
          "output_type": "stream",
          "name": "stdout",
          "text": [
            "Epoch 6/30 - Average Training Loss: 0.5591\n"
          ]
        },
        {
          "output_type": "stream",
          "name": "stderr",
          "text": [
            "Epoch 6/30 - Testing: 100%|██████████| 779/779 [00:01<00:00, 424.27it/s]\n"
          ]
        },
        {
          "output_type": "stream",
          "name": "stdout",
          "text": [
            "Epoch 6/30 - Test Accuracy: 72.59%\n",
            "Epoch 6/30 - ROC AUC: 0.7899\n"
          ]
        },
        {
          "output_type": "stream",
          "name": "stderr",
          "text": [
            "Epoch 7/30 - Training: 100%|█████████▉| 5446/5447 [00:54<00:00, 99.48it/s]\n"
          ]
        },
        {
          "output_type": "stream",
          "name": "stdout",
          "text": [
            "Epoch 7/30 - Average Training Loss: 0.5563\n"
          ]
        },
        {
          "output_type": "stream",
          "name": "stderr",
          "text": [
            "Epoch 7/30 - Testing: 100%|██████████| 779/779 [00:01<00:00, 422.48it/s]\n"
          ]
        },
        {
          "output_type": "stream",
          "name": "stdout",
          "text": [
            "Epoch 7/30 - Test Accuracy: 72.71%\n",
            "Epoch 7/30 - ROC AUC: 0.7909\n"
          ]
        },
        {
          "output_type": "stream",
          "name": "stderr",
          "text": [
            "Epoch 8/30 - Training: 100%|█████████▉| 5446/5447 [00:55<00:00, 98.97it/s] \n"
          ]
        },
        {
          "output_type": "stream",
          "name": "stdout",
          "text": [
            "Epoch 8/30 - Average Training Loss: 0.5553\n"
          ]
        },
        {
          "output_type": "stream",
          "name": "stderr",
          "text": [
            "Epoch 8/30 - Testing: 100%|██████████| 779/779 [00:01<00:00, 408.29it/s]\n"
          ]
        },
        {
          "output_type": "stream",
          "name": "stdout",
          "text": [
            "Epoch 8/30 - Test Accuracy: 72.74%\n",
            "Epoch 8/30 - ROC AUC: 0.7921\n"
          ]
        },
        {
          "output_type": "stream",
          "name": "stderr",
          "text": [
            "Epoch 9/30 - Training: 100%|█████████▉| 5446/5447 [00:54<00:00, 99.46it/s] \n"
          ]
        },
        {
          "output_type": "stream",
          "name": "stdout",
          "text": [
            "Epoch 9/30 - Average Training Loss: 0.5543\n"
          ]
        },
        {
          "output_type": "stream",
          "name": "stderr",
          "text": [
            "Epoch 9/30 - Testing: 100%|██████████| 779/779 [00:01<00:00, 425.78it/s]\n"
          ]
        },
        {
          "output_type": "stream",
          "name": "stdout",
          "text": [
            "Epoch 9/30 - Test Accuracy: 72.82%\n",
            "Epoch 9/30 - ROC AUC: 0.7927\n"
          ]
        },
        {
          "output_type": "stream",
          "name": "stderr",
          "text": [
            "Epoch 10/30 - Training: 100%|█████████▉| 5446/5447 [00:54<00:00, 99.66it/s]\n"
          ]
        },
        {
          "output_type": "stream",
          "name": "stdout",
          "text": [
            "Epoch 10/30 - Average Training Loss: 0.5532\n"
          ]
        },
        {
          "output_type": "stream",
          "name": "stderr",
          "text": [
            "Epoch 10/30 - Testing: 100%|██████████| 779/779 [00:02<00:00, 354.18it/s]\n"
          ]
        },
        {
          "output_type": "stream",
          "name": "stdout",
          "text": [
            "Epoch 10/30 - Test Accuracy: 72.89%\n",
            "Epoch 10/30 - ROC AUC: 0.7925\n"
          ]
        },
        {
          "output_type": "stream",
          "name": "stderr",
          "text": [
            "Epoch 11/30 - Training: 100%|█████████▉| 5446/5447 [01:02<00:00, 87.00it/s]\n"
          ]
        },
        {
          "output_type": "stream",
          "name": "stdout",
          "text": [
            "Epoch 11/30 - Average Training Loss: 0.5514\n"
          ]
        },
        {
          "output_type": "stream",
          "name": "stderr",
          "text": [
            "Epoch 11/30 - Testing: 100%|██████████| 779/779 [00:01<00:00, 424.58it/s]\n"
          ]
        },
        {
          "output_type": "stream",
          "name": "stdout",
          "text": [
            "Epoch 11/30 - Test Accuracy: 72.88%\n",
            "Epoch 11/30 - ROC AUC: 0.7936\n"
          ]
        },
        {
          "output_type": "stream",
          "name": "stderr",
          "text": [
            "Epoch 12/30 - Training: 100%|█████████▉| 5446/5447 [00:54<00:00, 99.45it/s] \n"
          ]
        },
        {
          "output_type": "stream",
          "name": "stdout",
          "text": [
            "Epoch 12/30 - Average Training Loss: 0.5510\n"
          ]
        },
        {
          "output_type": "stream",
          "name": "stderr",
          "text": [
            "Epoch 12/30 - Testing: 100%|██████████| 779/779 [00:02<00:00, 373.77it/s]\n"
          ]
        },
        {
          "output_type": "stream",
          "name": "stdout",
          "text": [
            "Epoch 12/30 - Test Accuracy: 72.91%\n",
            "Epoch 12/30 - ROC AUC: 0.7938\n"
          ]
        },
        {
          "output_type": "stream",
          "name": "stderr",
          "text": [
            "Epoch 13/30 - Training: 100%|█████████▉| 5446/5447 [00:54<00:00, 99.65it/s] \n"
          ]
        },
        {
          "output_type": "stream",
          "name": "stdout",
          "text": [
            "Epoch 13/30 - Average Training Loss: 0.5511\n"
          ]
        },
        {
          "output_type": "stream",
          "name": "stderr",
          "text": [
            "Epoch 13/30 - Testing: 100%|██████████| 779/779 [00:01<00:00, 425.31it/s]\n"
          ]
        },
        {
          "output_type": "stream",
          "name": "stdout",
          "text": [
            "Epoch 13/30 - Test Accuracy: 72.94%\n",
            "Epoch 13/30 - ROC AUC: 0.7938\n"
          ]
        },
        {
          "output_type": "stream",
          "name": "stderr",
          "text": [
            "Epoch 14/30 - Training: 100%|█████████▉| 5446/5447 [00:55<00:00, 98.99it/s]\n"
          ]
        },
        {
          "output_type": "stream",
          "name": "stdout",
          "text": [
            "Epoch 14/30 - Average Training Loss: 0.5510\n"
          ]
        },
        {
          "output_type": "stream",
          "name": "stderr",
          "text": [
            "Epoch 14/30 - Testing: 100%|██████████| 779/779 [00:02<00:00, 353.41it/s]\n"
          ]
        },
        {
          "output_type": "stream",
          "name": "stdout",
          "text": [
            "Epoch 14/30 - Test Accuracy: 72.93%\n",
            "Epoch 14/30 - ROC AUC: 0.7938\n"
          ]
        },
        {
          "output_type": "stream",
          "name": "stderr",
          "text": [
            "Epoch 15/30 - Training: 100%|█████████▉| 5446/5447 [00:58<00:00, 93.24it/s]\n"
          ]
        },
        {
          "output_type": "stream",
          "name": "stdout",
          "text": [
            "Epoch 15/30 - Average Training Loss: 0.5506\n"
          ]
        },
        {
          "output_type": "stream",
          "name": "stderr",
          "text": [
            "Epoch 15/30 - Testing: 100%|██████████| 779/779 [00:02<00:00, 373.94it/s]\n"
          ]
        },
        {
          "output_type": "stream",
          "name": "stdout",
          "text": [
            "Epoch 15/30 - Test Accuracy: 72.98%\n",
            "Epoch 15/30 - ROC AUC: 0.7939\n"
          ]
        },
        {
          "output_type": "stream",
          "name": "stderr",
          "text": [
            "Epoch 16/30 - Training: 100%|█████████▉| 5446/5447 [00:57<00:00, 94.63it/s] \n"
          ]
        },
        {
          "output_type": "stream",
          "name": "stdout",
          "text": [
            "Epoch 16/30 - Average Training Loss: 0.5506\n"
          ]
        },
        {
          "output_type": "stream",
          "name": "stderr",
          "text": [
            "Epoch 16/30 - Testing: 100%|██████████| 779/779 [00:01<00:00, 420.56it/s]\n"
          ]
        },
        {
          "output_type": "stream",
          "name": "stdout",
          "text": [
            "Epoch 16/30 - Test Accuracy: 72.96%\n",
            "Epoch 16/30 - ROC AUC: 0.7939\n"
          ]
        },
        {
          "output_type": "stream",
          "name": "stderr",
          "text": [
            "Epoch 17/30 - Training: 100%|█████████▉| 5446/5447 [00:55<00:00, 98.45it/s]\n"
          ]
        },
        {
          "output_type": "stream",
          "name": "stdout",
          "text": [
            "Epoch 17/30 - Average Training Loss: 0.5509\n"
          ]
        },
        {
          "output_type": "stream",
          "name": "stderr",
          "text": [
            "Epoch 17/30 - Testing: 100%|██████████| 779/779 [00:02<00:00, 372.23it/s]\n"
          ]
        },
        {
          "output_type": "stream",
          "name": "stdout",
          "text": [
            "Epoch 17/30 - Test Accuracy: 72.96%\n",
            "Epoch 17/30 - ROC AUC: 0.7939\n"
          ]
        },
        {
          "output_type": "stream",
          "name": "stderr",
          "text": [
            "Epoch 18/30 - Training: 100%|█████████▉| 5446/5447 [00:55<00:00, 97.67it/s] \n"
          ]
        },
        {
          "output_type": "stream",
          "name": "stdout",
          "text": [
            "Epoch 18/30 - Average Training Loss: 0.5508\n"
          ]
        },
        {
          "output_type": "stream",
          "name": "stderr",
          "text": [
            "Epoch 18/30 - Testing: 100%|██████████| 779/779 [00:01<00:00, 417.88it/s]\n"
          ]
        },
        {
          "output_type": "stream",
          "name": "stdout",
          "text": [
            "Epoch 18/30 - Test Accuracy: 72.97%\n",
            "Epoch 18/30 - ROC AUC: 0.7940\n"
          ]
        },
        {
          "output_type": "stream",
          "name": "stderr",
          "text": [
            "Epoch 19/30 - Training:  67%|██████▋   | 3667/5447 [00:37<00:18, 98.72it/s]\n"
          ]
        },
        {
          "output_type": "error",
          "ename": "KeyboardInterrupt",
          "evalue": "ignored",
          "traceback": [
            "\u001b[0;31m---------------------------------------------------------------------------\u001b[0m",
            "\u001b[0;31mKeyboardInterrupt\u001b[0m                         Traceback (most recent call last)",
            "\u001b[0;32m<ipython-input-25-46c3bb275fc0>\u001b[0m in \u001b[0;36m<cell line: 48>\u001b[0;34m()\u001b[0m\n\u001b[1;32m     61\u001b[0m         \u001b[0moptimizer\u001b[0m\u001b[0;34m.\u001b[0m\u001b[0mstep\u001b[0m\u001b[0;34m(\u001b[0m\u001b[0;34m)\u001b[0m\u001b[0;34m\u001b[0m\u001b[0;34m\u001b[0m\u001b[0m\n\u001b[1;32m     62\u001b[0m \u001b[0;34m\u001b[0m\u001b[0m\n\u001b[0;32m---> 63\u001b[0;31m         \u001b[0mtotal_loss\u001b[0m \u001b[0;34m+=\u001b[0m \u001b[0mloss\u001b[0m\u001b[0;34m.\u001b[0m\u001b[0mitem\u001b[0m\u001b[0;34m(\u001b[0m\u001b[0;34m)\u001b[0m\u001b[0;34m\u001b[0m\u001b[0;34m\u001b[0m\u001b[0m\n\u001b[0m\u001b[1;32m     64\u001b[0m         \u001b[0mnum_batches\u001b[0m \u001b[0;34m+=\u001b[0m \u001b[0;36m1\u001b[0m\u001b[0;34m\u001b[0m\u001b[0;34m\u001b[0m\u001b[0m\n\u001b[1;32m     65\u001b[0m \u001b[0;34m\u001b[0m\u001b[0m\n",
            "\u001b[0;31mKeyboardInterrupt\u001b[0m: "
          ]
        }
      ]
    },
    {
      "cell_type": "code",
      "source": [
        "class MyModel(nn.Module):\n",
        "\n",
        "    def __init__(self, num_classes=1,dropout_rate=.2):\n",
        "        super().__init__()\n",
        "        self.my_conv1 = nn.Conv2d(in_channels=2, out_channels=16, kernel_size=3, padding=1)\n",
        "        self.relu = nn.ReLU()\n",
        "        self.dropout = nn.Dropout(p=dropout_rate)\n",
        "        self.Linear=nn.Linear(32*32*16,num_classes)\n",
        "    def forward(self, x):\n",
        "        x['image']=self.my_conv1(x['image'])\n",
        "        x['image']=self.relu(x['image'])\n",
        "        x['image'] = self.dropout(x['image'])\n",
        "        x['image']=x['image'].view(batch_size,-1)\n",
        "        x['image'] = self.Linear(x['image'])\n",
        "        return x['image']\n",
        "\n"
      ],
      "metadata": {
        "id": "K3t07Np7x1dK"
      },
      "execution_count": null,
      "outputs": []
    },
    {
      "cell_type": "code",
      "source": [
        "class MyModel(nn.Module):\n",
        "    def __init__(self, num_classes=1, dropout_rate=0.5):\n",
        "        super(MyModel, self).__init__()\n",
        "        self.linear1 = nn.Linear(2 * 32 * 32, 1024)\n",
        "        self.batch_norm1 = nn.BatchNorm1d(1024)  # Batch normalization after the first linear layer\n",
        "        self.relu = nn.ReLU()\n",
        "        self.dropout1 = nn.Dropout(p=dropout_rate)\n",
        "        self.linear2 = nn.Linear(1024, 512)\n",
        "        self.batch_norm2 = nn.BatchNorm1d(512)  # Batch normalization after the second linear layer\n",
        "        self.dropout2 = nn.Dropout(p=dropout_rate)\n",
        "        self.linear3 = nn.Linear(512,128)\n",
        "        self.batch_norm3 = nn.BatchNorm1d(128)  # Batch normalization after the second linear layer\n",
        "        self.dropout3 = nn.Dropout(p=dropout_rate)\n",
        "        self.linear4 = nn.Linear(128, num_classes)\n",
        "\n",
        "\n",
        "\n",
        "\n",
        "\n",
        "\n",
        "\n",
        "    def forward(self, x):\n",
        "        x['image'] = x['image'].view(x['image'].size(0), -1)\n",
        "        x['image'] = self.linear1(x['image'])\n",
        "        x['image'] = self.batch_norm1(x['image'])  # Apply batch normalization after the first linear layer\n",
        "        x['image'] = self.relu(x['image'])\n",
        "        x['image'] = self.dropout1(x['image'])\n",
        "        x['image'] = self.linear2(x['image'])\n",
        "        x['image'] = self.batch_norm2(x['image'])  # Apply batch normalization after the second linear layer\n",
        "        x['image'] = self.dropout2(x['image'])\n",
        "        x['image'] = self.linear3(x['image'])\n",
        "        x['image'] = self.batch_norm3(x['image'])  # Apply batch normalization after the second linear layer\n",
        "        x['image'] = self.dropout3(x['image'])\n",
        "        x['image'] = self.linear4(x['image'])\n",
        "        return x['image']\n"
      ],
      "metadata": {
        "id": "rF0LWYexx3cZ"
      },
      "execution_count": null,
      "outputs": []
    },
    {
      "cell_type": "code",
      "source": [
        "class MyModel(nn.Module):\n",
        "   def __init__(self, num_classes=1, dropout_rate=0.001):\n",
        "       super(MyModel,self).__init__()\n",
        "       self.linear1 = nn.Linear(2 * 32 * 32, 1024)\n",
        "       self.batch_norm1 = nn.BatchNorm1d(1024)  # Batch normalization after the first linear layer\n",
        "       self.relu = nn.ReLU()\n",
        "       self.sigmoid = nn.Sigmoid()\n",
        "       self.dropout1 = nn.Dropout(p=dropout_rate)\n",
        "       self.linear2 = nn.Linear(1024, 256)\n",
        "       self.batch_norm2 = nn.BatchNorm1d(256)  # Batch normalization after the second linear layer\n",
        "       self.dropout2 = nn.Dropout(p=dropout_rate)\n",
        "       self.linear3 = nn.Linear(256,32)\n",
        "       self.batch_norm3 = nn.BatchNorm1d(32)  # Batch normalization after the second linear layer\n",
        "       self.dropout3 = nn.Dropout(p=dropout_rate)\n",
        "       self.linear4 = nn.Linear(32, 16)\n",
        "       self.batch_norm4 = nn.BatchNorm1d(16)  # Batch normalization after the second linear layer\n",
        "       self.dropout4 = nn.Dropout(p=dropout_rate)\n",
        "       self.linear5 = nn.Linear(16, 8)\n",
        "       self.batch_norm5 = nn.BatchNorm1d(8)  # Batch normalization after the second linear layer\n",
        "       self.dropout5 = nn.Dropout(p=dropout_rate)\n",
        "       self.linear6 = nn.Linear(8, 4)\n",
        "       self.batch_norm6 = nn.BatchNorm1d(4)  # Batch normalization after the second linear layer\n",
        "       self.dropout6 = nn.Dropout(p=dropout_rate)\n",
        "       self.linear7 = nn.Linear(4, 2)\n",
        "       self.batch_norm7 = nn.BatchNorm1d(2)  # Batch normalization after the second linear layer\n",
        "       self.dropout7 = nn.Dropout(p=dropout_rate)\n",
        "       self.linear8 = nn.Linear(2, num_classes)\n",
        "\n",
        "   def forward(self, x):\n",
        "       x['image'] = x['image'].view(x['image'].size(0), -1)\n",
        "       x1 = self.linear1(x['image'])\n",
        "       x1 = self.batch_norm1(x1)  # Apply batch normalization after the first linear layer\n",
        "       x1 = self.relu(x1)\n",
        "       x1 = self.dropout1(x1)\n",
        "\n",
        "       x1 = self.linear2(x1)\n",
        "       x1 = self.batch_norm2(x1)  # Apply batch normalization after the second linear layer\n",
        "       x1 = self.relu(x1)\n",
        "       x1 = self.dropout2(x1)\n",
        "       x1 = self.linear3(x1)\n",
        "       x1 = self.batch_norm3(x1)  # Apply batch normalization after the second linear layer\n",
        "       x1 = self.relu(x1)\n",
        "       x1 = self.dropout3(x1)\n",
        "       x1 = self.linear4(x1)\n",
        "       x1 = self.batch_norm4(x1)  # Apply batch normalization after the second linear layer\n",
        "       x1 = self.relu(x1)\n",
        "       x1 = self.dropout4(x1)\n",
        "       x1 = self.linear5(x1)\n",
        "       x1 = self.batch_norm5(x1)  # Apply batch normalization after the second linear layer\n",
        "       x1 = self.relu(x1)\n",
        "       x1 = self.dropout5(x1)\n",
        "       x1 = self.linear6(x1)\n",
        "       x1 = self.batch_norm6(x1)  # Apply batch normalization after the second linear layer\n",
        "       x1 = self.relu(x1)\n",
        "       x1 = self.dropout6(x1)\n",
        "\n",
        "       x1 = self.linear7(x1)\n",
        "       x1 = self.batch_norm7(x1)  # Apply batch normalization after the second linear layer\n",
        "       x1 = self.sigmoid(x1)\n",
        "       x1 = self.dropout7(x1)\n",
        "       x1 = self.linear8(x1)\n",
        "       #x1 = self.sigmoid(x1)\n",
        "       return x1\n"
      ],
      "metadata": {
        "id": "Ti3Stq-sYX5U"
      },
      "execution_count": null,
      "outputs": []
    },
    {
      "cell_type": "code",
      "source": [
        "class MyModel(nn.Module):\n",
        "    def __init__(self, num_classes=1, dropout_rate=0.001):\n",
        "        super(MyModel, self).__init__()\n",
        "        self.linear1 = nn.Linear(32 * 32, 512)\n",
        "        self.batch_norm1 = nn.BatchNorm1d(512)\n",
        "        self.relu = nn.ReLU()\n",
        "        self.sigmoid = nn.Sigmoid()\n",
        "        self.dropout1 = nn.Dropout(p=dropout_rate)\n",
        "        self.linear2 = nn.Linear(512, 256)\n",
        "        self.batch_norm2 = nn.BatchNorm1d(256)\n",
        "        self.dropout2 = nn.Dropout(p=dropout_rate)\n",
        "        self.linear3 = nn.Linear(256, 64)\n",
        "        self.batch_norm3 = nn.BatchNorm1d(64)\n",
        "        self.dropout3 = nn.Dropout(p=dropout_rate)\n",
        "        self.linear4 = nn.Linear(64, 32)\n",
        "        self.batch_norm4 = nn.BatchNorm1d(32)\n",
        "        self.dropout4 = nn.Dropout(p=dropout_rate)\n",
        "\n",
        "        self.Linear1 = nn.Linear(32 * 32, 512)\n",
        "        self.Batch_norm1 = nn.BatchNorm1d(512)\n",
        "        self.Relu = nn.ReLU()\n",
        "        self.Sigmoid = nn.Sigmoid()\n",
        "        self.Dropout1 = nn.Dropout(p=dropout_rate)\n",
        "        self.Linear2 = nn.Linear(512, 256)\n",
        "        self.Batch_norm2 = nn.BatchNorm1d(256)\n",
        "        self.Dropout2 = nn.Dropout(p=dropout_rate)\n",
        "        self.Linear3 = nn.Linear(256, 64)\n",
        "        self.Batch_norm3 = nn.BatchNorm1d(64)\n",
        "        self.Dropout3 = nn.Dropout(p=dropout_rate)\n",
        "        self.Linear4 = nn.Linear(64, 32)\n",
        "        self.Batch_norm4 = nn.BatchNorm1d(32)\n",
        "        self.Dropout4 = nn.Dropout(p=dropout_rate)\n",
        "\n",
        "\n",
        "        self.linear45 = nn.Linear(64, 32)\n",
        "        self.batch_norm45 = nn.BatchNorm1d(32)\n",
        "        self.dropout45 = nn.Dropout(p=dropout_rate)\n",
        "        self.linear5 = nn.Linear(32, 16)\n",
        "        self.batch_norm5 = nn.BatchNorm1d(16)\n",
        "        self.dropout5 = nn.Dropout(p=dropout_rate)\n",
        "        self.linear6 = nn.Linear(16, 8)\n",
        "        self.batch_norm6 = nn.BatchNorm1d(8)\n",
        "        self.dropout6 = nn.Dropout(p=dropout_rate)\n",
        "        self.linear7 = nn.Linear(8, 4)\n",
        "        self.batch_norm7 = nn.BatchNorm1d(4)\n",
        "        self.dropout7 = nn.Dropout(p=dropout_rate)\n",
        "        self.linear8 = nn.Linear(4, 2)\n",
        "        self.batch_norm9 = nn.BatchNorm1d(2)\n",
        "        self.dropout9 = nn.Dropout(p=dropout_rate)\n",
        "        self.linear9 = nn.Linear(2, 1)\n",
        "\n",
        "\n",
        "    def forward(self, x):\n",
        "        x1 = x['image'][0].view(x['image'][0].size(0), -1)\n",
        "        x1 = self.linear1(x1)\n",
        "        x1 = self.batch_norm1(x1)\n",
        "        x1 = self.relu(x1)\n",
        "        x1 = self.dropout1(x1)\n",
        "        x1 = self.linear2(x1)\n",
        "        x1 = self.batch_norm2(x1)\n",
        "        x1 = self.relu(x1)\n",
        "        x1 = self.dropout2(x1)\n",
        "        x1 = self.linear3(x1)\n",
        "        x1 = self.batch_norm3(x1)\n",
        "        x1 = self.relu(x1)\n",
        "        x1 = self.dropout3(x1)\n",
        "        x1 = self.linear4(x1)\n",
        "        x1 = self.batch_norm4(x1)\n",
        "        x1 = self.relu(x1)\n",
        "        x1 = self.dropout4(x1)\n",
        "\n",
        "\n",
        "        x2 = x['image'][1].view(x['image'][1].size(0), -1)\n",
        "        x2 = self.Linear1(x2)\n",
        "        x2 = self.Batch_norm1(x2)\n",
        "        x2 = self.Relu(x2)\n",
        "        x2 = self.Dropout1(x2)\n",
        "        x2 = self.Linear2(x2)\n",
        "        x2 = self.Batch_norm2(x2)\n",
        "        x2 = self.Relu(x2)\n",
        "        x2 = self.Dropout2(x2)\n",
        "        x2 = self.Linear3(x2)\n",
        "        x2 = self.Batch_norm3(x2)\n",
        "        x2 = self.Relu(x2)\n",
        "        x2 = self.Dropout3(x2)\n",
        "        x2 = self.Linear4(x2)\n",
        "        x2 = self.Batch_norm4(x2)\n",
        "        x2 = self.Relu(x2)\n",
        "        x2 = self.Dropout4(x2)\n",
        "\n",
        "        x3 = torch.cat((x1, x2), dim=1)\n",
        "\n",
        "        x3 = self.linear45(x3)\n",
        "        x3 = self.batch_norm45(x3)\n",
        "        x3 = self.dropout45(x3)\n",
        "\n",
        "        x3 = self.linear7(x3)\n",
        "        x3 = self.batch_norm7(x3)\n",
        "        x3 = self.sigmoid(x3)\n",
        "        x3 = self.dropout7(x3)\n",
        "        x3 = self.linear8(x3)\n",
        "        x3 = self.batch_norm9(x3)\n",
        "        x3 = self.sigmoid(x3)\n",
        "        x3 = self.dropout9(x3)\n",
        "        x3 = self.linear9(x3)\n",
        "\n",
        "        return x3\n"
      ],
      "metadata": {
        "id": "tFP5RHuTCqGR"
      },
      "execution_count": null,
      "outputs": []
    },
    {
      "cell_type": "code",
      "source": [
        "class CNNModel(nn.Module):\n",
        "    def __init__(self):\n",
        "        super(CNNModel, self).__init__()\n",
        "        self.conv1 = nn.Conv2d(2, 32, kernel_size=3, stride=1, padding=1)\n",
        "        self.relu1 = nn.ReLU()\n",
        "        self.maxpool1 = nn.MaxPool2d(kernel_size=2, stride=2)\n",
        "        self.conv2 = nn.Conv2d(32, 64, kernel_size=3, stride=1, padding=1)\n",
        "        self.relu2 = nn.ReLU()\n",
        "        self.maxpool2 = nn.MaxPool2d(kernel_size=2, stride=2)\n",
        "        self.fc1 = nn.Linear(64 * 8 * 8, 128)\n",
        "        self.relu3 = nn.ReLU()\n",
        "        self.dropout = nn.Dropout(0.5)\n",
        "        self.fc2 = nn.Linear(128, 2)  # Output layer with 2 classes (electrons and photons)\n",
        "\n",
        "    def forward(self, x):\n",
        "        x['image'] = self.conv1(x['image'])\n",
        "        x['image'] = self.relu1(x['image'])\n",
        "        x['image'] = self.maxpool1(x['image'])\n",
        "        x['image'] = self.conv2(x['image'])\n",
        "        x['image'] = self.relu2(x['image'])\n",
        "        x['image'] = self.maxpool2(x['image'])\n",
        "        x['image'] = x['image'].view(-1, 64 * 8 * 8)\n",
        "        x['image'] = self.fc1(x['image'])\n",
        "        x['image'] = self.relu3(x['image'])\n",
        "        x['image'] = self.dropout(x['image'])\n",
        "        x['image'] = self.fc2(x['image'])\n",
        "        return x['image']"
      ],
      "metadata": {
        "id": "KEVPfalhkeul"
      },
      "execution_count": null,
      "outputs": []
    },
    {
      "cell_type": "code",
      "source": [
        "model = MyModel(num_classes=1)\n",
        "model.to(device)\n",
        "print(model)"
      ],
      "metadata": {
        "id": "7MxHh4HF0ohX",
        "colab": {
          "base_uri": "https://localhost:8080/"
        },
        "outputId": "58ea752a-8bb7-40a7-8a27-085b9e7e00d7"
      },
      "execution_count": null,
      "outputs": [
        {
          "output_type": "stream",
          "name": "stdout",
          "text": [
            "MyModel(\n",
            "  (linear1): Linear(in_features=1024, out_features=512, bias=True)\n",
            "  (batch_norm1): BatchNorm1d(512, eps=1e-05, momentum=0.1, affine=True, track_running_stats=True)\n",
            "  (relu): ReLU()\n",
            "  (sigmoid): Sigmoid()\n",
            "  (dropout1): Dropout(p=0.001, inplace=False)\n",
            "  (linear2): Linear(in_features=512, out_features=256, bias=True)\n",
            "  (batch_norm2): BatchNorm1d(256, eps=1e-05, momentum=0.1, affine=True, track_running_stats=True)\n",
            "  (dropout2): Dropout(p=0.001, inplace=False)\n",
            "  (linear3): Linear(in_features=256, out_features=64, bias=True)\n",
            "  (batch_norm3): BatchNorm1d(64, eps=1e-05, momentum=0.1, affine=True, track_running_stats=True)\n",
            "  (dropout3): Dropout(p=0.001, inplace=False)\n",
            "  (linear4): Linear(in_features=64, out_features=32, bias=True)\n",
            "  (batch_norm4): BatchNorm1d(32, eps=1e-05, momentum=0.1, affine=True, track_running_stats=True)\n",
            "  (dropout4): Dropout(p=0.001, inplace=False)\n",
            "  (Linear1): Linear(in_features=1024, out_features=512, bias=True)\n",
            "  (Batch_norm1): BatchNorm1d(512, eps=1e-05, momentum=0.1, affine=True, track_running_stats=True)\n",
            "  (Relu): ReLU()\n",
            "  (Sigmoid): Sigmoid()\n",
            "  (Dropout1): Dropout(p=0.001, inplace=False)\n",
            "  (Linear2): Linear(in_features=512, out_features=256, bias=True)\n",
            "  (Batch_norm2): BatchNorm1d(256, eps=1e-05, momentum=0.1, affine=True, track_running_stats=True)\n",
            "  (Dropout2): Dropout(p=0.001, inplace=False)\n",
            "  (Linear3): Linear(in_features=256, out_features=64, bias=True)\n",
            "  (Batch_norm3): BatchNorm1d(64, eps=1e-05, momentum=0.1, affine=True, track_running_stats=True)\n",
            "  (Dropout3): Dropout(p=0.001, inplace=False)\n",
            "  (Linear4): Linear(in_features=64, out_features=32, bias=True)\n",
            "  (Batch_norm4): BatchNorm1d(32, eps=1e-05, momentum=0.1, affine=True, track_running_stats=True)\n",
            "  (Dropout4): Dropout(p=0.001, inplace=False)\n",
            "  (linear45): Linear(in_features=64, out_features=32, bias=True)\n",
            "  (batch_norm45): BatchNorm1d(32, eps=1e-05, momentum=0.1, affine=True, track_running_stats=True)\n",
            "  (dropout45): Dropout(p=0.001, inplace=False)\n",
            "  (linear5): Linear(in_features=32, out_features=16, bias=True)\n",
            "  (batch_norm5): BatchNorm1d(16, eps=1e-05, momentum=0.1, affine=True, track_running_stats=True)\n",
            "  (dropout5): Dropout(p=0.001, inplace=False)\n",
            "  (linear6): Linear(in_features=16, out_features=8, bias=True)\n",
            "  (batch_norm6): BatchNorm1d(8, eps=1e-05, momentum=0.1, affine=True, track_running_stats=True)\n",
            "  (dropout6): Dropout(p=0.001, inplace=False)\n",
            "  (linear7): Linear(in_features=8, out_features=4, bias=True)\n",
            "  (batch_norm7): BatchNorm1d(4, eps=1e-05, momentum=0.1, affine=True, track_running_stats=True)\n",
            "  (dropout7): Dropout(p=0.001, inplace=False)\n",
            "  (linear8): Linear(in_features=4, out_features=2, bias=True)\n",
            "  (batch_norm9): BatchNorm1d(2, eps=1e-05, momentum=0.1, affine=True, track_running_stats=True)\n",
            "  (dropout9): Dropout(p=0.001, inplace=False)\n",
            "  (linear9): Linear(in_features=2, out_features=1, bias=True)\n",
            ")\n"
          ]
        }
      ]
    },
    {
      "cell_type": "code",
      "source": [
        "# i=0\n",
        "\n",
        "# for batch_idx, batch in enumerate(train_loader):\n",
        "#     # Process your batch here\n",
        "\n",
        "#     # Check if the current batch is the last one\n",
        "#     is_last_batch = batch['image'].shape[0] < batch_size\n",
        "\n",
        "#     # Print information or perform actions based on whether it's the last batch\n",
        "#     # print(f\"Batch {batch_idx + 1}, Batch Size: {len(batch)}, Is Last Batch: {is_last_batch}\")\n",
        "#     if(is_last_batch):\n",
        "#       break\n",
        "\n",
        "#     # Continue processing the batch as needed\n",
        "#     preds = model(batch)\n"
      ],
      "metadata": {
        "id": "aW8vT-yv00m1"
      },
      "execution_count": null,
      "outputs": []
    },
    {
      "cell_type": "code",
      "source": [
        "# Input to the optimizer are the parameters of the model: model.parameters()\n",
        "optimizer = torch.optim.SGD(model.parameters(), lr=0.1)\n",
        "\n",
        "\n",
        "loss_module = nn.BCEWithLogitsLoss()\n",
        "\n",
        "\n",
        "def train_model(model, optimizer, data_loader, val_loader,loss_module, num_epochs=100):\n",
        "    train_losses = []  # Changed variable name from train_loss to train_losses\n",
        "    val_losses = []\n",
        "\n",
        "\n",
        "    # Set model to train mode\n",
        "    model.train()\n",
        "    running_loss = 0.0\n",
        "    # Training loop\n",
        "    for epoch in tqdm(range(num_epochs)):\n",
        "        for data_inputs in data_loader:\n",
        "            # Check if the current batch is the last one\n",
        "            is_last_batch = data_inputs['image'].shape[0] < batch_size\n",
        "            if is_last_batch:\n",
        "                break\n",
        "\n",
        "\n",
        "            ## Step 1: Move input data to device (only strictly necessary if we use GPU)\n",
        "            data_inputs['image'] = data_inputs['image'].to(device)\n",
        "            data_inputs['label'] = data_inputs['label'].to(device)\n",
        "\n",
        "\n",
        "            ## Step 2: Run the model on the input data\n",
        "            preds = model(data_inputs)\n",
        "\n",
        "\n",
        "            # Ensure that the predictions have the same data type as the labels\n",
        "            preds = preds.squeeze(dim=1).to(data_inputs['label'].float())\n",
        "\n",
        "\n",
        "            ## Step 3: Calculate the loss\n",
        "            loss = loss_module(preds, data_inputs['label'].float())\n",
        "\n",
        "\n",
        "            ## Step 4: Perform backpropagation\n",
        "            optimizer.zero_grad()\n",
        "            loss.backward()\n",
        "\n",
        "\n",
        "            ## Step 5: Update the parameters\n",
        "            optimizer.step()\n",
        "\n",
        "\n",
        "            running_loss += loss.item() * batch_size  # batch_size\n",
        "\n",
        "\n",
        "        train_loss = running_loss / len(train_loader.dataset)\n",
        "        train_losses.append(train_loss)\n",
        "\n",
        "\n",
        "        #validation plase\n",
        "        model.eval()\n",
        "        running_loss = 0.0\n",
        "        true_preds, num_preds = 0., 0.\n",
        "        with torch.no_grad():\n",
        "          for data_inputs in val_loader:\n",
        "            is_last_batch = data_inputs['image'].shape[0] < batch_size\n",
        "            if is_last_batch:\n",
        "                break\n",
        "\n",
        "\n",
        "            ## Step 1: Move input data to device (only strictly necessary if we use GPU)\n",
        "            data_inputs['image'] = data_inputs['image'].to(device)\n",
        "            data_inputs['label'] = data_inputs['label'].to(device)\n",
        "\n",
        "\n",
        "            ## Step 2: Run the model on the input data\n",
        "            preds = model(data_inputs)\n",
        "\n",
        "\n",
        "            # Ensure that the predictions have the same data type as the labels\n",
        "            preds = preds.squeeze(dim=1).to(data_inputs['label'].float())\n",
        "\n",
        "\n",
        "            ## Step 3: Calculate the loss\n",
        "            loss = loss_module(preds, data_inputs['label'].float())\n",
        "            running_loss += loss.item() * batch_size\n",
        "\n",
        "\n",
        "            preds = torch.sigmoid(preds) # Sigmoid to map predictions between 0 and 1\n",
        "            pred_labels = (preds >= 0.5).long() # Binarize predictions to 0 and 1\n",
        "             # Keep records of predictions for the accuracy metric (true_preds=TP+TN, num_preds=TP+TN+FP+FN)\n",
        "            true_preds += (pred_labels == data_inputs['label']).sum()\n",
        "            num_preds += batch_size\n",
        "\n",
        "\n",
        "        acc = true_preds / num_preds\n",
        "        print(f\"Accuracy of the model: {100.0*acc:4.2f}%\")\n",
        "        val_loss = running_loss / len(val_loader.dataset)\n",
        "        val_losses.append(val_loss)\n",
        "\n",
        "\n",
        "        print(f\"Epoch {epoch+1}/{num_epochs} - Train loss {train_loss}, Validation Loss {val_loss}\")"
      ],
      "metadata": {
        "id": "ctstjyrTLMxn"
      },
      "execution_count": null,
      "outputs": []
    },
    {
      "cell_type": "code",
      "source": [
        "train_model(mymodel, optimizer, train_loader, val_loader,num_epochs=100)"
      ],
      "metadata": {
        "id": "nM7erU0sCt95",
        "colab": {
          "base_uri": "https://localhost:8080/",
          "height": 863
        },
        "outputId": "4e214abd-4e33-40bb-90c8-14facb865689"
      },
      "execution_count": null,
      "outputs": [
        {
          "output_type": "stream",
          "name": "stderr",
          "text": [
            "  0%|          | 0/100 [00:07<?, ?it/s]\n"
          ]
        },
        {
          "output_type": "error",
          "ename": "ValueError",
          "evalue": "ignored",
          "traceback": [
            "\u001b[0;31m---------------------------------------------------------------------------\u001b[0m",
            "\u001b[0;31mValueError\u001b[0m                                Traceback (most recent call last)",
            "\u001b[0;32m<ipython-input-32-0ffeb2c9d95a>\u001b[0m in \u001b[0;36m<cell line: 1>\u001b[0;34m()\u001b[0m\n\u001b[0;32m----> 1\u001b[0;31m \u001b[0mtrain_model\u001b[0m\u001b[0;34m(\u001b[0m\u001b[0mmymodel\u001b[0m\u001b[0;34m,\u001b[0m \u001b[0moptimizer\u001b[0m\u001b[0;34m,\u001b[0m \u001b[0mtrain_loader\u001b[0m\u001b[0;34m,\u001b[0m \u001b[0mval_loader\u001b[0m\u001b[0;34m,\u001b[0m\u001b[0mnum_epochs\u001b[0m\u001b[0;34m=\u001b[0m\u001b[0;36m100\u001b[0m\u001b[0;34m)\u001b[0m\u001b[0;34m\u001b[0m\u001b[0;34m\u001b[0m\u001b[0m\n\u001b[0m",
            "\u001b[0;32m<ipython-input-31-28df6ce3db43>\u001b[0m in \u001b[0;36mtrain_model\u001b[0;34m(model, optimizer, data_loader, val_loader, num_epochs)\u001b[0m\n\u001b[1;32m     32\u001b[0m             \u001b[0mpreds\u001b[0m \u001b[0;34m=\u001b[0m \u001b[0mpreds\u001b[0m\u001b[0;34m.\u001b[0m\u001b[0msqueeze\u001b[0m\u001b[0;34m(\u001b[0m\u001b[0mdim\u001b[0m\u001b[0;34m=\u001b[0m\u001b[0;36m1\u001b[0m\u001b[0;34m)\u001b[0m\u001b[0;34m.\u001b[0m\u001b[0mto\u001b[0m\u001b[0;34m(\u001b[0m\u001b[0mdata_inputs\u001b[0m\u001b[0;34m[\u001b[0m\u001b[0;34m'label'\u001b[0m\u001b[0;34m]\u001b[0m\u001b[0;34m.\u001b[0m\u001b[0mfloat\u001b[0m\u001b[0;34m(\u001b[0m\u001b[0;34m)\u001b[0m\u001b[0;34m)\u001b[0m\u001b[0;34m\u001b[0m\u001b[0;34m\u001b[0m\u001b[0m\n\u001b[1;32m     33\u001b[0m \u001b[0;34m\u001b[0m\u001b[0m\n\u001b[0;32m---> 34\u001b[0;31m             \u001b[0mloss\u001b[0m \u001b[0;34m=\u001b[0m \u001b[0mcriterion\u001b[0m\u001b[0;34m(\u001b[0m\u001b[0mpreds\u001b[0m\u001b[0;34m,\u001b[0m \u001b[0mlabels\u001b[0m\u001b[0;34m.\u001b[0m\u001b[0mlong\u001b[0m\u001b[0;34m(\u001b[0m\u001b[0;34m)\u001b[0m\u001b[0;34m)\u001b[0m\u001b[0;34m\u001b[0m\u001b[0;34m\u001b[0m\u001b[0m\n\u001b[0m\u001b[1;32m     35\u001b[0m             \u001b[0mloss\u001b[0m\u001b[0;34m.\u001b[0m\u001b[0mbackward\u001b[0m\u001b[0;34m(\u001b[0m\u001b[0;34m)\u001b[0m\u001b[0;34m\u001b[0m\u001b[0;34m\u001b[0m\u001b[0m\n\u001b[1;32m     36\u001b[0m             \u001b[0moptimizer\u001b[0m\u001b[0;34m.\u001b[0m\u001b[0mstep\u001b[0m\u001b[0;34m(\u001b[0m\u001b[0;34m)\u001b[0m\u001b[0;34m\u001b[0m\u001b[0;34m\u001b[0m\u001b[0m\n",
            "\u001b[0;32m/usr/local/lib/python3.10/dist-packages/torch/nn/modules/module.py\u001b[0m in \u001b[0;36m_wrapped_call_impl\u001b[0;34m(self, *args, **kwargs)\u001b[0m\n\u001b[1;32m   1516\u001b[0m             \u001b[0;32mreturn\u001b[0m \u001b[0mself\u001b[0m\u001b[0;34m.\u001b[0m\u001b[0m_compiled_call_impl\u001b[0m\u001b[0;34m(\u001b[0m\u001b[0;34m*\u001b[0m\u001b[0margs\u001b[0m\u001b[0;34m,\u001b[0m \u001b[0;34m**\u001b[0m\u001b[0mkwargs\u001b[0m\u001b[0;34m)\u001b[0m  \u001b[0;31m# type: ignore[misc]\u001b[0m\u001b[0;34m\u001b[0m\u001b[0;34m\u001b[0m\u001b[0m\n\u001b[1;32m   1517\u001b[0m         \u001b[0;32melse\u001b[0m\u001b[0;34m:\u001b[0m\u001b[0;34m\u001b[0m\u001b[0;34m\u001b[0m\u001b[0m\n\u001b[0;32m-> 1518\u001b[0;31m             \u001b[0;32mreturn\u001b[0m \u001b[0mself\u001b[0m\u001b[0;34m.\u001b[0m\u001b[0m_call_impl\u001b[0m\u001b[0;34m(\u001b[0m\u001b[0;34m*\u001b[0m\u001b[0margs\u001b[0m\u001b[0;34m,\u001b[0m \u001b[0;34m**\u001b[0m\u001b[0mkwargs\u001b[0m\u001b[0;34m)\u001b[0m\u001b[0;34m\u001b[0m\u001b[0;34m\u001b[0m\u001b[0m\n\u001b[0m\u001b[1;32m   1519\u001b[0m \u001b[0;34m\u001b[0m\u001b[0m\n\u001b[1;32m   1520\u001b[0m     \u001b[0;32mdef\u001b[0m \u001b[0m_call_impl\u001b[0m\u001b[0;34m(\u001b[0m\u001b[0mself\u001b[0m\u001b[0;34m,\u001b[0m \u001b[0;34m*\u001b[0m\u001b[0margs\u001b[0m\u001b[0;34m,\u001b[0m \u001b[0;34m**\u001b[0m\u001b[0mkwargs\u001b[0m\u001b[0;34m)\u001b[0m\u001b[0;34m:\u001b[0m\u001b[0;34m\u001b[0m\u001b[0;34m\u001b[0m\u001b[0m\n",
            "\u001b[0;32m/usr/local/lib/python3.10/dist-packages/torch/nn/modules/module.py\u001b[0m in \u001b[0;36m_call_impl\u001b[0;34m(self, *args, **kwargs)\u001b[0m\n\u001b[1;32m   1525\u001b[0m                 \u001b[0;32mor\u001b[0m \u001b[0m_global_backward_pre_hooks\u001b[0m \u001b[0;32mor\u001b[0m \u001b[0m_global_backward_hooks\u001b[0m\u001b[0;34m\u001b[0m\u001b[0;34m\u001b[0m\u001b[0m\n\u001b[1;32m   1526\u001b[0m                 or _global_forward_hooks or _global_forward_pre_hooks):\n\u001b[0;32m-> 1527\u001b[0;31m             \u001b[0;32mreturn\u001b[0m \u001b[0mforward_call\u001b[0m\u001b[0;34m(\u001b[0m\u001b[0;34m*\u001b[0m\u001b[0margs\u001b[0m\u001b[0;34m,\u001b[0m \u001b[0;34m**\u001b[0m\u001b[0mkwargs\u001b[0m\u001b[0;34m)\u001b[0m\u001b[0;34m\u001b[0m\u001b[0;34m\u001b[0m\u001b[0m\n\u001b[0m\u001b[1;32m   1528\u001b[0m \u001b[0;34m\u001b[0m\u001b[0m\n\u001b[1;32m   1529\u001b[0m         \u001b[0;32mtry\u001b[0m\u001b[0;34m:\u001b[0m\u001b[0;34m\u001b[0m\u001b[0;34m\u001b[0m\u001b[0m\n",
            "\u001b[0;32m/usr/local/lib/python3.10/dist-packages/torch/nn/modules/loss.py\u001b[0m in \u001b[0;36mforward\u001b[0;34m(self, input, target)\u001b[0m\n\u001b[1;32m   1177\u001b[0m \u001b[0;34m\u001b[0m\u001b[0m\n\u001b[1;32m   1178\u001b[0m     \u001b[0;32mdef\u001b[0m \u001b[0mforward\u001b[0m\u001b[0;34m(\u001b[0m\u001b[0mself\u001b[0m\u001b[0;34m,\u001b[0m \u001b[0minput\u001b[0m\u001b[0;34m:\u001b[0m \u001b[0mTensor\u001b[0m\u001b[0;34m,\u001b[0m \u001b[0mtarget\u001b[0m\u001b[0;34m:\u001b[0m \u001b[0mTensor\u001b[0m\u001b[0;34m)\u001b[0m \u001b[0;34m->\u001b[0m \u001b[0mTensor\u001b[0m\u001b[0;34m:\u001b[0m\u001b[0;34m\u001b[0m\u001b[0;34m\u001b[0m\u001b[0m\n\u001b[0;32m-> 1179\u001b[0;31m         return F.cross_entropy(input, target, weight=self.weight,\n\u001b[0m\u001b[1;32m   1180\u001b[0m                                \u001b[0mignore_index\u001b[0m\u001b[0;34m=\u001b[0m\u001b[0mself\u001b[0m\u001b[0;34m.\u001b[0m\u001b[0mignore_index\u001b[0m\u001b[0;34m,\u001b[0m \u001b[0mreduction\u001b[0m\u001b[0;34m=\u001b[0m\u001b[0mself\u001b[0m\u001b[0;34m.\u001b[0m\u001b[0mreduction\u001b[0m\u001b[0;34m,\u001b[0m\u001b[0;34m\u001b[0m\u001b[0;34m\u001b[0m\u001b[0m\n\u001b[1;32m   1181\u001b[0m                                label_smoothing=self.label_smoothing)\n",
            "\u001b[0;32m/usr/local/lib/python3.10/dist-packages/torch/nn/functional.py\u001b[0m in \u001b[0;36mcross_entropy\u001b[0;34m(input, target, weight, size_average, ignore_index, reduce, reduction, label_smoothing)\u001b[0m\n\u001b[1;32m   3051\u001b[0m     \u001b[0;32mif\u001b[0m \u001b[0msize_average\u001b[0m \u001b[0;32mis\u001b[0m \u001b[0;32mnot\u001b[0m \u001b[0;32mNone\u001b[0m \u001b[0;32mor\u001b[0m \u001b[0mreduce\u001b[0m \u001b[0;32mis\u001b[0m \u001b[0;32mnot\u001b[0m \u001b[0;32mNone\u001b[0m\u001b[0;34m:\u001b[0m\u001b[0;34m\u001b[0m\u001b[0;34m\u001b[0m\u001b[0m\n\u001b[1;32m   3052\u001b[0m         \u001b[0mreduction\u001b[0m \u001b[0;34m=\u001b[0m \u001b[0m_Reduction\u001b[0m\u001b[0;34m.\u001b[0m\u001b[0mlegacy_get_string\u001b[0m\u001b[0;34m(\u001b[0m\u001b[0msize_average\u001b[0m\u001b[0;34m,\u001b[0m \u001b[0mreduce\u001b[0m\u001b[0;34m)\u001b[0m\u001b[0;34m\u001b[0m\u001b[0;34m\u001b[0m\u001b[0m\n\u001b[0;32m-> 3053\u001b[0;31m     \u001b[0;32mreturn\u001b[0m \u001b[0mtorch\u001b[0m\u001b[0;34m.\u001b[0m\u001b[0m_C\u001b[0m\u001b[0;34m.\u001b[0m\u001b[0m_nn\u001b[0m\u001b[0;34m.\u001b[0m\u001b[0mcross_entropy_loss\u001b[0m\u001b[0;34m(\u001b[0m\u001b[0minput\u001b[0m\u001b[0;34m,\u001b[0m \u001b[0mtarget\u001b[0m\u001b[0;34m,\u001b[0m \u001b[0mweight\u001b[0m\u001b[0;34m,\u001b[0m \u001b[0m_Reduction\u001b[0m\u001b[0;34m.\u001b[0m\u001b[0mget_enum\u001b[0m\u001b[0;34m(\u001b[0m\u001b[0mreduction\u001b[0m\u001b[0;34m)\u001b[0m\u001b[0;34m,\u001b[0m \u001b[0mignore_index\u001b[0m\u001b[0;34m,\u001b[0m \u001b[0mlabel_smoothing\u001b[0m\u001b[0;34m)\u001b[0m\u001b[0;34m\u001b[0m\u001b[0;34m\u001b[0m\u001b[0m\n\u001b[0m\u001b[1;32m   3054\u001b[0m \u001b[0;34m\u001b[0m\u001b[0m\n\u001b[1;32m   3055\u001b[0m \u001b[0;34m\u001b[0m\u001b[0m\n",
            "\u001b[0;31mValueError\u001b[0m: Expected input batch_size (64) to match target batch_size (498000)."
          ]
        }
      ]
    },
    {
      "cell_type": "code",
      "source": [
        "def eval_model(model, data_loader):\n",
        "    model.eval() # Set model to eval mode\n",
        "    true_preds, num_preds = 0., 0.\n",
        "\n",
        "    with torch.no_grad(): # Deactivate gradients for the following code\n",
        "        for data_inputs in data_loader:\n",
        "            is_last_batch = data_inputs['image'].shape[0] < batch_size\n",
        "            if is_last_batch:\n",
        "                break\n",
        "\n",
        "            ## Step 1: Move input data to device (only strictly necessary if we use GPU)\n",
        "            data_inputs['image'] = data_inputs['image'].to(device)\n",
        "            data_inputs['label'] = data_inputs['label'].to(device)\n",
        "            preds = model(data_inputs)\n",
        "            preds = preds.squeeze(dim=1)\n",
        "            preds = torch.sigmoid(preds) # Sigmoid to map predictions between 0 and 1\n",
        "            pred_labels = (preds >= 0.5).long() # Binarize predictions to 0 and 1\n",
        "\n",
        "            # Keep records of predictions for the accuracy metric (true_preds=TP+TN, num_preds=TP+TN+FP+FN)\n",
        "            true_preds += (pred_labels == data_inputs['label']).sum()\n",
        "            num_preds += batch_size\n",
        "\n",
        "\n",
        "    acc = true_preds / num_preds\n",
        "    print(f\"Accuracy of the model: {100.0*acc:4.2f}%\")"
      ],
      "metadata": {
        "id": "deDNxeYILstf"
      },
      "execution_count": null,
      "outputs": []
    },
    {
      "cell_type": "code",
      "source": [
        "from sklearn.metrics import roc_auc_score\n",
        "\n",
        "def eval_model(model, data_loader):\n",
        "    model.eval()  # Set model to eval mode\n",
        "    true_preds, num_preds = 0., 0.\n",
        "    preds_list = []\n",
        "    target_list = []\n",
        "\n",
        "    with torch.no_grad():  # Deactivate gradients for the following code\n",
        "        for data_inputs in data_loader:\n",
        "            is_last_batch = data_inputs['image'].shape[0] < batch_size\n",
        "            if is_last_batch:\n",
        "                break\n",
        "\n",
        "            # Step 1: Move input data to device (only strictly necessary if using GPU)\n",
        "            data_inputs['image'] = data_inputs['image'].to(device)\n",
        "            data_inputs['label'] = data_inputs['label'].to(device)\n",
        "\n",
        "            preds = model(data_inputs)\n",
        "            preds = preds.squeeze(dim=1)\n",
        "            preds = torch.sigmoid(preds)  # Sigmoid to map predictions between 0 and 1\n",
        "            pred_labels = (preds >= 0.5).long()  # Binarize predictions to 0 and 1\n",
        "\n",
        "            preds_list.extend(preds.cpu().tolist())\n",
        "            target_list.extend(data_inputs['label'].cpu().tolist())\n",
        "\n",
        "            # Keep records of predictions for the accuracy metric (true_preds=TP+TN, num_preds=TP+TN+FP+FN)\n",
        "            true_preds += (pred_labels == data_inputs['label']).sum().item()\n",
        "            num_preds += batch_size\n",
        "\n",
        "    auc_roc = roc_auc_score(target_list, preds_list)\n",
        "    print(\"AUC-ROC metric score: {:.4f}\".format(auc_roc))\n",
        "\n",
        "    acc = true_preds / num_preds\n",
        "    print(f\"Accuracy of the model: {100.0 * acc:.2f}%\")\n"
      ],
      "metadata": {
        "id": "k0YNQB1_2jq2"
      },
      "execution_count": null,
      "outputs": []
    },
    {
      "cell_type": "code",
      "source": [
        "eval_model(model, test_loader)"
      ],
      "metadata": {
        "id": "-uPxcP6sMygg"
      },
      "execution_count": null,
      "outputs": []
    },
    {
      "cell_type": "code",
      "source": [],
      "metadata": {
        "id": "Fi9mhKVrTKKu"
      },
      "execution_count": null,
      "outputs": []
    }
  ]
}