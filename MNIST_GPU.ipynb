{
  "nbformat": 4,
  "nbformat_minor": 0,
  "metadata": {
    "colab": {
      "provenance": [],
      "gpuType": "T4",
      "authorship_tag": "ABX9TyN1v6mWj+GU5FvwqSV/+8rD",
      "include_colab_link": true
    },
    "kernelspec": {
      "name": "python3",
      "display_name": "Python 3"
    },
    "language_info": {
      "name": "python"
    },
    "accelerator": "GPU"
  },
  "cells": [
    {
      "cell_type": "markdown",
      "metadata": {
        "id": "view-in-github",
        "colab_type": "text"
      },
      "source": [
        "<a href=\"https://colab.research.google.com/github/ShounakDas101/AIML_Hari/blob/main/MNIST_GPU.ipynb\" target=\"_parent\"><img src=\"https://colab.research.google.com/assets/colab-badge.svg\" alt=\"Open In Colab\"/></a>"
      ]
    },
    {
      "cell_type": "code",
      "execution_count": 1,
      "metadata": {
        "id": "wi5lQmlDdcLp"
      },
      "outputs": [],
      "source": [
        "import os\n",
        "import requests\n",
        "import numpy as np\n",
        "import torch\n",
        "import torch.nn as nn\n",
        "from torch.autograd import Variable\n",
        "from torch.utils.data import DataLoader\n",
        "import pandas as pd\n",
        "from sklearn.model_selection import train_test_split\n",
        "import seaborn as sns\n",
        "\n",
        "import matplotlib.pyplot as plt"
      ]
    },
    {
      "cell_type": "code",
      "source": [
        "# clearing cuda cache memory\n",
        "import gc\n",
        "torch.cuda.empty_cache()\n",
        "gc.collect()"
      ],
      "metadata": {
        "colab": {
          "base_uri": "https://localhost:8080/"
        },
        "id": "k2yFd86neMIU",
        "outputId": "aee3df78-9242-4e30-9aea-6f9183df8d18"
      },
      "execution_count": 2,
      "outputs": [
        {
          "output_type": "execute_result",
          "data": {
            "text/plain": [
              "0"
            ]
          },
          "metadata": {},
          "execution_count": 2
        }
      ]
    },
    {
      "cell_type": "code",
      "source": [
        "from google.colab import drive\n",
        "drive.mount(\"/content/drive\")\n",
        "# dataset directory\n",
        "# this directory contains all the datasets related for ML4SCI tests.\n",
        "os.listdir(\"/content/drive/MyDrive/MyAIML/input\")"
      ],
      "metadata": {
        "colab": {
          "base_uri": "https://localhost:8080/"
        },
        "id": "SNVA7uSceOKe",
        "outputId": "fc1f7a4d-65a5-4f13-8da3-a57f0a5cccce"
      },
      "execution_count": 3,
      "outputs": [
        {
          "output_type": "stream",
          "name": "stdout",
          "text": [
            "Mounted at /content/drive\n"
          ]
        },
        {
          "output_type": "execute_result",
          "data": {
            "text/plain": [
              "['fashion-mnist_test.csv',\n",
              " 'fashion-mnist_train.csv.zip',\n",
              " 'fashion-mnist_test.csv.zip',\n",
              " 'fashion-mnist_train.csv']"
            ]
          },
          "metadata": {},
          "execution_count": 3
        }
      ]
    },
    {
      "cell_type": "code",
      "source": [
        "# Read the CSV file into a Pandas DataFrame\n",
        "train = pd.read_csv(\"/content/drive/MyDrive/MyAIML/input/fashion-mnist_train.csv\", dtype = np.float32)\n",
        "test = pd.read_csv(\"/content/drive/MyDrive/MyAIML/input/fashion-mnist_test.csv\", dtype = np.float32)"
      ],
      "metadata": {
        "id": "VVwwBz32jkAH"
      },
      "execution_count": 4,
      "outputs": []
    },
    {
      "cell_type": "code",
      "source": [
        "#set the device\n",
        "device = torch.device(\"cuda:0\" if torch.cuda.is_available() else \"cpu\")\n",
        "print(device)"
      ],
      "metadata": {
        "colab": {
          "base_uri": "https://localhost:8080/"
        },
        "id": "0vYSMGVqmMCU",
        "outputId": "88bfaa51-6b9d-46ec-91ba-12bc9ccc9d57"
      },
      "execution_count": 5,
      "outputs": [
        {
          "output_type": "stream",
          "name": "stdout",
          "text": [
            "cuda:0\n"
          ]
        }
      ]
    },
    {
      "cell_type": "code",
      "source": [
        "y_train = train['label'] # extracts the column labeled \"label\" from the train DataFrame.\n",
        "# drops the \"label\" column from the train DataFrame along the horizontal axis (axis=1).\n",
        "# /255 is to mormalize data\n",
        "X_train = train.drop(labels = ['label'], axis = 1)/255\n",
        "X_test = test.drop(labels = ['label'], axis = 1)/255\n",
        "\n",
        "\n",
        "features_train, features_test, targets_train, targets_test = train_test_split(X_train,\n",
        "                                                                             y_train,\n",
        "                                                                             test_size = 0.2,\n",
        "                                                                             random_state = 42)\n",
        "\n",
        "\n",
        "# put the data to gpu(the device we set)\n",
        "featuresTrain = torch.from_numpy(features_train.values).to(device)\n",
        "targetsTrain = torch.from_numpy(targets_train.values).type(torch.LongTensor).to(device) # data type is long\n",
        "\n",
        "# create feature and targets tensor for test set.\n",
        "featuresTest = torch.from_numpy(features_test.values).to(device)\n",
        "targetsTest = torch.from_numpy(targets_test.values).type(torch.LongTensor).to(device) # data type is long\n",
        "\n",
        "\n",
        "X_Test = torch.from_numpy(X_test.values)\n",
        "\n",
        "batch_size = 100\n",
        "n_iters = 14000\n",
        "num_epochs = n_iters / (len(features_train) / batch_size)\n",
        "num_epochs = int(num_epochs)\n",
        "print(num_epochs)\n",
        "\n",
        "\n",
        "\n",
        "train = torch.utils.data.TensorDataset(featuresTrain,targetsTrain)\n",
        "test = torch.utils.data.TensorDataset(featuresTest,targetsTest)\n",
        "\n",
        "# data loader: set shuffle = true\n",
        "train_loader = DataLoader(train, batch_size = batch_size, shuffle = True)\n",
        "test_loader = DataLoader(test, batch_size = batch_size, shuffle = True)\n",
        "\n",
        "\n",
        "class ANNModel(nn.Module):\n",
        "\n",
        "    def __init__(self, input_dim, hidden_dim, output_dim):\n",
        "        super(ANNModel, self).__init__()\n",
        "\n",
        "        # Linear function 1: 784 --> 150\n",
        "        self.fc1 = nn.Linear(input_dim, hidden_dim)\n",
        "        # Non-linearity 1\n",
        "        self.relu1 = nn.ReLU()\n",
        "\n",
        "        # Linear function 2: 150 --> 150\n",
        "        self.fc2 = nn.Linear(hidden_dim, hidden_dim)\n",
        "        # Non-linearity 2\n",
        "        self.tanh2 = nn.Tanh()\n",
        "\n",
        "        # Linear function 3: 150 --> 150\n",
        "        self.fc3 = nn.Linear(hidden_dim, hidden_dim)\n",
        "        # Non-linearity 3\n",
        "        self.elu3 = nn.ELU()\n",
        "\n",
        "        # Linear function 4 (readout): 150 --> 10\n",
        "        self.fc4 = nn.Linear(hidden_dim, output_dim)\n",
        "\n",
        "    def forward(self, x):\n",
        "        # Linear function 1\n",
        "        out = self.fc1(x)\n",
        "        # Non-linearity 1\n",
        "        out = self.relu1(out)\n",
        "\n",
        "        # Linear function 2\n",
        "        out = self.fc2(out)\n",
        "        # Non-linearity 2\n",
        "        out = self.tanh2(out)\n",
        "\n",
        "        # Linear function 2\n",
        "        out = self.fc3(out)\n",
        "        # Non-linearity 2\n",
        "        out = self.elu3(out)\n",
        "\n",
        "        # Linear function 4 (readout)\n",
        "        out = self.fc4(out)\n",
        "        return out\n",
        "\n",
        "input_dim = 28*28\n",
        "hidden_dim = 28*28*2 + 1\n",
        "output_dim = 10\n",
        "\n",
        "# put the model to gpu\n",
        "model = ANNModel(input_dim, hidden_dim, output_dim).to(device)\n",
        "\n",
        "error = nn.CrossEntropyLoss()\n",
        "\n",
        "learning_rate = 0.02\n",
        "optimizer = torch.optim.SGD(model.parameters(), lr=learning_rate)\n",
        "\n",
        "\n",
        "\n",
        "\n",
        "# ANN model training\n",
        "count = 0\n",
        "loss_list = []\n",
        "iteration_list = []\n",
        "accuracy_list = []\n",
        "for epoch in range(num_epochs):\n",
        "    for i, (images, labels) in enumerate(train_loader):\n",
        "\n",
        "        #Variable --> cuda\n",
        "        train = Variable(images.view(-1, 28*28)).cuda()\n",
        "        labels = Variable(labels).cuda()\n",
        "\n",
        "        optimizer.zero_grad()\n",
        "\n",
        "        outputs = model(train)\n",
        "\n",
        "        loss = error(outputs, labels)\n",
        "\n",
        "        loss.backward()\n",
        "\n",
        "        optimizer.step()\n",
        "\n",
        "        count += 1\n",
        "\n",
        "        if count % 50 == 0:\n",
        "\n",
        "            correct = 0\n",
        "            total = 0\n",
        "\n",
        "            for images, labels in test_loader:\n",
        "\n",
        "                test = Variable(images.view(-1, 28*28))\n",
        "\n",
        "                outputs = model(test)\n",
        "\n",
        "                predicted = torch.max(outputs.data, 1)[1]\n",
        "\n",
        "                total += len(labels)\n",
        "\n",
        "                correct += (predicted == labels).sum()\n",
        "\n",
        "            accuracy = 100 * correct / float(total)\n",
        "\n",
        "            loss_list.append(loss.data)\n",
        "            iteration_list.append(count)\n",
        "            accuracy_list.append(accuracy)\n",
        "        if count % 500 == 0:\n",
        "            # Print Loss\n",
        "            print('Iteration: {}  Loss: {}  Accuracy: {} %'.format(count, loss.data, accuracy))\n",
        "\n",
        "\n",
        "\n",
        "\n",
        "output = model(test)\n",
        "\n",
        "predicted = torch.max(outputs.data, 1)[1]\n",
        "\n",
        "predicted_numpy = predicted.data.cpu().numpy()\n",
        "\n",
        "output = pd.Series(predicted_numpy, name=\"Label\")\n",
        "\n",
        "submission = pd.concat([pd.Series(range(1,10001), name = \"ImageId\"), output], axis = 1)"
      ],
      "metadata": {
        "colab": {
          "base_uri": "https://localhost:8080/"
        },
        "id": "yzorcUd5d9tW",
        "outputId": "a260eb73-7b4e-4f2c-e2ac-853241fc9786"
      },
      "execution_count": 6,
      "outputs": [
        {
          "output_type": "stream",
          "name": "stdout",
          "text": [
            "29\n",
            "Iteration: 500  Loss: 0.6163017749786377  Accuracy: 74.14166259765625 %\n",
            "Iteration: 1000  Loss: 0.6156318783760071  Accuracy: 79.81666564941406 %\n",
            "Iteration: 1500  Loss: 0.5288286805152893  Accuracy: 82.03333282470703 %\n",
            "Iteration: 2000  Loss: 0.42523711919784546  Accuracy: 83.51666259765625 %\n",
            "Iteration: 2500  Loss: 0.5225428342819214  Accuracy: 83.80833435058594 %\n",
            "Iteration: 3000  Loss: 0.49648529291152954  Accuracy: 83.79166412353516 %\n",
            "Iteration: 3500  Loss: 0.20887860655784607  Accuracy: 84.83333587646484 %\n",
            "Iteration: 4000  Loss: 0.4253695607185364  Accuracy: 82.38333129882812 %\n",
            "Iteration: 4500  Loss: 0.3630848228931427  Accuracy: 85.24166870117188 %\n",
            "Iteration: 5000  Loss: 0.4081645607948303  Accuracy: 84.93333435058594 %\n",
            "Iteration: 5500  Loss: 0.3039710521697998  Accuracy: 86.36666870117188 %\n",
            "Iteration: 6000  Loss: 0.33326759934425354  Accuracy: 86.59166717529297 %\n",
            "Iteration: 6500  Loss: 0.3308435380458832  Accuracy: 86.67499542236328 %\n",
            "Iteration: 7000  Loss: 0.4387902319431305  Accuracy: 86.5999984741211 %\n",
            "Iteration: 7500  Loss: 0.469691663980484  Accuracy: 87.24166870117188 %\n",
            "Iteration: 8000  Loss: 0.31472182273864746  Accuracy: 87.28333282470703 %\n",
            "Iteration: 8500  Loss: 0.338491827249527  Accuracy: 87.42499542236328 %\n",
            "Iteration: 9000  Loss: 0.4188544452190399  Accuracy: 87.49166870117188 %\n",
            "Iteration: 9500  Loss: 0.35858574509620667  Accuracy: 87.71666717529297 %\n",
            "Iteration: 10000  Loss: 0.2577817142009735  Accuracy: 87.76666259765625 %\n",
            "Iteration: 10500  Loss: 0.31838107109069824  Accuracy: 88.00833129882812 %\n",
            "Iteration: 11000  Loss: 0.26547056436538696  Accuracy: 87.25833129882812 %\n",
            "Iteration: 11500  Loss: 0.31646737456321716  Accuracy: 88.0 %\n",
            "Iteration: 12000  Loss: 0.22127129137516022  Accuracy: 88.16666412353516 %\n",
            "Iteration: 12500  Loss: 0.36125195026397705  Accuracy: 88.06666564941406 %\n",
            "Iteration: 13000  Loss: 0.3585740625858307  Accuracy: 88.38333129882812 %\n",
            "Iteration: 13500  Loss: 0.244145005941391  Accuracy: 88.59166717529297 %\n"
          ]
        }
      ]
    }
  ]
}